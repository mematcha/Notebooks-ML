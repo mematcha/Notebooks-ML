{
 "cells": [
  {
   "cell_type": "markdown",
   "metadata": {},
   "source": [
    "# Introduction to Linear Algebra \n",
    "\n",
    "<div align=\"right\">By Gilbert Strang</div>"
   ]
  },
  {
   "cell_type": "markdown",
   "metadata": {},
   "source": [
    "### Contents"
   ]
  },
  {
   "cell_type": "markdown",
   "metadata": {},
   "source": [
    "| Chapter | Section | Topic |\n",
    "|---|---|---|\n",
    "| 1 | 1.1 | Vectors and Linear Combinations |\n",
    "| 1 | 1.2 | Lengths and Dot Products |\n",
    "| 1 | 1.3 | Matrices |\n",
    "| 2 | 2.1 | Vectors and Linear Equations |\n",
    "| 2 | 2.2 | The Idea of Elimination |\n",
    "| 2 | 2.3 | Elimination Using Matrices |\n",
    "| 2 | 2.4 | Rules for Matrix Operations |\n",
    "| 2 | 2.5 | Inverse Matrices |\n",
    "| 2 | 2.6 | Elimination = Factorization: A=LU |\n",
    "| 2 | 2.7 | Transposes and Permutations |\n",
    "| 3 | 3.1 | Spaces of Vectors |\n",
    "| 3 | 3.2 | The Nullspace of A: Solving Ax=0 |\n",
    "| 3 | 3.3 | The Rank and the Row Reduced Form |\n",
    "| 3 | 3.4 | The Complete Solution to Ax=b |\n",
    "| 3 | 3.5 | Independence, Basis and Dimension |\n",
    "| 3 | 3.6 | Dimensions of the Four Subspaces |\n",
    "| 4 | 4.1 | Orthogonality of the Four Subspaces |\n",
    "| 4 | 4.2 | Projections |\n",
    "| 4 | 4.3 | Least Squares Approximations |\n",
    "| 4 | 4.4 | Orthogonal Bases and Gram-Schmidt |\n",
    "| 5 | 5.1 | The Properties of Determinants |\n",
    "| 5 | 5.2 | Permutations and Cofactors |\n",
    "| 5 | 5.3 | Cramer's Rule, Inverses, and Volumes |\n",
    "| 6 | 6.1 | Introduction to Eigenvalues |\n",
    "| 6 | 6.2 | Diagonalizing a Matrix |\n",
    "| 6 | 6.3 | Applications to Differential Equations |\n",
    "| 6 | 6.4 | Symmetric Matrices |\n",
    "| 6 | 6.5 | Positive Definite Matrices |\n",
    "| 6 | 6.6 | Similar Matrices |\n",
    "| 6 | 6.7 | Singular Value Decomposition (SVD) |\n",
    "| 7 | 7.1 | The Idea of a Linear Transformation |\n",
    "| 7 | 7.2 | The Matrix of a Linear Transformation |\n",
    "| 7 | 7.3 | Diagonalization and the Pseudoinverse |\n",
    "| 8 | 8.1 | Matrices in Engineering |\n",
    "| 8 | 8.2 | Graphs and Networks |\n",
    "| 8 | 8.3 | Markov Matrices, Population, and Economics |\n",
    "| 8 | 8.4 | Linear Programming |\n",
    "| 8 | 8.5 | Fourier Series: Linear Algebra for Functions |\n",
    "| 8 | 8.6 | Linear Algebra for Statistics and Probability |\n",
    "| 8 | 8.7 | Computer Graphics |\n",
    "| 9 | 9.1 | Gaussian Elimination in Practice |\n",
    "| 9 | 9.2 | Norms and Condition Numbers |\n",
    "| 9 | 9.3 | Iterative Methods and Preconditioners |\n",
    "| 10 | 10.1 | Complex Numbers |\n",
    "| 10 | 10.2 | Hermitian and Unitary Matrices |\n",
    "| 10 | 10.3 | The Fast Fourier Transform |"
   ]
  },
  {
   "cell_type": "markdown",
   "metadata": {},
   "source": [
    "## Introduction to Vectors"
   ]
  },
  {
   "cell_type": "markdown",
   "metadata": {},
   "source": [
    "The heart of linear algebra is in two operations-both with vectors. We add vectors to get\n",
    "v + w. We multiply them by numbers c and d to get cv and d w. Combining those two\n",
    "operations (adding cv to d w) gives the linear combination cv + d w."
   ]
  },
  {
   "cell_type": "markdown",
   "metadata": {},
   "source": [
    "## Solving Linear Equations"
   ]
  },
  {
   "cell_type": "markdown",
   "metadata": {},
   "source": [
    "## Vector Spaces and Subspaces"
   ]
  },
  {
   "cell_type": "markdown",
   "metadata": {},
   "source": [
    "##  Orthogonality"
   ]
  },
  {
   "cell_type": "markdown",
   "metadata": {},
   "source": [
    "##  Determinants"
   ]
  },
  {
   "cell_type": "markdown",
   "metadata": {},
   "source": [
    "## Eigenvalues and Eigenvectors"
   ]
  },
  {
   "cell_type": "markdown",
   "metadata": {},
   "source": [
    "##  Linear Transformations"
   ]
  },
  {
   "cell_type": "markdown",
   "metadata": {},
   "source": [
    "##  Applications"
   ]
  },
  {
   "cell_type": "markdown",
   "metadata": {},
   "source": [
    "## Numerical Linear Algebra"
   ]
  },
  {
   "cell_type": "markdown",
   "metadata": {},
   "source": [
    "## Complex Vectors and Matrices"
   ]
  },
  {
   "cell_type": "markdown",
   "metadata": {},
   "source": []
  }
 ],
 "metadata": {
  "kernelspec": {
   "display_name": "base",
   "language": "python",
   "name": "python3"
  },
  "language_info": {
   "codemirror_mode": {
    "name": "ipython",
    "version": 3
   },
   "file_extension": ".py",
   "mimetype": "text/x-python",
   "name": "python",
   "nbconvert_exporter": "python",
   "pygments_lexer": "ipython3",
   "version": "3.11.5"
  },
  "orig_nbformat": 4
 },
 "nbformat": 4,
 "nbformat_minor": 2
}
