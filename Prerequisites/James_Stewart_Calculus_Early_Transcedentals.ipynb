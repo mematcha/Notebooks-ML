{
 "cells": [
  {
   "cell_type": "markdown",
   "metadata": {},
   "source": [
    "# Calculus - Early Transcedentals\n",
    "<div align=\"right\">By James Stewart</div>"
   ]
  },
  {
   "cell_type": "markdown",
   "metadata": {},
   "source": [
    "My goal while writing this notebook is to bring the reader a quck, easier understanding to calculus, through which we can better make sense of what happens under the hood of majority of the machine learning algorithms and techniques. \n",
    "\n",
    "This notebook will breeze through chapters necessary for understanding Machine Learning Concepts and might ignore chapters which will be covered later on."
   ]
  },
  {
   "cell_type": "markdown",
   "metadata": {},
   "source": [
    "### Reference Pages"
   ]
  },
  {
   "cell_type": "markdown",
   "metadata": {},
   "source": [
    "// Write all formulas from their pages over here."
   ]
  },
  {
   "cell_type": "markdown",
   "metadata": {},
   "source": [
    "### Contents"
   ]
  },
  {
   "cell_type": "markdown",
   "metadata": {},
   "source": [
    "| **Functions and Models** | **Limits and Derivatives** | **Differentiation Rules** |\n",
    "|---|---|---|\n",
    "| **Applications of Differentiation**  | **Integrals** | **Applications of Integration** |\n",
    "| **Techniques of Integration** | **Further Applications of Integration** | **Differential Equations** |\n",
    "| **Parametric Equations and Polar Coordinates** | **Infinite Sequences and Series** | **Vectors and the Geometry of Space** |\n",
    "| **Vector Functions** | **Partial Derivatives** | **Multiple Integrals** |\n",
    "| **Vector Calculus** | **Second-Order Differential Equations** | **Appendixes** |"
   ]
  },
  {
   "cell_type": "markdown",
   "metadata": {},
   "source": []
  },
  {
   "cell_type": "markdown",
   "metadata": {},
   "source": [
    "### A Preview of Calculus"
   ]
  },
  {
   "cell_type": "markdown",
   "metadata": {},
   "source": [
    "- The Area Problem is the Central problem in the branch of Calculus, called **Integral Calculus**.\n",
    "- The Tangent Problem is central to a different branch of Calculus called **Differential Calculus**.\n",
    "- Differential Calculus, was not invented until more than 2000 years after Integral Calculus. \n",
    "- Major Mathematicians in this field include -- Pierre Fermat(1601-1665), John Wallis(1616-1703), Issac Barrow(1630-1677), Isaac Newton(1642-1727) and Gottfried Leibnitz(1646-1716). \n",
    "- The area problem and the Tangential Problem, even though considered different in nature, were actually just inverse to each other in fact."
   ]
  },
  {
   "cell_type": "markdown",
   "metadata": {},
   "source": [
    "- Limit of a Sequence"
   ]
  },
  {
   "cell_type": "markdown",
   "metadata": {},
   "source": [
    "$$\\lim_{n\\to\\infty} a_n = L$$"
   ]
  },
  {
   "cell_type": "markdown",
   "metadata": {},
   "source": []
  },
  {
   "cell_type": "markdown",
   "metadata": {},
   "source": [
    "## Functions and Models"
   ]
  },
  {
   "cell_type": "markdown",
   "metadata": {},
   "source": [
    "A function $f$ is a rule that assigns to each element in a set $D$ exactly one element,\n",
    "called $f(x)$, in a set $E$."
   ]
  },
  {
   "cell_type": "markdown",
   "metadata": {},
   "source": [
    "We usually consider functions for which the sets $D$ and $E$ are sets of real numbers. The\n",
    "set $D$ is called the domain of the function. The number $f(x)$ is the value of $f$ at $x$ and is\n",
    "read “$f$ of $x$.” The range of $f$ is the set of all possible values of $f(x)$ as $x$ varies throughout the domain."
   ]
  },
  {
   "cell_type": "markdown",
   "metadata": {},
   "source": [
    "- A symbol that represents an arbitrary number in the domain of a function\n",
    "is called an **independent variable**. \n",
    "- A symbol that represents a number in the range of\n",
    "a function is called a **dependent variable**."
   ]
  },
  {
   "cell_type": "markdown",
   "metadata": {},
   "source": [
    "### Four Ways to Represent a Function\n"
   ]
  },
  {
   "cell_type": "markdown",
   "metadata": {},
   "source": [
    "There are four possible ways to represent a function:\n",
    "- verbally (by a description in words)\n",
    "- numerically (by a table of values)\n",
    "-  visually (by a graph)\n",
    "- algebraically (by an explicit formula)"
   ]
  },
  {
   "cell_type": "markdown",
   "metadata": {},
   "source": [
    "> **The Vertical Line Test**: A curve in the xy-plane is the graph of a function of if and\n",
    "only if no vertical line intersects the curve more than once."
   ]
  },
  {
   "cell_type": "markdown",
   "metadata": {},
   "source": [
    "Piecewise Defined Functions\n",
    "\n",
    "$$f(x) = \\begin{cases}\n",
    "1 & \\text{if } x < 1 \\\\\n",
    "x^2 & \\text{if } x \\geq 1\n",
    "\\end{cases}$$"
   ]
  },
  {
   "cell_type": "markdown",
   "metadata": {},
   "source": [
    "Increasing and Decreasing Functions\n",
    "\n",
    "A function is called increasing on an interval $I$ if\n",
    "\n",
    "$$f(x_1) < f(x_2) \\text{ whenever } x_1 < x_2 \\text{ in } I$$\n",
    "\n",
    "It is called decreasing on $I$ if\n",
    "\n",
    "$$f(x_1) > f(x_2) \\text{ whenever } x_1 < x_2 \\text{ in } I$$"
   ]
  },
  {
   "cell_type": "markdown",
   "metadata": {},
   "source": [
    "### Mathematical Models: A Catalog of Essential Functions"
   ]
  },
  {
   "cell_type": "markdown",
   "metadata": {},
   "source": [
    "A **mathematical model** is a mathematical description (often by means of a function or an equation) of a real-world phenomenon."
   ]
  },
  {
   "attachments": {
    "image.png": {
     "image/png": "[encoded data removed]"
    }
   },
   "cell_type": "markdown",
   "metadata": {},
   "source": [
    "![image.png](attachment:image.png)"
   ]
  },
  {
   "cell_type": "markdown",
   "metadata": {},
   "source": [
    "A mathematical model is **never a completely accurate representation** of a physical situation—\n",
    "it is an **idealization**.A good model simplifies reality enough to permit mathematical\n",
    "calculations but is accurate enough to provide valuable conclusions. It is important to realize\n",
    "the limitations of the model."
   ]
  },
  {
   "cell_type": "markdown",
   "metadata": {},
   "source": [
    "When we say that y is a linear function of x, we mean that the graph of the function is a\n",
    "line."
   ]
  },
  {
   "cell_type": "markdown",
   "metadata": {},
   "source": [
    "If there is no physical law or principle to help us formulate a model, we construct an\n",
    "**empirical model**, which is based entirely on collected data. We seek a curve that “fits” the\n",
    "data in the sense that it captures the basic trend of the data points."
   ]
  },
  {
   "cell_type": "markdown",
   "metadata": {},
   "source": [
    "A function is called a polynomial if\n",
    "\n",
    "$$f(x) = a_n x^n + a_{n-1} x^{n-1} + \\cdots + a_2 x^2 + a_1 x + a_0$$\n",
    "\n",
    "where $n$ is a nonnegative integer and the numbers $a_n, a_{n-1}, \\ldots, a_2, a_1, a_0$ are constants called the\n",
    "coefficients of the polynomial. The domain of any polynomial is $\\mathbb{R}$. If the\n",
    "leading coefficient $a_n \\neq 0$, then the degree of the polynomial is $n$."
   ]
  },
  {
   "cell_type": "markdown",
   "metadata": {},
   "source": [
    "A **rational function** is a ratio of two polynomials:\n",
    "\n",
    "$$f(x) = \\frac{P(x)}{Q(x)}$$"
   ]
  },
  {
   "cell_type": "markdown",
   "metadata": {},
   "source": [
    "A function is called an **algebraic function** if it can be constructed using algebraic operations\n",
    "(such as addition, subtraction, multiplication, division, and taking roots) starting with\n",
    "polynomials."
   ]
  },
  {
   "cell_type": "markdown",
   "metadata": {},
   "source": []
  },
  {
   "cell_type": "markdown",
   "metadata": {},
   "source": [
    "### New Functions from Old Functions"
   ]
  },
  {
   "cell_type": "markdown",
   "metadata": {},
   "source": [
    "**Vertical and Horizontal Shifts**\n",
    "\n",
    "Suppose $c > 0$. \n",
    "- To obtain the graph of $y = f(x) + c$, shift the graph of $y = f(x)$ a distance $c$ units upward. \n",
    "- To obtain the graph of $y = f(x) - c$, shift the graph of $y = f(x)$ a distance $c$ units downward. \n",
    "- To obtain the graph of $y = f(x + c)$, shift the graph of $y = f(x)$ a distance $c$ units to the left. \n",
    "- To obtain the graph of $y = f(x - c)$, shift the graph of $y = f(x)$ a distance $c$ units to the right.\n",
    "\n",
    "**Stretching and Reflecting**\n",
    "\n",
    "* **Reflection about the x-axis:** $y = -f(x)$\n",
    "* **Horizontal stretch by a factor of c:** $y = f(x/c)$\n",
    "* **Horizontal shrink by a factor of c:** $y = f(cx)$\n",
    "* **Vertical shrink by a factor of c:** $y = (1/c)f(x)$\n",
    "* **Vertical stretch by a factor of c:** $y = cf(x)$\n",
    "* **Reflection about the y-axis:** $y = f(-x)$"
   ]
  },
  {
   "cell_type": "markdown",
   "metadata": {},
   "source": [
    "Two functions $f$ and $g$ can be combined to form new functions $f + g$, $f - g$, $fg$, and $\\frac{f}{g}$ in a manner similar to the way we add, subtract, multiply, and divide real numbers.\n",
    "\n",
    "**Definition of Combined Functions:**\n",
    "\n",
    "* **Sum:** $(f + g)(x) = f(x) + g(x)$\n",
    "* **Difference:** $(f - g)(x) = f(x) - g(x)$\n",
    "* **Product:** $(fg)(x) = f(x)g(x)$\n",
    "* **Quotient:** $\\left(\\frac{f}{g}\\right)(x) = \\frac{f(x)}{g(x)}$, provided $g(x) \\neq 0$\n",
    "\n",
    "**Example:**\n",
    "\n",
    "Let $f(x) = x^2$ and $g(x) = 2x + 1$. Then:\n",
    "\n",
    "* $(f + g)(x) = x^2 + 2x + 1$\n",
    "* $(f - g)(x) = x^2 - 2x - 1$\n",
    "* $(fg)(x) = x^2(2x + 1) = 2x^3 + x^2$\n",
    "* $\\left(\\frac{f}{g}\\right)(x) = \\frac{x^2}{2x + 1}$, provided $x \\neq -\\frac{1}{2}$"
   ]
  },
  {
   "cell_type": "markdown",
   "metadata": {},
   "source": [
    "Given two functions $f$ and $g$, the composite function $(f \\circ g)(x)$, also called\n",
    "the composition of $f$ and $g$, is defined by\n",
    "\n",
    "$$(f \\circ g)(x) = f(g(x))$$\n",
    "\n",
    "**Explanation:**\n",
    "\n",
    "* The composition $(f \\circ g)(x)$ is obtained by first applying the function $g$ to the input $x$, and then applying the function $f$ to the output of $g(x)$.\n",
    "* In other words, we are plugging $g(x)$ into $f$.\n",
    "\n",
    "**Example:**\n",
    "\n",
    "Let $f(x) = x^2$ and $g(x) = 2x + 1$. Then:\n",
    "\n",
    "$$(f \\circ g)(x) = f(g(x)) = f(2x + 1) = (2x + 1)^2 = 4x^2 + 4x + 1$$"
   ]
  },
  {
   "cell_type": "markdown",
   "metadata": {},
   "source": [
    "$$e \\approx 2.71828$$"
   ]
  },
  {
   "cell_type": "markdown",
   "metadata": {},
   "source": [
    "### Inverse Functions and Logarithms"
   ]
  },
  {
   "cell_type": "markdown",
   "metadata": {},
   "source": [
    "A function is called a one-to-one function if it never takes on the\n",
    "same value twice; that is,\n",
    "\n",
    "$$f(x_1) \\neq f(x_2) \\text{ whenever } x_1 \\neq x_2$$"
   ]
  },
  {
   "cell_type": "markdown",
   "metadata": {},
   "source": [
    "Let $f$ be a one-to-one function with domain $A$ and range $B$. Then its inverse function, denoted by $f^{-1}$, has domain $B$ and range $A$, and is defined by\n",
    "\n",
    "$$f^{-1}(y) = x \\text{ if and only if } f(x) = y$$\n",
    "\n",
    "for any $y \\in B$."
   ]
  },
  {
   "cell_type": "markdown",
   "metadata": {},
   "source": [
    "**Domain of f inverse:** Range of f \n",
    "\n",
    "**Range of f inverse:**  Domain of f"
   ]
  },
  {
   "cell_type": "markdown",
   "metadata": {},
   "source": [
    "### Principles of Problem Solving"
   ]
  },
  {
   "cell_type": "markdown",
   "metadata": {},
   "source": [
    "There are no hard and fast rules that will ensure success in solving problems. However, it is\n",
    "possible to outline some general steps in the problem-solving process and to give some principles\n",
    "that may be useful in the solution of certain problems."
   ]
  },
  {
   "cell_type": "markdown",
   "metadata": {},
   "source": [
    "**1 UNDERSTAND THE PROBLEM**\n",
    "\n",
    "The first step is to read the problem and make sure that you understand it clearly. Ask yourself\n",
    "the following questions:\n",
    "\n",
    "- What is the unknown?\n",
    "- What are the given quantities?\n",
    "- What are the given conditions?"
   ]
  },
  {
   "cell_type": "markdown",
   "metadata": {},
   "source": [
    "**2 THINK OF A PLAN**\n",
    "\n",
    "- Try to Recognize Something Familiar\n",
    "- Try to Recognize Patterns\n",
    "- Use Analogy\n",
    "- Introduce Something Extra\n",
    "- Take Cases\n",
    "- Work Backward\n",
    "- Establish Subgoals\n",
    "- Indirect Reasoning\n",
    "- Mathematical Induction\n",
    "\n",
    "**Principle of Mathematical Induction**\n",
    "\n",
    "Let $P(n)$ be a statement about the positive integer $n$. Suppose that:\n",
    "\n",
    "1. $P(1)$ is true.\n",
    "2. $P(k+1)$ is true whenever $P(k)$ is true.\n",
    "\n",
    "Then $P(n)$ is true for all positive integers $n$."
   ]
  },
  {
   "cell_type": "markdown",
   "metadata": {},
   "source": [
    "**3 CARRY OUT THE PLAN**"
   ]
  },
  {
   "cell_type": "markdown",
   "metadata": {},
   "source": [
    "**4 LOOK BACK**\n",
    "\n",
    "Having completed our solution, it is wise to look back over it, partly to see if we have made\n",
    "errors in the solution and partly to see if we can think of an easier way to solve the problem.\n",
    "Another reason for looking back is that it will familiarize us with the method of solution\n",
    "and this may be useful for solving a future problem. Descartes said, “Every problem\n",
    "that I solved became a rule which served afterwards to solve other problems.”"
   ]
  },
  {
   "cell_type": "markdown",
   "metadata": {},
   "source": []
  },
  {
   "cell_type": "markdown",
   "metadata": {},
   "source": [
    "## Limits and Derivatives"
   ]
  },
  {
   "cell_type": "markdown",
   "metadata": {},
   "source": [
    "### The Tangent and Velocity Problems"
   ]
  },
  {
   "cell_type": "markdown",
   "metadata": {},
   "source": [
    "Suppose $f$ is defined when $x$ is near the number $a$. (This means\n",
    "that $f$ is defined on some open interval that contains $a$, except possibly at itself.)\n",
    "Then we write\n",
    "\n",
    "$$\\lim_{x \\to a} f(x) = L$$\n",
    "\n",
    "and say “the limit of $f(x)$, as $x$ approaches $a$, equals $L$”\n",
    "if we can make the values of $f(x)$ arbitrarily close to $L$ (as close to $L$ as we like) by\n",
    "taking $x$ to be sufficiently close to $a$ (on either side of $a$) but not equal to $a$."
   ]
  },
  {
   "cell_type": "markdown",
   "metadata": {},
   "source": [
    "We write\n",
    "\n",
    "$$\\lim_{x \\to a^-} f(x) = L$$\n",
    "\n",
    "and say the left-hand limit of $f(x)$ as $x$ approaches $a$ [or the limit of $f(x)$ as\n",
    "$x$ approaches $a$ from the left] is equal to $L$ if we can make the values of $f(x)$ arbitrarily\n",
    "close to $L$ by taking $x$ to be sufficiently close to $a$ and $x$ less than $a$."
   ]
  },
  {
   "cell_type": "markdown",
   "metadata": {},
   "source": [
    "$$\\lim_{x \\to a} f(x) = L \\quad \\text{if and only if} \\quad \\lim_{x \\to a^-} f(x) = L = \\lim_{x \\to a^+} f(x)$$"
   ]
  },
  {
   "cell_type": "markdown",
   "metadata": {},
   "source": [
    "Let $f$ be a function defined on both sides of $a$, except possibly at\n",
    "itself. Then\n",
    "\n",
    "$$\\lim_{x \\to a} f(x) = \\infty$$\n",
    "\n",
    "means that the values of $f(x)$ can be made arbitrarily large (as large as we please)\n",
    "by taking $x$ sufficiently close to $a$, but not equal to $a$."
   ]
  },
  {
   "cell_type": "markdown",
   "metadata": {},
   "source": [
    "Let $f$ be defined on both sides of $a$, except possibly at itself. Then\n",
    "\n",
    "$$\\lim_{x \\to a} f(x) = -\\infty$$\n",
    "\n",
    "means that the values of $f(x)$ can be made arbitrarily large negative by taking\n",
    "$x$ sufficiently close to $a$, but not equal to $a$."
   ]
  },
  {
   "cell_type": "markdown",
   "metadata": {},
   "source": [
    "The line $x = a$ is called a vertical asymptote of the curve $y = f(x)$\n",
    "if at least one of the following statements is true:\n",
    "\n",
    "$$\\lim_{x \\to a^-} f(x) = \\pm \\infty$$\n",
    "$$\\lim_{x \\to a^+} f(x) = \\pm \\infty$$\n",
    "$$f(a) = \\pm \\infty$$"
   ]
  },
  {
   "cell_type": "markdown",
   "metadata": {},
   "source": [
    "### Calculating Limits using the Limit Laws"
   ]
  },
  {
   "cell_type": "markdown",
   "metadata": {},
   "source": [
    "**Limit Laws**\n",
    "\n",
    "Limit laws are a set of rules that allow us to evaluate limits of functions by breaking down complex expressions into simpler pieces. These laws are essential in calculus for calculating derivatives and integrals.\n",
    "\n",
    "**Basic Limit Laws:**\n",
    "\n",
    "1. **Sum Rule:**\n",
    "   * $\\lim_{x \\to a} [f(x) + g(x)] = \\lim_{x \\to a} f(x) + \\lim_{x \\to a} g(x)$\n",
    "\n",
    "2. **Difference Rule:**\n",
    "   * $\\lim_{x \\to a} [f(x) - g(x)] = \\lim_{x \\to a} f(x) - \\lim_{x \\to a} g(x)$\n",
    "\n",
    "3. **Constant Multiple Rule:**\n",
    "   * $\\lim_{x \\to a} [c \\cdot f(x)] = c \\cdot \\lim_{x \\to a} f(x)$, where $c$ is a constant.\n",
    "\n",
    "4. **Product Rule:**\n",
    "   * $\\lim_{x \\to a} [f(x) \\cdot g(x)] = \\lim_{x \\to a} f(x) \\cdot \\lim_{x \\to a} g(x)$\n",
    "\n",
    "5. **Quotient Rule:**\n",
    "   * $\\lim_{x \\to a} \\left[\\frac{f(x)}{g(x)}\\right] = \\frac{\\lim_{x \\to a} f(x)}{\\lim_{x \\to a} g(x)}$, provided $\\lim_{x \\to a} g(x) \\neq 0$.\n",
    "\n",
    "6. **Power Rule:**\n",
    "   * $\\lim_{x \\to a} [f(x)]^n = \\left[\\lim_{x \\to a} f(x)\\right]^n$, for any positive integer $n$.\n",
    "\n",
    "**Additional Limit Laws:**\n",
    "\n",
    "* **Limit of a Constant Function:**\n",
    "   * $\\lim_{x \\to a} c = c$, where $c$ is a constant.\n",
    "\n",
    "* **Limit of the Identity Function:**\n",
    "   * $\\lim_{x \\to a} x = a$\n",
    "\n",
    "**Example:**\n",
    "\n",
    "To find the limit of $f(x) = 3x^2 + 2x - 1$ as $x$ approaches 2, we can use the limit laws:\n",
    "\n",
    "$$\\lim_{x \\to 2} (3x^2 + 2x - 1) = 3 \\cdot \\lim_{x \\to 2} x^2 + 2 \\cdot \\lim_{x \\to 2} x - \\lim_{x \\to 2} 1$$\n",
    "\n",
    "Applying the limit laws for constant functions, identity functions, and power functions, we get:\n",
    "\n",
    "$$= 3 \\cdot (2)^2 + 2 \\cdot 2 - 1 = 12 + 4 - 1 = 15$$\n",
    "\n",
    "Therefore, $\\lim_{x \\to 2} (3x^2 + 2x - 1) = 15$.\n",
    "\n",
    "**Note:** The limit laws are powerful tools for evaluating limits, but they do have limitations. For example, if the limit of the denominator is zero, the quotient rule cannot be applied directly. In such cases, other techniques, such as factoring or using L'Hôpital's Rule, may be necessary."
   ]
  },
  {
   "cell_type": "markdown",
   "metadata": {},
   "source": [
    "The Squeeze Theorem\n",
    "\n",
    "**The Squeeze Theorem** is a theorem in calculus that allows us to determine the limit of a function by comparing it to two other functions whose limits are known.\n",
    "\n",
    "**Formal Statement:**\n",
    "\n",
    "Let $f$, $g$, and $h$ be functions defined on an open interval $I$, except possibly at the point $a$. Suppose that for all $x \\in I$, $x \\neq a$, we have\n",
    "\n",
    "$$g(x) \\leq f(x) \\leq h(x)$$\n",
    "\n",
    "and also that\n",
    "\n",
    "$$\\lim_{x \\to a} g(x) = L = \\lim_{x \\to a} h(x)$$\n",
    "\n",
    "Then\n",
    "\n",
    "$$\\lim_{x \\to a} f(x) = L$$\n",
    "\n",
    "**Intuitive Explanation:**\n",
    "\n",
    "Imagine $f(x)$, $g(x)$, and $h(x)$ as three functions plotted on a graph. If $g(x)$ and $h(x)$ both approach the same limit $L$ as $x$ approaches $a$, and $f(x)$ is always squeezed between them, then $f(x)$ must also approach $L$ as $x$ approaches $a$.\n",
    "\n",
    "**Example:**\n",
    "\n",
    "To find the limit of $\\lim_{x \\to 0} x^2 \\sin(1/x)$, we can use the Squeeze Theorem. We know that $-1 \\leq \\sin(1/x) \\leq 1$ for all $x \\neq 0$. Therefore, we can multiply all three sides of this inequality by $x^2$ to get:\n",
    "\n",
    "$$-x^2 \\leq x^2 \\sin(1/x) \\leq x^2$$\n",
    "\n",
    "Now, we know that $\\lim_{x \\to 0} -x^2 = 0$ and $\\lim_{x \\to 0} x^2 = 0$. So, by the Squeeze Theorem,\n",
    "\n",
    "$$\\lim_{x \\to 0} x^2 \\sin(1/x) = 0$$\n",
    "\n",
    "**Key Points:**\n",
    "\n",
    "* The Squeeze Theorem is often useful for evaluating limits of functions that involve trigonometric functions or other oscillatory functions.\n",
    "* The key idea is to find two functions that bound the given function and whose limits are known.\n",
    "* The Squeeze Theorem can also be applied to one-sided limits."
   ]
  },
  {
   "cell_type": "markdown",
   "metadata": {},
   "source": [
    "### The Precise Definition of a Limit"
   ]
  },
  {
   "cell_type": "markdown",
   "metadata": {},
   "source": [
    "Let $f$ be a function defined on some open interval that contains the number $a$, except possibly at itself. Then we say that the limit of $f(x)$ as $x$ approaches $a$ is $L$, and we write\n",
    "\n",
    "$$\\lim_{x \\to a} f(x) = L$$\n",
    "\n",
    "if for every number $\\epsilon > 0$ there is a number $\\delta > 0$ such that\n",
    "\n",
    "$$0 < |x - a| < \\delta \\implies |f(x) - L| < \\epsilon$$"
   ]
  },
  {
   "cell_type": "markdown",
   "metadata": {},
   "source": [
    "**Definition of Left-Hand Limit**\n",
    "\n",
    "Let $f$ be a function defined on some open interval that contains the number $a$, except possibly at $a$ itself. Then we say that the left-hand limit of $f(x)$ as $x$ approaches $a$ is $L$, and we write\n",
    "\n",
    "$$\\lim_{x \\to a^-} f(x) = L$$\n",
    "\n",
    "if for every number $\\epsilon > 0$ there is a number $\\delta > 0$ such that\n",
    "\n",
    "$$a - \\delta < x < a \\implies |f(x) - L| < \\epsilon$$"
   ]
  },
  {
   "cell_type": "markdown",
   "metadata": {},
   "source": [
    "**Definition of Right-Hand Limit**\n",
    "\n",
    "Let $f$ be a function defined on some open interval that contains the number $a$, except possibly at $a$ itself. Then we say that the right-hand limit of $f(x)$ as $x$ approaches $a$ is $L$, and we write\n",
    "\n",
    "$$\\lim_{x \\to a^+} f(x) = L$$\n",
    "\n",
    "if for every number $\\epsilon > 0$ there is a number $\\delta > 0$ such that\n",
    "\n",
    "$$a < x < a + \\delta \\implies |f(x) - L| < \\epsilon$$"
   ]
  },
  {
   "cell_type": "markdown",
   "metadata": {},
   "source": [
    "### Continuity"
   ]
  },
  {
   "cell_type": "markdown",
   "metadata": {},
   "source": [
    "**Definition of Continuity**\n",
    "\n",
    "A function $f$ is continuous at a number $a$ if\n",
    "\n",
    "1. $f(a)$ is defined.\n",
    "2. $\\lim_{x \\to a} f(x)$ exists.\n",
    "3. $\\lim_{x \\to a} f(x) = f(a)$."
   ]
  },
  {
   "cell_type": "markdown",
   "metadata": {},
   "source": [
    "**Continuity from the Right and Left**\n",
    "\n",
    "A function $f$ is continuous from the right at a number $a$ if\n",
    "\n",
    "$$\\lim_{x \\to a^+} f(x) = f(a)$$\n",
    "\n",
    "and is continuous from the left at $a$ if\n",
    "\n",
    "$$\\lim_{x \\to a^-} f(x) = f(a)$$"
   ]
  },
  {
   "cell_type": "markdown",
   "metadata": {},
   "source": [
    "- A function is continuous on an interval if it is continuous at\n",
    "every number in the interval. (If f is defined only on one side of an endpoint of the\n",
    "interval, we understand continuous at the endpoint to mean continuous from the\n",
    "right or continuous from the left.)"
   ]
  },
  {
   "cell_type": "markdown",
   "metadata": {},
   "source": [
    "**Continuity of Combined Functions**\n",
    "\n",
    "If $f$ and $g$ are continuous at $a$ and $c$ is a constant, then the following functions are also continuous at $a$:\n",
    "\n",
    "1. $f + g$\n",
    "2. $f - g$\n",
    "3. $cf$\n",
    "4. $fg$\n",
    "5. $f/g$, provided $g(a) \\neq 0$"
   ]
  },
  {
   "cell_type": "markdown",
   "metadata": {},
   "source": [
    "**Theorem**\n",
    "\n",
    "(a) Any polynomial is continuous everywhere; that is, it is continuous on $\\mathbb{R}$.\n",
    "\n",
    "(b) Any rational function is continuous wherever it is defined; that is, it is continuous on its domain."
   ]
  },
  {
   "cell_type": "markdown",
   "metadata": {},
   "source": [
    "\n",
    "| Function Type | Domain | Range | Continuity |\n",
    "|---|---|---|---|\n",
    "| Polynomials | $\\mathbb{R}$ | $\\mathbb{R}$ | Continuous everywhere |\n",
    "| Rational Functions | $\\mathbb{R}$ except where denominator is 0 | $\\mathbb{R}$ | Continuous on their domain |\n",
    "| Root Functions (e.g., $\\sqrt{x}$) | $[0, \\infty)$ | $[0, \\infty)$ | Continuous on their domain |\n",
    "| Trigonometric Functions (e.g., $\\sin(x), \\cos(x)$) | $\\mathbb{R}$ | $[-1, 1]$ | Continuous everywhere |\n",
    "| Inverse Trigonometric Functions (e.g., $\\arcsin(x), \\arccos(x)$) | $[-1, 1]$ | $\\left[-\\frac{\\pi}{2}, \\frac{\\pi}{2}\\right]$ for arcsin, $\\left[0, \\pi\\right]$ for arccos | Continuous on their domain |\n",
    "| Exponential Functions (e.g., $e^x$) | $\\mathbb{R}$ | $(0, \\infty)$ | Continuous everywhere |\n",
    "| Logarithmic Functions (e.g., $\\ln(x)$) | $(0, \\infty)$ | $\\mathbb{R}$ | Continuous on their domain |"
   ]
  },
  {
   "cell_type": "markdown",
   "metadata": {},
   "source": [
    "**The Intermediate Value Theorem**\n",
    "\n",
    "Suppose that $f$ is continuous on the closed interval $[a, b]$ and let $N$ be any number between $f(a)$ and $f(b)$, where $f(a) \\neq f(b)$. Then there exists a number $c$ in $(a, b)$ such that $f(c) = N$."
   ]
  },
  {
   "cell_type": "markdown",
   "metadata": {},
   "source": [
    "### Derivatives and Rates of Change"
   ]
  },
  {
   "cell_type": "markdown",
   "metadata": {},
   "source": [
    "The tangent line to the curve $y = f(x)$ at the point $(a, f(a))$ is the line through $(a, f(a))$ with slope\n",
    "\n",
    "$$m = \\lim_{x \\to a} \\frac{f(x) - f(a)}{x - a}$$\n",
    "\n",
    "provided that this limit exists."
   ]
  },
  {
   "cell_type": "markdown",
   "metadata": {},
   "source": [
    "The derivative of a function $f$ at a number $a$, denoted by $f'(a)$, is\n",
    "\n",
    "$$f'(a) = \\lim_{h \\to 0} \\frac{f(a + h) - f(a)}{h}$$\n",
    "\n",
    "if this limit exists."
   ]
  },
  {
   "cell_type": "markdown",
   "metadata": {},
   "source": [
    "**Differentiability**\n",
    "\n",
    "A function $f$ is differentiable at $a$ if $f'(a)$ exists. It is differentiable on an open interval $(a, b)$ [or $(-\\infty, b)$ or $(a, \\infty)$ or $(-\\infty, \\infty)$] if it is differentiable at every number in the interval.\n",
    "\n",
    "If $f$ is differentiable at $a$, then $f$ is continuous at $a$."
   ]
  },
  {
   "cell_type": "markdown",
   "metadata": {},
   "source": [
    "## Differention Rules"
   ]
  },
  {
   "cell_type": "markdown",
   "metadata": {},
   "source": [
    "### Formulas"
   ]
  },
  {
   "cell_type": "markdown",
   "metadata": {},
   "source": [
    "\n",
    "* **Constant Function:**\n",
    "  * $f(x) = c$\n",
    "  * $f'(x) = 0$\n",
    "\n",
    "* **Power Rule:**\n",
    "  * $f(x) = x^n$\n",
    "  * $f'(x) = nx^{n-1}$\n",
    "\n",
    "* **Sum Rule:**\n",
    "  * $f(x) = g(x) + h(x)$\n",
    "  * $f'(x) = g'(x) + h'(x)$\n",
    "\n",
    "* **Difference Rule:**\n",
    "  * $f(x) = g(x) - h(x)$\n",
    "  * $f'(x) = g'(x) - h'(x)$\n",
    "\n",
    "* **Constant Multiple Rule:**\n",
    "  * $f(x) = c \\cdot g(x)$\n",
    "  * $f'(x) = c \\cdot g'(x)$\n",
    "\n",
    "* **Product Rule:**\n",
    "  * $f(x) = g(x) \\cdot h(x)$\n",
    "  * $f'(x) = g'(x) \\cdot h(x) + g(x) \\cdot h'(x)$\n",
    "\n",
    "* **Quotient Rule:**\n",
    "  * $f(x) = \\frac{g(x)}{h(x)}$\n",
    "  * $f'(x) = \\frac{g'(x) \\cdot h(x) - g(x) \\cdot h'(x)}{[h(x)]^2}$\n",
    "\n",
    "* **Chain Rule:**\n",
    "  * $f(x) = g(h(x))$\n",
    "  * $f'(x) = g'(h(x)) \\cdot h'(x)$\n",
    "\n",
    "* **Exponential Function:**\n",
    "  * $f(x) = e^x$\n",
    "  * $f'(x) = e^x$\n",
    "\n",
    "* **Natural Logarithm:**\n",
    "  * $f(x) = \\ln(x)$\n",
    "  * $f'(x) = \\frac{1}{x}$\n",
    "\n",
    "* **Sine Function:**\n",
    "  * $f(x) = \\sin(x)$\n",
    "  * $f'(x) = \\cos(x)$\n",
    "\n",
    "* **Cosine Function:**\n",
    "  * $f(x) = \\cos(x)$\n",
    "  * $f'(x) = -\\sin(x)$\n",
    "\n",
    "* **Tangent Function:**\n",
    "  * $f(x) = \\tan(x)$\n",
    "  * $f'(x) = \\sec^2(x)$\n",
    "\n",
    "* **Cosecant Function:**\n",
    "  * $f(x) = \\csc(x)$\n",
    "  * $f'(x) = -\\csc(x) \\cot(x)$\n",
    "\n",
    "* **Secant Function:**\n",
    "  * $f(x) = \\sec(x)$\n",
    "  * $f'(x) = \\sec(x) \\tan(x)$\n",
    "\n",
    "* **Cotangent Function:**\n",
    "  * $f(x) = \\cot(x)$\n",
    "  * $f'(x) = -\\csc^2(x)$\n",
    "\n",
    "#### Inverse Trigonometric Derivatives\n",
    "\n",
    "* **Arcsine:**\n",
    "  * $\\frac{d}{dx} \\arcsin(x) = \\frac{1}{\\sqrt{1 - x^2}}$\n",
    "  * Domain: $[-1, 1]$\n",
    "  * Range: $\\left[-\\frac{\\pi}{2}, \\frac{\\pi}{2}\\right]$\n",
    "\n",
    "* **Arccosine:**\n",
    "  * $\\frac{d}{dx} \\arccos(x) = -\\frac{1}{\\sqrt{1 - x^2}}$\n",
    "  * Domain: $[-1, 1]$\n",
    "  * Range: $\\left[0, \\pi\\right]$\n",
    "\n",
    "* **Arctangent:**\n",
    "  * $\\frac{d}{dx} \\arctan(x) = \\frac{1}{1 + x^2}$\n",
    "  * Domain: $\\mathbb{R}$\n",
    "  * Range: $\\left(-\\frac{\\pi}{2}, \\frac{\\pi}{2}\\right)$\n",
    "\n",
    "\n",
    "* **Arcsecant:**\n",
    "  * $\\frac{d}{dx} \\sec^{-1}(x) = \\frac{1}{|x|\\sqrt{x^2 - 1}}$\n",
    "  * Domain: $(-\\infty, -1] \\cup [1, \\infty)$\n",
    "  * Range: $\\left[0, \\frac{\\pi}{2}\\right) \\cup \\left(\\frac{\\pi}{2}, \\pi\\right]$\n",
    "\n",
    "* **Arccotangent:**\n",
    "  * $\\frac{d}{dx} \\cot^{-1}(x) = -\\frac{1}{1 + x^2}$\n",
    "  * Domain: $\\mathbb{R}$\n",
    "  * Range: $\\left(0, \\pi\\right)$\n",
    "\n",
    "#### Hyperbolic Function Derivatives\n",
    "\n",
    "* **Sinh:** $\\frac{d}{dx} \\sinh(x) = \\cosh(x)$\n",
    "* **Cosh:** $\\frac{d}{dx} \\cosh(x) = \\sinh(x)$\n",
    "* **Tanh:** $\\frac{d}{dx} \\tanh(x) = sech^2(x)$\n",
    "* **Coth:** $\\frac{d}{dx} \\coth(x) = -csch^2(x)$\n",
    "* **Sech:** $\\frac{d}{dx} sech(x) = -sech(x) \\tanh(x)$\n",
    "* **Csch:** $\\frac{d}{dx} csch(x) = -csch(x) \\coth(x)$"
   ]
  },
  {
   "cell_type": "markdown",
   "metadata": {},
   "source": [
    "### Implicit Differentiation"
   ]
  },
  {
   "cell_type": "markdown",
   "metadata": {},
   "source": [
    "Implicit differentiation is a technique used to find the derivative of a function defined implicitly by an equation. This means the function is not explicitly written as y=f(x), but rather as an equation involving both x and y."
   ]
  },
  {
   "cell_type": "markdown",
   "metadata": {},
   "source": [
    "### Linear Approximations and Differentials"
   ]
  },
  {
   "cell_type": "markdown",
   "metadata": {},
   "source": [
    "Linear approximation is a technique used to estimate the value of a function near a specific point using the tangent line to the function at that point. This is particularly useful when the function is difficult to evaluate directly.\n",
    "\n",
    "The equation of the tangent line to the curve y=f(x) at the point (a,f(a)) is given by:\n",
    "\n",
    "y−f(a)=f \n",
    "′\n",
    " (a)(x−a)\n",
    "\n",
    "The linear approximation of f(x) near x=a is then:\n",
    "\n",
    "L(x)=f(a)+f \n",
    "′\n",
    " (a)(x−a)"
   ]
  },
  {
   "cell_type": "markdown",
   "metadata": {},
   "source": [
    "The ideas behind linear approximations are sometimes formulated in the terminology and notation of differentials. If $y = f(x)$, where $f$ is a differentiable function, then the differential $dx$ is an independent variable; that is, $dx$ can be given the value of any real number.\n",
    "\n",
    "The differential $dy$ is then defined in terms of $dx$ by the equation\n",
    "\n",
    "$$dy = f'(x) \\, dx$$"
   ]
  },
  {
   "cell_type": "markdown",
   "metadata": {},
   "source": [
    "## Applications of Differentiation"
   ]
  },
  {
   "cell_type": "markdown",
   "metadata": {},
   "source": [
    "I am not going to cover all the topics. I would covering what I feel is necessary for our ultimate goal."
   ]
  },
  {
   "cell_type": "markdown",
   "metadata": {},
   "source": [
    "### Mean Value Theorem"
   ]
  },
  {
   "cell_type": "markdown",
   "metadata": {},
   "source": [
    "Let f be a function that satisfies the following three hypotheses:\n",
    "\n",
    "- f is continuous on the closed interval [a,b].\n",
    "- f is differentiable on the open interval (a,b).  \n",
    "\n",
    "Then there is a number $c$ in $(a, b)$ such that\n",
    "\n",
    "$$f'(c)   \n",
    " = \\frac{f(b) - f(a)}{b - a}$$"
   ]
  },
  {
   "cell_type": "markdown",
   "metadata": {},
   "source": [
    "**Increasing/Decreasing Test**\n",
    "\n",
    "- (a) If $f'(x) > 0$ on an interval $I$, then $f$ is increasing on that interval.\n",
    "- (b) If $f'(x) < 0$ on an interval $I$, then $f$ is decreasing on that interval."
   ]
  },
  {
   "cell_type": "markdown",
   "metadata": {},
   "source": [
    "**The First Derivative Test**\n",
    "\n",
    "Suppose that c is a critical number of a continuous\n",
    "function.\n",
    "\n",
    "- (a) If f' changes from positive to negative at , then has a local maximum at .\n",
    "- (b) If f' changes from negative to positive at , then has a local minimum at .\n",
    "- (c) If f' does not change sign at (for example, if is positive on both sides of c or negative on both sides), then has no local maximum or minimum at c"
   ]
  },
  {
   "cell_type": "markdown",
   "metadata": {},
   "source": [
    "**The Second Derivative Test**\n",
    "\n",
    "Suppose $f$ is continuous near $a$.\n",
    "\n",
    "(a) If $f'(a) = 0$ and $f''(a) > 0$, then $f$ has a local minimum at $a$.\n",
    "\n",
    "(b) If $f'(a) = 0$ and $f''(a) < 0$, then $f$ has a local maximum at $a$."
   ]
  },
  {
   "cell_type": "markdown",
   "metadata": {},
   "source": [
    "### L'Hospital's Rule"
   ]
  },
  {
   "cell_type": "markdown",
   "metadata": {},
   "source": [
    "\n",
    "\n",
    "Suppose $f$ and $g$ are differentiable and on an open interval that contains $a$ (except possibly at $a$). Suppose that\n",
    "\n",
    "$$\\lim_{x \\to a} f(x) = \\lim_{x \\to a} g(x) = 0$$\n",
    "\n",
    "or that\n",
    "\n",
    "$$\\lim_{x \\to a} f(x) = \\lim_{x \\to a} g(x) = \\pm \\infty$$\n",
    "\n",
    "(In other words, we have an indeterminate form of type $\\frac{0}{0}$ or $\\frac{\\infty}{\\infty}$.) Then\n",
    "\n",
    "$$\\lim_{x \\to a} \\frac{f(x)}{g(x)} = \\lim_{x \\to a} \\frac{f'(x)}{g'(x)}$$\n",
    "\n",
    "if the limit on the right side exists (or is $\\pm \\infty$).\n",
    "\n",
    "**Note 1:** L'Hôpital's Rule says that the limit of a quotient of functions is equal to the limit of the quotient of their derivatives, provided that the given conditions are satisfied. It is especially important to verify the conditions regarding the limits of $f$ and $g$ before using L'Hôpital's Rule."
   ]
  },
  {
   "cell_type": "markdown",
   "metadata": {},
   "source": [
    "### Newton's Method"
   ]
  },
  {
   "cell_type": "markdown",
   "metadata": {},
   "source": [
    "\n",
    "Newton's method is an iterative algorithm used to find the roots (or zeros) of a real-valued function. It is based on the idea of approximating the function with its tangent line at a given point and finding the intersection of this tangent line with the x-axis.\n",
    "\n",
    "**Algorithm:**\n",
    "\n",
    "1. **Choose an initial guess** $x_0$ that is close to the root you want to find.\n",
    "2. **Iterate using the following formula:**\n",
    "   * $x_{n+1} = x_n - \\frac{f(x_n)}{f'(x_n)}$\n",
    "3. **Repeat step 2 until the desired level of accuracy is reached.**\n",
    "\n",
    "**Geometric Interpretation:**\n",
    "\n",
    "* The algorithm starts at the point $(x_0, f(x_0))$.\n",
    "* The tangent line to the curve $y = f(x)$ at this point is drawn.\n",
    "* The intersection of this tangent line with the x-axis gives the next approximation, $x_1$.\n",
    "* The process is repeated with $x_1$ as the new starting point.\n",
    "\n",
    "**Example:**\n",
    "To find the root of the function $f(x) = x^2 - 2$ near $x = 1$, we can use Newton's method:\n",
    "\n",
    "* **Initial guess:** $x_0 = 1$\n",
    "* **Iteration formula:** $x_{n+1} = x_n - \\frac{x_n^2 - 2}{2x_n}$\n",
    "* **Iterations:**\n",
    "  * $x_1 = 1 - \\frac{1^2 - 2}{2 \\cdot 1} = 1.5$\n",
    "  * $x_2 = 1.5 - \\frac{1.5^2 - 2}{2 \\cdot 1.5} \\approx 1.4167$\n",
    "  * $x_3 \\approx 1.4142$\n",
    "  * ...\n",
    "\n",
    "As we continue iterating, the approximations will get closer and closer to the actual root, which is $\\sqrt{2} \\approx 1.4142$.\n",
    "\n",
    "**Note:** Newton's method is a powerful tool for finding roots, but it can be sensitive to the initial guess. If the initial guess is not close enough to the root, the algorithm may not converge or may converge to the wrong root."
   ]
  },
  {
   "cell_type": "markdown",
   "metadata": {},
   "source": [
    "### Anti-derivatives"
   ]
  },
  {
   "cell_type": "markdown",
   "metadata": {},
   "source": [
    "An antiderivative of a function f is a function F such that F(x)=f(x) for all x in the domain of f.\n",
    "\n",
    "In other words, the antiderivative of a function is its integral."
   ]
  },
  {
   "cell_type": "markdown",
   "metadata": {},
   "source": [
    "| Function | Particular antiderivative | Function | Particular antiderivative |\n",
    "|---|---|---|---|\n",
    "| $cf(x)$ | $cF(x)$ | $\\sec^2 x$ | $\\tan x$ |\n",
    "| $f(x) + g(x)$ | $F(x) + G(x)$ | $\\sec x \\tan x$ | $\\sec x$ |\n",
    "| $x^n (n \\neq -1)$ | $\\frac{x^{n+1}}{n+1}$ | $\\frac{1}{\\sqrt{1-x^2}}$ | $\\sin^{-1} x$ |\n",
    "| $\\frac{1}{x}$ | $\\ln|x|$ | $\\frac{1}{1+x^2}$ | $\\tan^{-1} x$ |\n",
    "| $e^x$ | $e^x$ | $\\cosh x$ | $\\sinh x$ |\n",
    "| $\\cos x$ | $\\sin x$ | $\\sinh x$ | $\\cosh x$ |\n",
    "| $\\sin x$ | $-\\cos x$ | | |"
   ]
  },
  {
   "cell_type": "markdown",
   "metadata": {},
   "source": [
    "## Integrals"
   ]
  },
  {
   "cell_type": "markdown",
   "metadata": {},
   "source": [
    "The area A of the region S that lies under the graph of the continuous function $f$ is the limit of the sum of the areas of approximating rectangles:**\n",
    "\n",
    "$$A = \\lim_{n \\to \\infty} R_n = \\lim_{n \\to \\infty} \\sum_{i=1}^n f(x_i^*) \\Delta x$$\n",
    "\n",
    "where:\n",
    "\n",
    "* $n$ is the number of rectangles\n",
    "* $x_i^*$ is a sample point in the $i$-th subinterval\n",
    "* $\\Delta x$ is the width of each subinterval, given by $\\Delta x = \\frac{b - a}{n}$\n",
    "* $a$ and $b$ are the endpoints of the interval over which we are finding the area"
   ]
  },
  {
   "cell_type": "markdown",
   "metadata": {},
   "source": [
    "## Applications of Integration"
   ]
  },
  {
   "cell_type": "markdown",
   "metadata": {},
   "source": []
  },
  {
   "cell_type": "markdown",
   "metadata": {},
   "source": [
    "## Techniques of Integration"
   ]
  },
  {
   "cell_type": "markdown",
   "metadata": {},
   "source": []
  },
  {
   "cell_type": "markdown",
   "metadata": {},
   "source": [
    "## Further Applications of Integration"
   ]
  },
  {
   "cell_type": "markdown",
   "metadata": {},
   "source": []
  },
  {
   "cell_type": "markdown",
   "metadata": {},
   "source": [
    "## Differential Equations"
   ]
  },
  {
   "cell_type": "markdown",
   "metadata": {},
   "source": []
  },
  {
   "cell_type": "markdown",
   "metadata": {},
   "source": [
    "## Parametric Equations and Polar Coordinates"
   ]
  },
  {
   "cell_type": "markdown",
   "metadata": {},
   "source": []
  },
  {
   "cell_type": "markdown",
   "metadata": {},
   "source": [
    "## Infinite Sequences and Series"
   ]
  },
  {
   "cell_type": "markdown",
   "metadata": {},
   "source": []
  },
  {
   "cell_type": "markdown",
   "metadata": {},
   "source": [
    "## Vectors and the Geometry of Space"
   ]
  },
  {
   "cell_type": "markdown",
   "metadata": {},
   "source": []
  },
  {
   "cell_type": "markdown",
   "metadata": {},
   "source": [
    "## Vector Functions"
   ]
  },
  {
   "cell_type": "markdown",
   "metadata": {},
   "source": []
  },
  {
   "cell_type": "markdown",
   "metadata": {},
   "source": [
    "## Partial Derivatives"
   ]
  },
  {
   "cell_type": "markdown",
   "metadata": {},
   "source": []
  },
  {
   "cell_type": "markdown",
   "metadata": {},
   "source": [
    "## Multiple Integrals"
   ]
  },
  {
   "cell_type": "markdown",
   "metadata": {},
   "source": []
  },
  {
   "cell_type": "markdown",
   "metadata": {},
   "source": [
    "## Vector Calculus"
   ]
  },
  {
   "cell_type": "markdown",
   "metadata": {},
   "source": []
  },
  {
   "cell_type": "markdown",
   "metadata": {},
   "source": [
    "## Second-Order Differential Equations"
   ]
  },
  {
   "cell_type": "markdown",
   "metadata": {},
   "source": []
  },
  {
   "cell_type": "markdown",
   "metadata": {},
   "source": [
    "## Appendixes"
   ]
  },
  {
   "cell_type": "markdown",
   "metadata": {},
   "source": []
  }
 ],
 "metadata": {
  "language_info": {
   "name": "python"
  },
  "orig_nbformat": 4
 },
 "nbformat": 4,
 "nbformat_minor": 2
}
