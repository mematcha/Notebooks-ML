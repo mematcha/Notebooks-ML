{
 "cells": [
  {
   "cell_type": "markdown",
   "metadata": {},
   "source": [
    "# Introduction to Calculus and Classical Analysis\n",
    "<div style=\"text-align:right\">By Omar Hijab</div>"
   ]
  },
  {
   "cell_type": "markdown",
   "metadata": {},
   "source": [
    "Hi! If you are reading this, this is NOT a complete note-by-note copy of the book. The intention of this notebook is to use Python Libraries to gain a clearer and deeper, hands-on understanding of calculus, which is necessary to understand and implement deep learning models effectively. "
   ]
  },
  {
   "cell_type": "markdown",
   "metadata": {},
   "source": [
    "So please, go slow and be patient as you go and read through this book. <br>\n",
    "\n",
    "Also I am grateful to `Dr.Omar Hijab` for authoring this book. "
   ]
  },
  {
   "cell_type": "markdown",
   "metadata": {},
   "source": [
    "For an `hands-on` experience, run code where ever you feel necessary. It should help you not only undestand the concepts, but can also provide you an insight into the libraries to use for more advanced tasks. "
   ]
  },
  {
   "cell_type": "markdown",
   "metadata": {},
   "source": [
    "Also this notebook can be used to brush through some concepts related to Calculus from a hands-on perspective. "
   ]
  },
  {
   "cell_type": "markdown",
   "metadata": {},
   "source": [
    "Also I believe it is important of me, to cover the most important topics covering this book head on before trying covering the whole book at once. It helps to cover the book much faster, even though it might not be in that level of depth we anticipate, but it surely will cover the crux of the book.  "
   ]
  },
  {
   "cell_type": "markdown",
   "metadata": {},
   "source": [
    "I will build up on this book going forward with more illustrations and explanatory content."
   ]
  },
  {
   "cell_type": "markdown",
   "metadata": {},
   "source": [
    "## Chapter 1 - The Set of Real Numbers"
   ]
  },
  {
   "cell_type": "markdown",
   "metadata": {},
   "source": [
    "### Sets and Mappings"
   ]
  },
  {
   "cell_type": "markdown",
   "metadata": {},
   "source": [
    "- In Set theory, **everything is a set**. Either a set $B$ belongs to set $A$ or it does not belong to set $A$. We write $B \\in A$ if it belongs and vice-versa for $B \\notin A$.\n",
    "- $B$ being a subset of $A$ is represented by $B \\subset A$.\n",
    "- $B$ being a superset of $A$ is represented by $B \\supset A$.\n",
    "- $B$ is equal to $A$ when $B \\supset A$ and $B \\subset A$.\n",
    "- The set $\\emptyset$ has no elements but is still a set.\n",
    "- A union B is represented by A $\\cup$ B, whereas A intersection B is represented by A $\\cap$ B.\n",
    "- The set of all elements in $A$, but not in $B$, is denoted $A \\setminus B = \\{x \\in A : x \\notin B\\}$ and is called the complement of $B$ in $A$.\n",
    "- If there are no elements in common between sets ( $A$ $\\cap$ $B$ =  $\\emptyset$ ), then they are *disjoint* sets. "
   ]
  },
  {
   "cell_type": "markdown",
   "metadata": {},
   "source": [
    "De Morgan 's Law: \n",
    "\n",
    "$(A \\cup B)^c = A^c \\cap B^c, \\quad (A \\cap B)^c = A^c \\cup B^c$\n"
   ]
  },
  {
   "cell_type": "markdown",
   "metadata": {},
   "source": [
    "- The power set of a set $X$ is the set $2^X$ whose elements are the subsets of $X$.\n",
    "- If $X$ and $Y$ are sets, their (ordered) product is the set $X \\times Y$ whose elements consist of all ordered pairs $(x, y)$ with $x \\in X$ and $y \\in Y$.\n",
    "\n"
   ]
  },
  {
   "cell_type": "markdown",
   "metadata": {},
   "source": [
    "Numpy Implementation"
   ]
  },
  {
   "cell_type": "code",
   "execution_count": 4,
   "metadata": {},
   "outputs": [
    {
     "name": "stdout",
     "output_type": "stream",
     "text": [
      "Set A:  [1 2 3 5]\n",
      "Set B:  [2 5 1]\n",
      "Union of sets:  [1 2 3 5]\n",
      "Intersection of sets:  [1 2 5]\n",
      "Are the sets equal?  False\n",
      "Are the sets not equal?  True\n",
      "Is Set B a subset of Set A?  True\n",
      "Is Set A a superset of Set B?  False\n",
      "Powerset of Set A:  [(), (1,), (2,), (3,), (5,), (1, 2), (1, 3), (1, 5), (2, 3), (2, 5), (3, 5), (1, 2, 3), (1, 2, 5), (1, 3, 5), (2, 3, 5), (1, 2, 3, 5)]\n",
      "Powerset of Set B:  [(), (2,), (5,), (1,), (2, 5), (2, 1), (5, 1), (2, 5, 1)]\n"
     ]
    },
    {
     "data": {
      "text/plain": [
       "'While there is a certain possibility that we can do this in Tensorflow or Pytorch, we will continue with numpy as it is easy to implement and present.'"
      ]
     },
     "execution_count": 4,
     "metadata": {},
     "output_type": "execute_result"
    }
   ],
   "source": [
    "import numpy as np\n",
    "from itertools import chain, combinations\n",
    "\n",
    "def powerset(s):\n",
    "    \"\"\"Returns the powerset of a set.\"\"\"\n",
    "    s = list(s)\n",
    "    return list(chain.from_iterable(combinations(s, r) for r in range(len(s) + 1)))\n",
    "\n",
    "def set_introduction_numpy(print_output=True):\n",
    "    set_a = np.array([1, 2, 3, 5])\n",
    "    set_b = np.array([2, 5, 1])\n",
    "\n",
    "    if print_output:\n",
    "        print(\"Set A: \", set_a)\n",
    "        print(\"Set B: \", set_b)\n",
    "\n",
    "        # Union\n",
    "        union = np.union1d(set_a, set_b)\n",
    "        print(\"Union of sets: \", union)\n",
    "\n",
    "        # Intersection\n",
    "        intersection = np.intersect1d(set_a, set_b)\n",
    "        print(\"Intersection of sets: \", intersection)\n",
    "\n",
    "        # Equality\n",
    "        equality = np.array_equal(set_a, set_b)\n",
    "        print(\"Are the sets equal? \", equality)\n",
    "\n",
    "        # Non-equality\n",
    "        non_equality = not equality\n",
    "        print(\"Are the sets not equal? \", non_equality)\n",
    "\n",
    "        # Subset\n",
    "        subset = np.all(np.isin(set_b, set_a))\n",
    "        print(\"Is Set B a subset of Set A? \", subset)\n",
    "\n",
    "        # Superset\n",
    "        superset = np.all(np.isin(set_a, set_b))\n",
    "        print(\"Is Set A a superset of Set B? \", superset)\n",
    "\n",
    "        # Powerset\n",
    "        ps_a = powerset(set_a)\n",
    "        ps_b = powerset(set_b)\n",
    "        print(\"Powerset of Set A: \", ps_a)\n",
    "        print(\"Powerset of Set B: \", ps_b)\n",
    "\n",
    "set_introduction_numpy()\n",
    "\n",
    "'''While there is a certain possibility that we can do this in Tensorflow or Pytorch, we will continue with numpy as it is easy to implement and present.'''"
   ]
  },
  {
   "cell_type": "markdown",
   "metadata": {},
   "source": [
    "A relation between two sets $X$ and $Y$ is a subset $f \\subset X \\times Y$. A mapping or function is a relation $f \\subset X \\times Y$, such that, for each $x \\in X$, there is exactly one $y \\in Y$ with $(x, y) \\in f$. In this case, it is customary to write $y = f(x)$ and $f : X \\to Y$. If $f : X \\to Y$.\n",
    "\n",
    "Here, if $f$ is a mapping, then $X$ is the domain and $Y$ is the co-domain. For $A \\subset X$, the image of $A$ is $f(A) = \\{f(x) : x \\in A\\} \\subset Y$. In particular, the range is $f(X)$.\n"
   ]
  },
  {
   "cell_type": "markdown",
   "metadata": {},
   "source": [
    "- An injective is one-to-one function i.e for every unique element in the domain we get a unique element in range.\n",
    "- A surjective is many-to-one where every element in the co-domain has an image in domain.\n",
    "- A bijective function is one that is both injective and surjective at the same time. "
   ]
  },
  {
   "cell_type": "markdown",
   "metadata": {},
   "source": [
    "$g$ o $f$ -- This is called composition mapping which is basically $g(f(x))$."
   ]
  },
  {
   "cell_type": "markdown",
   "metadata": {},
   "source": [
    "If $f : X \\to Y$ and $g : Y \\to X$ are mappings, we say they are inverses of each other if $g(f(x)) = x$ for all $x \\in X$ and $f(g(y)) = y$ for all $y \\in Y$. A mapping $f : X \\to Y$ is invertible if it has an inverse $g$.\n"
   ]
  },
  {
   "cell_type": "markdown",
   "metadata": {},
   "source": [
    "Let $F$ be a set such that all elements $A \\in F$ are nonempty. A choice function is a function $f : F \\to F$ satisfying $f(A) \\in A$ for all $A \\in F$.\n"
   ]
  },
  {
   "cell_type": "markdown",
   "metadata": {},
   "source": [
    "### The Set R"
   ]
  },
  {
   "cell_type": "markdown",
   "metadata": {},
   "source": [
    "The Real Set $R$ is the standard set for any of our analysis related to Calculus. The elements in $R$ follow all necessary common rules of operation and association. "
   ]
  },
  {
   "cell_type": "markdown",
   "metadata": {},
   "source": [
    "The completeness property of R asserts that every nonempty set S ⊂ R\n",
    "that is bounded above has a sup, and every nonempty set S ⊂ R that is\n",
    "bounded below has an inf."
   ]
  },
  {
   "cell_type": "markdown",
   "metadata": {},
   "source": [
    "### The Completeness Property"
   ]
  },
  {
   "cell_type": "markdown",
   "metadata": {},
   "source": [
    "Completeness is a property of the real numbers that, intuitively, implies that there are no \"gaps\" (in Dedekind's terminology) or \"missing points\" in the real number line. This contrasts with the rational numbers, whose corresponding number line has a \"gap\" at each irrational value.\n",
    "\n",
    "Basically, what this means is that the Real Numbers set actually has no gap between them."
   ]
  },
  {
   "cell_type": "markdown",
   "metadata": {},
   "source": [
    "### Sequences and Limits"
   ]
  },
  {
   "cell_type": "markdown",
   "metadata": {},
   "source": [
    "A sequence of real numbers is a function $f : \\mathbb{N} \\to \\mathbb{R}$. A finite sequence is a function $f : \\{1, \\dots, N\\} \\to \\mathbb{R}$ for some $N \\geq 1$. Usually, we write a sequence as $(a_n)$, where $a_n = f(n)$ is the $n$ th term.\n",
    "\n",
    "- A Sequence is an ordered set, not just a function. \n",
    "- We say a sequence is monotone if the sequence is either increasing or decreasing.\n"
   ]
  },
  {
   "cell_type": "markdown",
   "metadata": {},
   "source": [
    "In mathematics, a limit is the value that a function (or sequence) approaches as the argument (or index) approaches some value. Limits of functions are essential to calculus and mathematical analysis, and are used to define continuity, derivatives, and integrals. "
   ]
  },
  {
   "cell_type": "markdown",
   "metadata": {},
   "source": [
    ">**Reference**: Stewart, James (2008). Calculus: Early Transcendentals (6th ed.). Brooks/Cole. ISBN 978-0-495-01166-8."
   ]
  },
  {
   "cell_type": "markdown",
   "metadata": {},
   "source": [
    "The expression for a limit is given below. Here the expression means that the limit of $f(x)$ as $x$ approaches $c$ equals $L$."
   ]
  },
  {
   "cell_type": "markdown",
   "metadata": {},
   "source": [
    "$${\\displaystyle \\lim _{x \\to c} f(x) = L}$$\n"
   ]
  },
  {
   "cell_type": "markdown",
   "metadata": {},
   "source": [
    "A series is telescoping if it is a sum of differences, i.e., of the form \n",
    "\n",
    "$\\sum_{n=1}^{\\infty} (a_n - a_{n+1}) = (a_1 - a_2) + (a_2 - a_3) + (a_3 - a_4) + \\dots$.\n"
   ]
  },
  {
   "cell_type": "markdown",
   "metadata": {},
   "source": [
    "- A sequence is defined as an arrangement of numbers in a particular order. Whereas a Series is simply the sum of the elements of a sequence.\n",
    "- A series is convergent (or converges) if and only if the sequence infinite sum or of its partial sums tends to a limit L. \n",
    "- A series is signed if its first term is positive and at least one of its terms is negative. A series is alternating if it is of the form.\n",
    " \n",
    "$\\sum_{n=1}^{\\infty} (-1)^{n-1}a_n = a_1 - a_2 + a_3 - a_4 + \\dots$.\n",
    "- A sequence (not a series!) $(a_n)$ is Cauchy if its terms approach each other, i.e., if $|a_m - a_k|$ is small when $m$ and $k$ are large.\n",
    "\n"
   ]
  },
  {
   "cell_type": "markdown",
   "metadata": {},
   "source": [
    "#### Dirchelet's Test"
   ]
  },
  {
   "cell_type": "markdown",
   "metadata": {},
   "source": [
    "If $ (a_n) $ is a positive sequence decreasing to zero and $ (c_n) $ is such that the sequence $ b_n = c_1 + c_2 + \\cdots + c_n $, $ n \\geq 1 $, is bounded, then \n",
    "\n",
    "$$\n",
    "\\sum_{n=1}^{\\infty} a_n c_n \\text{ converges and } \\sum_{n=1}^{\\infty} a_n c_n = \\sum_{n=1}^{\\infty} (a_n - a_{n+1}) b_n.\n",
    "$$\n"
   ]
  },
  {
   "cell_type": "markdown",
   "metadata": {},
   "source": [
    "#### Leibnitz's Test"
   ]
  },
  {
   "cell_type": "markdown",
   "metadata": {},
   "source": [
    "The Leibniz test (or Leibniz criterion for convergence) states conditions under which an alternating series converges."
   ]
  },
  {
   "cell_type": "markdown",
   "metadata": {},
   "source": [
    "Consider a sequence $(a_n)$ such that:\n",
    "\n",
    "- **Positive:** $a_n > 0$ for all $n$.\n",
    "- **Decreasing:** $(a_n)$ is a decreasing sequence, meaning $a_n \\geq a_{n+1}$ for all $n$.\n",
    "- **Limit Condition:** $\\lim_{n \\to \\infty} a_n = 0$.\n",
    "\n",
    "The alternating series formed by the sequence:\n",
    "\n",
    "$$\n",
    "S = a_1 - a_2 + a_3 - a_4 + a_5 - a_6 + \\ldots\n",
    "$$\n",
    "\n",
    "converges to a limit $L$ that satisfies the following properties:\n",
    "\n",
    "- **Convergence Bound:** $0 \\leq L \\leq a_1$\n",
    "\n",
    "If $(a_n)$ is strictly decreasing (i.e., $a_n > a_{n+1}$ for all $n$), then:\n",
    "\n",
    "$$\n",
    "0 < L < a_1.\n",
    "$$\n"
   ]
  },
  {
   "cell_type": "markdown",
   "metadata": {},
   "source": [
    ">> I need to add more content related to explanations and Theory amd they will be added going forward soon enough. "
   ]
  },
  {
   "cell_type": "markdown",
   "metadata": {},
   "source": [
    "## Chapter 2 - Continuity"
   ]
  },
  {
   "cell_type": "markdown",
   "metadata": {},
   "source": [
    "### Compactness"
   ]
  },
  {
   "cell_type": "markdown",
   "metadata": {},
   "source": []
  }
 ],
 "metadata": {
  "kernelspec": {
   "display_name": "Python 3",
   "language": "python",
   "name": "python3"
  },
  "language_info": {
   "codemirror_mode": {
    "name": "ipython",
    "version": 3
   },
   "file_extension": ".py",
   "mimetype": "text/x-python",
   "name": "python",
   "nbconvert_exporter": "python",
   "pygments_lexer": "ipython3",
   "version": "3.11.5"
  },
  "orig_nbformat": 4
 },
 "nbformat": 4,
 "nbformat_minor": 2
}
