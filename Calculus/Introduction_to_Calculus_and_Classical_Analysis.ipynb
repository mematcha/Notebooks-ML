{
 "cells": [
  {
   "cell_type": "markdown",
   "metadata": {},
   "source": [
    "# Introduction to Calculus and Classical Analysis\n",
    "<div style=\"text-align:right\">By Omar Hijab</div>"
   ]
  },
  {
   "cell_type": "markdown",
   "metadata": {},
   "source": [
    "Hi! If you are reading this, this is NOT a complete note-by-note copy of the book. The intention of this notebook is to use Python Libraries to gain a clearer and deeper, hands-on understanding of calculus, which is necessary to understand and implement deep learning models effectively. "
   ]
  },
  {
   "cell_type": "markdown",
   "metadata": {},
   "source": [
    "So please, go slow and be patient as you go and read through this book. <br>\n",
    "\n",
    "Also I am grateful to `Dr.Omar Hijab` for authoring this book. "
   ]
  },
  {
   "cell_type": "markdown",
   "metadata": {},
   "source": [
    "For an `hands-on` experience, run the below command. This will import `Pytorch`, with which one should be able to manage for using the implementation part of the notebook. "
   ]
  },
  {
   "cell_type": "markdown",
   "metadata": {},
   "source": [
    "Also this notebook can be used to brush through some concepts related to Calculus from a hands-on perspective. "
   ]
  },
  {
   "cell_type": "code",
   "execution_count": 1,
   "metadata": {},
   "outputs": [],
   "source": [
    "import torch"
   ]
  },
  {
   "cell_type": "markdown",
   "metadata": {},
   "source": [
    "## Chapter 1 - The Set of Real Numbers"
   ]
  },
  {
   "cell_type": "markdown",
   "metadata": {},
   "source": [
    "### Sets and Mappings"
   ]
  },
  {
   "cell_type": "markdown",
   "metadata": {},
   "source": [
    "- In Set theory, **everything is a set**. Either a set $B$ belongs to set $A$ or it does not belong to set $A$. We write $B \\in A$ if it belongs and vice-versa for $B \\notin A$.\n",
    "- $B$ being a subset of $A$ is represented by $B \\subset A$.\n",
    "- $B$ being a superset of $A$ is represented by $B \\supset A$.\n",
    "- $B$ is equal to $A$ when $B \\supset A$ and $B \\subset A$.\n",
    "- The set $\\emptyset$ has no elements but is still a set.\n",
    "- A union B is represented by A $\\cup$ B, whereas A intersection B is represented by A $\\cap$ B.\n",
    "- The set of all elements in $A$, but not in $B$, is denoted $A \\setminus B = \\{x \\in A : x \\notin B\\}$ and is called the complement of $B$ in $A$.\n",
    "- If there are no elements in common between sets ( $A$ $\\cap$ $B$ =  $\\emptyset$ ), then they are *disjoint* sets. "
   ]
  },
  {
   "cell_type": "markdown",
   "metadata": {},
   "source": [
    "De Morgan 's Law: \n",
    "\n",
    "$(A \\cup B)^c = A^c \\cap B^c, \\quad (A \\cap B)^c = A^c \\cup B^c$\n"
   ]
  },
  {
   "cell_type": "markdown",
   "metadata": {},
   "source": [
    "- The power set of a set $X$ is the set $2^X$ whose elements are the subsets of $X$.\n",
    "- If $X$ and $Y$ are sets, their (ordered) product is the set $X \\times Y$ whose elements consist of all ordered pairs $(x, y)$ with $x \\in X$ and $y \\in Y$.\n",
    "\n"
   ]
  },
  {
   "cell_type": "markdown",
   "metadata": {},
   "source": []
  }
 ],
 "metadata": {
  "kernelspec": {
   "display_name": "Python 3",
   "language": "python",
   "name": "python3"
  },
  "language_info": {
   "name": "python",
   "version": "3.11.5"
  },
  "orig_nbformat": 4
 },
 "nbformat": 4,
 "nbformat_minor": 2
}
