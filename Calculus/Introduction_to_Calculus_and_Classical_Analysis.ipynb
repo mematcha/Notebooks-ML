{
 "cells": [
  {
   "cell_type": "markdown",
   "metadata": {},
   "source": [
    "# Introduction to Calculus and Classical Analysis\n",
    "<div style=\"text-align:right\">By Omar Hijab</div>"
   ]
  },
  {
   "cell_type": "markdown",
   "metadata": {},
   "source": [
    "Hi! If you are reading this, this is NOT a complete note-by-note copy of the book. The intention of this notebook is to use Python Libraries to gain a clearer and deeper, hands-on understanding of calculus, which is necessary to understand and implement deep learning models effectively. "
   ]
  },
  {
   "cell_type": "markdown",
   "metadata": {},
   "source": [
    "So please, go slow and be patient as you go and read through this book. <br>\n",
    "\n",
    "Also I am grateful to `Dr.Omar Hijab` for authoring this book. "
   ]
  },
  {
   "cell_type": "markdown",
   "metadata": {},
   "source": [
    "For an `hands-on` experience, run code where ever you feel necessary. It should help you not only undestand the concepts, but can also provide you an insight into the libraries to use for more advanced tasks. "
   ]
  },
  {
   "cell_type": "markdown",
   "metadata": {},
   "source": [
    "Also this notebook can be used to brush through some concepts related to Calculus from a hands-on perspective. "
   ]
  },
  {
   "cell_type": "markdown",
   "metadata": {},
   "source": [
    "## Chapter 1 - The Set of Real Numbers"
   ]
  },
  {
   "cell_type": "markdown",
   "metadata": {},
   "source": [
    "### Sets and Mappings"
   ]
  },
  {
   "cell_type": "markdown",
   "metadata": {},
   "source": [
    "- In Set theory, **everything is a set**. Either a set $B$ belongs to set $A$ or it does not belong to set $A$. We write $B \\in A$ if it belongs and vice-versa for $B \\notin A$.\n",
    "- $B$ being a subset of $A$ is represented by $B \\subset A$.\n",
    "- $B$ being a superset of $A$ is represented by $B \\supset A$.\n",
    "- $B$ is equal to $A$ when $B \\supset A$ and $B \\subset A$.\n",
    "- The set $\\emptyset$ has no elements but is still a set.\n",
    "- A union B is represented by A $\\cup$ B, whereas A intersection B is represented by A $\\cap$ B.\n",
    "- The set of all elements in $A$, but not in $B$, is denoted $A \\setminus B = \\{x \\in A : x \\notin B\\}$ and is called the complement of $B$ in $A$.\n",
    "- If there are no elements in common between sets ( $A$ $\\cap$ $B$ =  $\\emptyset$ ), then they are *disjoint* sets. "
   ]
  },
  {
   "cell_type": "markdown",
   "metadata": {},
   "source": [
    "De Morgan 's Law: \n",
    "\n",
    "$(A \\cup B)^c = A^c \\cap B^c, \\quad (A \\cap B)^c = A^c \\cup B^c$\n"
   ]
  },
  {
   "cell_type": "markdown",
   "metadata": {},
   "source": [
    "- The power set of a set $X$ is the set $2^X$ whose elements are the subsets of $X$.\n",
    "- If $X$ and $Y$ are sets, their (ordered) product is the set $X \\times Y$ whose elements consist of all ordered pairs $(x, y)$ with $x \\in X$ and $y \\in Y$.\n",
    "\n"
   ]
  },
  {
   "cell_type": "markdown",
   "metadata": {},
   "source": [
    "Numpy Implementation"
   ]
  },
  {
   "cell_type": "code",
   "execution_count": 3,
   "metadata": {},
   "outputs": [
    {
     "name": "stdout",
     "output_type": "stream",
     "text": [
      "Set A:  [1 2 3 5]\n",
      "Set B:  [2 5 1]\n",
      "Union of sets:  [1 2 3 5]\n",
      "Intersection of sets:  [1 2 5]\n",
      "Are the sets equal?  False\n",
      "Are the sets not equal?  True\n",
      "Is Set B a subset of Set A?  True\n",
      "Is Set A a superset of Set B?  False\n",
      "Powerset of Set A:  [(), (1,), (2,), (3,), (5,), (1, 2), (1, 3), (1, 5), (2, 3), (2, 5), (3, 5), (1, 2, 3), (1, 2, 5), (1, 3, 5), (2, 3, 5), (1, 2, 3, 5)]\n",
      "Powerset of Set B:  [(), (2,), (5,), (1,), (2, 5), (2, 1), (5, 1), (2, 5, 1)]\n"
     ]
    }
   ],
   "source": [
    "import numpy as np\n",
    "from itertools import chain, combinations\n",
    "\n",
    "def powerset(s):\n",
    "    \"\"\"Returns the powerset of a set.\"\"\"\n",
    "    s = list(s)\n",
    "    return list(chain.from_iterable(combinations(s, r) for r in range(len(s) + 1)))\n",
    "\n",
    "def set_introduction_numpy(print_output=True):\n",
    "    set_a = np.array([1, 2, 3, 5])\n",
    "    set_b = np.array([2, 5, 1])\n",
    "\n",
    "    if print_output:\n",
    "        print(\"Set A: \", set_a)\n",
    "        print(\"Set B: \", set_b)\n",
    "\n",
    "        # Union\n",
    "        union = np.union1d(set_a, set_b)\n",
    "        print(\"Union of sets: \", union)\n",
    "\n",
    "        # Intersection\n",
    "        intersection = np.intersect1d(set_a, set_b)\n",
    "        print(\"Intersection of sets: \", intersection)\n",
    "\n",
    "        # Equality\n",
    "        equality = np.array_equal(set_a, set_b)\n",
    "        print(\"Are the sets equal? \", equality)\n",
    "\n",
    "        # Non-equality\n",
    "        non_equality = not equality\n",
    "        print(\"Are the sets not equal? \", non_equality)\n",
    "\n",
    "        # Subset\n",
    "        subset = np.all(np.isin(set_b, set_a))\n",
    "        print(\"Is Set B a subset of Set A? \", subset)\n",
    "\n",
    "        # Superset\n",
    "        superset = np.all(np.isin(set_a, set_b))\n",
    "        print(\"Is Set A a superset of Set B? \", superset)\n",
    "\n",
    "        # Powerset\n",
    "        ps_a = powerset(set_a)\n",
    "        ps_b = powerset(set_b)\n",
    "        print(\"Powerset of Set A: \", ps_a)\n",
    "        print(\"Powerset of Set B: \", ps_b)\n",
    "\n",
    "set_introduction_numpy()\n",
    "\n",
    "'''While there is a certain possibility that we can do this in Tensorflow or Pytorch, we will continue with numpy as it is easy to implement and present.'''"
   ]
  },
  {
   "cell_type": "markdown",
   "metadata": {},
   "source": []
  }
 ],
 "metadata": {
  "kernelspec": {
   "display_name": "Python 3",
   "language": "python",
   "name": "python3"
  },
  "language_info": {
   "codemirror_mode": {
    "name": "ipython",
    "version": 3
   },
   "file_extension": ".py",
   "mimetype": "text/x-python",
   "name": "python",
   "nbconvert_exporter": "python",
   "pygments_lexer": "ipython3",
   "version": "3.11.5"
  },
  "orig_nbformat": 4
 },
 "nbformat": 4,
 "nbformat_minor": 2
}
