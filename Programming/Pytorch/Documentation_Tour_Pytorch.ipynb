{
 "cells": [
  {
   "cell_type": "markdown",
   "metadata": {},
   "source": [
    "# Documentation Tour - Pytorch"
   ]
  },
  {
   "cell_type": "markdown",
   "metadata": {},
   "source": [
    "[Release Blog](https://pytorch.org/blog/)"
   ]
  },
  {
   "cell_type": "markdown",
   "metadata": {},
   "source": [
    "PyTorch is a popular open-source machine learning library built on top of the Torch library. It's particularly well-suited for deep learning applications due to its dynamic computational graph, which allows for more flexible and intuitive development.\n",
    "\n",
    "Key Features and Benefits:\n",
    "\n",
    "- Dynamic Computational Graph: Unlike static frameworks, PyTorch allows you to define and modify the computational graph on the fly, making it easier to experiment and debug.\n",
    "- Tensor Operations: PyTorch provides efficient tensor operations for numerical computations, essential for deep learning models.\n",
    "- Autograd: Automatically calculates gradients for backpropagation, simplifying the training process.\n",
    "- CUDA Integration: Supports GPU acceleration for faster training and inference, especially on large datasets.\n",
    "- Community and Ecosystem: A large and active community contributes to PyTorch's development and provides a wealth of resources, including tutorials, libraries, and tools."
   ]
  },
  {
   "cell_type": "markdown",
   "metadata": {},
   "source": [
    "PyTorch Family of Libraries\n",
    "\n",
    "PyTorch has a growing ecosystem of libraries that extend its capabilities and simplify common tasks:\n",
    "\n",
    "- **TorchVision**: Provides datasets, data loaders, and image transformations for computer vision tasks.\n",
    "- **TorchText**: Offers data loading, preprocessing, and tokenization for natural language processing.\n",
    "- **TorchAudio**: Provides tools for loading, preprocessing, and augmenting audio data.\n",
    "- **Fairseq**: A sequence-to-sequence toolkit for tasks like machine translation, summarization, and text generation.\n",
    "- **PyTorch Lightning**: A high-level wrapper that simplifies training, validation, and testing of deep learning models."
   ]
  },
  {
   "cell_type": "code",
   "execution_count": 2,
   "metadata": {},
   "outputs": [
    {
     "name": "stdout",
     "output_type": "stream",
     "text": [
      "Requirement already satisfied: torch in /Users/smatcha/anaconda3/lib/python3.11/site-packages (2.5.0)\n",
      "Requirement already satisfied: torchvision in /Users/smatcha/anaconda3/lib/python3.11/site-packages (0.17.0)\n",
      "Requirement already satisfied: torchaudio in /Users/smatcha/anaconda3/lib/python3.11/site-packages (2.5.0)\n",
      "Requirement already satisfied: filelock in /Users/smatcha/anaconda3/lib/python3.11/site-packages (from torch) (3.9.0)\n",
      "Requirement already satisfied: typing-extensions>=4.8.0 in /Users/smatcha/anaconda3/lib/python3.11/site-packages (from torch) (4.12.2)\n",
      "Requirement already satisfied: networkx in /Users/smatcha/anaconda3/lib/python3.11/site-packages (from torch) (3.1)\n",
      "Requirement already satisfied: jinja2 in /Users/smatcha/anaconda3/lib/python3.11/site-packages (from torch) (3.1.2)\n",
      "Requirement already satisfied: fsspec in /Users/smatcha/anaconda3/lib/python3.11/site-packages (from torch) (2023.12.2)\n",
      "Requirement already satisfied: sympy==1.13.1 in /Users/smatcha/anaconda3/lib/python3.11/site-packages (from torch) (1.13.1)\n",
      "Requirement already satisfied: mpmath<1.4,>=1.1.0 in /Users/smatcha/anaconda3/lib/python3.11/site-packages (from sympy==1.13.1->torch) (1.3.0)\n",
      "Requirement already satisfied: numpy in /Users/smatcha/anaconda3/lib/python3.11/site-packages (from torchvision) (2.1.3)\n",
      "Requirement already satisfied: requests in /Users/smatcha/anaconda3/lib/python3.11/site-packages (from torchvision) (2.31.0)\n",
      "Requirement already satisfied: pillow!=8.3.*,>=5.3.0 in /Users/smatcha/anaconda3/lib/python3.11/site-packages (from torchvision) (10.3.0)\n",
      "Requirement already satisfied: MarkupSafe>=2.0 in /Users/smatcha/anaconda3/lib/python3.11/site-packages (from jinja2->torch) (2.1.1)\n",
      "Requirement already satisfied: charset-normalizer<4,>=2 in /Users/smatcha/anaconda3/lib/python3.11/site-packages (from requests->torchvision) (2.0.4)\n",
      "Requirement already satisfied: idna<4,>=2.5 in /Users/smatcha/anaconda3/lib/python3.11/site-packages (from requests->torchvision) (3.4)\n",
      "Requirement already satisfied: urllib3<3,>=1.21.1 in /Users/smatcha/anaconda3/lib/python3.11/site-packages (from requests->torchvision) (1.26.16)\n",
      "Requirement already satisfied: certifi>=2017.4.17 in /Users/smatcha/anaconda3/lib/python3.11/site-packages (from requests->torchvision) (2024.2.2)\n",
      "Note: you may need to restart the kernel to use updated packages.\n"
     ]
    }
   ],
   "source": [
    "%pip install torch torchvision torchaudio"
   ]
  },
  {
   "cell_type": "code",
   "execution_count": 3,
   "metadata": {},
   "outputs": [
    {
     "name": "stdout",
     "output_type": "stream",
     "text": [
      "tensor([[0.1352, 0.5655, 0.2996],\n",
      "        [0.2338, 0.0058, 0.1407],\n",
      "        [0.5831, 0.0439, 0.7146],\n",
      "        [0.4160, 0.8421, 0.8011],\n",
      "        [0.8905, 0.3417, 0.5295]])\n"
     ]
    }
   ],
   "source": [
    "import torch\n",
    "x = torch.rand(5, 3)\n",
    "print(x)"
   ]
  }
 ],
 "metadata": {
  "kernelspec": {
   "display_name": "base",
   "language": "python",
   "name": "python3"
  },
  "language_info": {
   "codemirror_mode": {
    "name": "ipython",
    "version": 3
   },
   "file_extension": ".py",
   "mimetype": "text/x-python",
   "name": "python",
   "nbconvert_exporter": "python",
   "pygments_lexer": "ipython3",
   "version": "3.11.5"
  },
  "orig_nbformat": 4
 },
 "nbformat": 4,
 "nbformat_minor": 2
}
