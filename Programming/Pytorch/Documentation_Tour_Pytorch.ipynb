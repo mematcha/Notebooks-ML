{
 "cells": [
  {
   "cell_type": "markdown",
   "metadata": {},
   "source": [
    "# Documentation Tour - Pytorch"
   ]
  },
  {
   "cell_type": "markdown",
   "metadata": {},
   "source": [
    "[Release Blog](https://pytorch.org/blog/)"
   ]
  },
  {
   "cell_type": "markdown",
   "metadata": {},
   "source": [
    "PyTorch is a popular open-source machine learning library built on top of the Torch library. It's particularly well-suited for deep learning applications due to its dynamic computational graph, which allows for more flexible and intuitive development.\n",
    "\n",
    "## Key Features and Benefits:\n",
    "\n",
    "- `Dynamic Computational Graph`: Unlike static frameworks, PyTorch allows you to define and modify the computational graph on the fly, making it easier to experiment and debug.\n",
    "- `Tensor Operations`: PyTorch provides efficient tensor operations for numerical computations, essential for deep learning models.\n",
    "- `Autograd`: Automatically calculates gradients for backpropagation, simplifying the training process.\n",
    "- `CUDA Integration`: Supports GPU acceleration for faster training and inference, especially on large datasets.\n",
    "- `Community and Ecosystem`: A large and active community contributes to PyTorch's development and provides a wealth of resources, including tutorials, libraries, and tools."
   ]
  },
  {
   "cell_type": "markdown",
   "metadata": {},
   "source": [
    "## PyTorch Family of Libraries\n",
    "\n",
    "PyTorch has a growing ecosystem of libraries that extend its capabilities and simplify common tasks:\n",
    "\n",
    "- **TorchVision**: Provides datasets, data loaders, and image transformations for computer vision tasks.\n",
    "- **TorchText**: Offers data loading, preprocessing, and tokenization for natural language processing.\n",
    "- **TorchAudio**: Provides tools for loading, preprocessing, and augmenting audio data.\n",
    "- **Fairseq**: A sequence-to-sequence toolkit for tasks like machine translation, summarization, and text generation.\n",
    "- **PyTorch Lightning**: A high-level wrapper that simplifies training, validation, and testing of deep learning models."
   ]
  },
  {
   "cell_type": "markdown",
   "metadata": {},
   "source": [
    "<div style=\"background-color: lightblue; color:black; padding: 10px;\">\n",
    "    We begin to cover the documentation from here onwards\n",
    "</div>"
   ]
  },
  {
   "cell_type": "markdown",
   "metadata": {},
   "source": [
    "# Pytorch Dcoumentation"
   ]
  },
  {
   "cell_type": "markdown",
   "metadata": {},
   "source": [
    "PyTorch is an optimized tensor library for deep learning using GPUs and CPUs."
   ]
  },
  {
   "cell_type": "markdown",
   "metadata": {},
   "source": [
    "<div style=\"background-color: lightyellow; color:black; padding: 10px;\">\n",
    "Features described in this documentation are classified by release status:\n",
    "<br/>\n",
    "<br/>\n",
    "\n",
    "Stable: These features will be maintained long-term and there should generally be no major performance limitations or gaps in documentation. We also expect to maintain backwards compatibility (although breaking changes can happen and notice will be given one release ahead of time).\n",
    "\n",
    "Beta: These features are tagged as Beta because the API may change based on user feedback, because the performance needs to improve, or because coverage across operators is not yet complete. For Beta features, we are committing to seeing the feature through to the Stable classification. We are not, however, committing to backwards compatibility.\n",
    "\n",
    "Prototype: These features are typically not available as part of binary distributions like PyPI or Conda, except sometimes behind run-time flags, and are at an early stage for feedback and testing.\n",
    "</div>"
   ]
  },
  {
   "cell_type": "markdown",
   "metadata": {},
   "source": [
    "- Community\n",
    "- Developer Notes\n",
    "- Language Bindings\n",
    "- Python API\n",
    "- Libraries"
   ]
  },
  {
   "cell_type": "markdown",
   "metadata": {},
   "source": [
    "# Python API"
   ]
  },
  {
   "cell_type": "markdown",
   "metadata": {},
   "source": [
    "Making imports before implementations."
   ]
  },
  {
   "cell_type": "code",
   "execution_count": 1,
   "metadata": {},
   "outputs": [],
   "source": [
    "import torch\n",
    "import torchaudio\n",
    "import torchvision"
   ]
  },
  {
   "cell_type": "markdown",
   "metadata": {},
   "source": [
    "## torch"
   ]
  },
  {
   "cell_type": "markdown",
   "metadata": {},
   "source": [
    "The torch package contains data structures for multi-dimensional tensors and defines mathematical operations over these tensors. Additionally, it provides many utilities for efficient serialization of Tensors and arbitrary types, and other useful utilities.\n",
    "\n",
    "It has a CUDA counterpart, that enables you to run your tensor computations on an NVIDIA GPU with compute capability >= 3.0."
   ]
  },
  {
   "cell_type": "markdown",
   "metadata": {},
   "source": [
    "<div style=\"background-color: lightyellow; color:black; padding: 10px;\">\n",
    "Compute capability is a version number assigned by NVIDIA to its GPU architectures, indicating the set of hardware and software features supported by a particular GPU. It helps determine compatibility with CUDA versions and features, impacting performance and efficiency\n",
    "</div>"
   ]
  },
  {
   "cell_type": "markdown",
   "metadata": {},
   "source": [
    "### Tensors"
   ]
  },
  {
   "cell_type": "markdown",
   "metadata": {},
   "source": [
    "`is_tensor` - Returns True if obj is a PyTorch tensor."
   ]
  },
  {
   "cell_type": "code",
   "execution_count": 9,
   "metadata": {},
   "outputs": [
    {
     "name": "stdout",
     "output_type": "stream",
     "text": [
      "False\n",
      "False\n",
      "True\n"
     ]
    }
   ],
   "source": [
    "import numpy as np\n",
    "\n",
    "x2 = [1,2,3]\n",
    "x3 = np.array([1,2,3])\n",
    "x4 = torch.tensor([1,2,3])\n",
    "print(torch.is_tensor(x2))\n",
    "print(torch.is_tensor(x3))\n",
    "print(torch.is_tensor(x4))\n"
   ]
  },
  {
   "cell_type": "code",
   "execution_count": 18,
   "metadata": {},
   "outputs": [
    {
     "data": {
      "text/plain": [
       "'torch.LongTensor'"
      ]
     },
     "execution_count": 18,
     "metadata": {},
     "output_type": "execute_result"
    }
   ],
   "source": [
    "x4.type()"
   ]
  },
  {
   "cell_type": "markdown",
   "metadata": {},
   "source": [
    "`is_storage` - Returns True if obj is a PyTorch storage object."
   ]
  },
  {
   "cell_type": "markdown",
   "metadata": {},
   "source": [
    "`is_complex` - Returns True if the data type of input is a complex data type i.e., one of torch.complex64, and torch.complex128."
   ]
  },
  {
   "cell_type": "code",
   "execution_count": 11,
   "metadata": {},
   "outputs": [
    {
     "data": {
      "text/plain": [
       "True"
      ]
     },
     "execution_count": 11,
     "metadata": {},
     "output_type": "execute_result"
    }
   ],
   "source": [
    "real_part = torch.tensor([1.0, 2.0, 3.0])\n",
    "imaginary_part = torch.tensor([0.5, 1.5, 2.5])\n",
    "\n",
    "# Combine them into a complex tensor\n",
    "complex_tensor = torch.complex(real_part, imaginary_part)\n",
    "\n",
    "torch.is_complex(complex_tensor)"
   ]
  },
  {
   "cell_type": "markdown",
   "metadata": {},
   "source": [
    "`is_conj` - Returns True if the input is a conjugated tensor, i.e. its conjugate bit is set to True.\n",
    "\n",
    "\n",
    ">Conjugate Bit: PyTorch uses a “conjugate bit” to efficiently manage conjugation without immediately altering data. This allows for lazy evaluation, where the actual conjugation is materialized only when necessary"
   ]
  },
  {
   "cell_type": "code",
   "execution_count": 13,
   "metadata": {},
   "outputs": [
    {
     "data": {
      "text/plain": [
       "False"
      ]
     },
     "execution_count": 13,
     "metadata": {},
     "output_type": "execute_result"
    }
   ],
   "source": [
    "torch.is_conj(complex_tensor)"
   ]
  },
  {
   "cell_type": "code",
   "execution_count": 16,
   "metadata": {},
   "outputs": [
    {
     "name": "stdout",
     "output_type": "stream",
     "text": [
      "tensor([1.+0.5000j, 2.+1.5000j, 3.+2.5000j])\n"
     ]
    },
    {
     "data": {
      "text/plain": [
       "tensor([1.-0.5000j, 2.-1.5000j, 3.-2.5000j])"
      ]
     },
     "execution_count": 16,
     "metadata": {},
     "output_type": "execute_result"
    }
   ],
   "source": [
    "print(complex_tensor)\n",
    "conj_tensor = torch.conj(complex_tensor)\n",
    "conj_tensor"
   ]
  },
  {
   "cell_type": "code",
   "execution_count": 17,
   "metadata": {},
   "outputs": [
    {
     "data": {
      "text/plain": [
       "True"
      ]
     },
     "execution_count": 17,
     "metadata": {},
     "output_type": "execute_result"
    }
   ],
   "source": [
    "torch.is_conj(conj_tensor)\n"
   ]
  },
  {
   "cell_type": "markdown",
   "metadata": {},
   "source": [
    "`is_floating_point` - Returns True if the data type of input is a floating point data type i.e., one of torch.float64, torch.float32, torch.float16, and torch.bfloat16"
   ]
  },
  {
   "cell_type": "code",
   "execution_count": 25,
   "metadata": {},
   "outputs": [
    {
     "name": "stdout",
     "output_type": "stream",
     "text": [
      "False\n",
      "True\n"
     ]
    }
   ],
   "source": [
    "x4 = torch.tensor([1,2,3])\n",
    "print(torch.is_floating_point(x4[0]))\n",
    "print(torch.is_floating_point(torch.tensor([4.0])))"
   ]
  },
  {
   "cell_type": "markdown",
   "metadata": {},
   "source": [
    "`is_nonzero` - Returns True if the input is a single element tensor which is not equal to zero after type conversions. i.e. not equal to torch.tensor([0.]) or torch.tensor([0]) or torch.tensor([False]). \n",
    "\n",
    "Throws a RuntimeError if torch.numel() != 1 (even in case of sparse tensors)."
   ]
  },
  {
   "cell_type": "code",
   "execution_count": 28,
   "metadata": {},
   "outputs": [
    {
     "name": "stdout",
     "output_type": "stream",
     "text": [
      "False\n",
      "True\n",
      "False\n",
      "True\n"
     ]
    }
   ],
   "source": [
    "print(torch.is_nonzero(torch.tensor([0.])))\n",
    "print(torch.is_nonzero(torch.tensor([1.5])))\n",
    "print(torch.is_nonzero(torch.tensor([False])))\n",
    "print(torch.is_nonzero(torch.tensor([3])))"
   ]
  },
  {
   "cell_type": "code",
   "execution_count": 29,
   "metadata": {},
   "outputs": [
    {
     "ename": "RuntimeError",
     "evalue": "Boolean value of Tensor with no values is ambiguous",
     "output_type": "error",
     "traceback": [
      "\u001b[0;31m---------------------------------------------------------------------------\u001b[0m",
      "\u001b[0;31mRuntimeError\u001b[0m                              Traceback (most recent call last)",
      "Cell \u001b[0;32mIn[29], line 1\u001b[0m\n\u001b[0;32m----> 1\u001b[0m \u001b[39mprint\u001b[39m(torch\u001b[39m.\u001b[39mis_nonzero(torch\u001b[39m.\u001b[39mtensor([])))\n",
      "\u001b[0;31mRuntimeError\u001b[0m: Boolean value of Tensor with no values is ambiguous"
     ]
    }
   ],
   "source": [
    "print(torch.is_nonzero(torch.tensor([])))"
   ]
  },
  {
   "cell_type": "code",
   "execution_count": 30,
   "metadata": {},
   "outputs": [
    {
     "ename": "RuntimeError",
     "evalue": "Boolean value of Tensor with more than one value is ambiguous",
     "output_type": "error",
     "traceback": [
      "\u001b[0;31m---------------------------------------------------------------------------\u001b[0m",
      "\u001b[0;31mRuntimeError\u001b[0m                              Traceback (most recent call last)",
      "Cell \u001b[0;32mIn[30], line 1\u001b[0m\n\u001b[0;32m----> 1\u001b[0m \u001b[39mprint\u001b[39m(torch\u001b[39m.\u001b[39mis_nonzero(torch\u001b[39m.\u001b[39mtensor([\u001b[39m1\u001b[39m, \u001b[39m3\u001b[39m, \u001b[39m5\u001b[39m])))\n",
      "\u001b[0;31mRuntimeError\u001b[0m: Boolean value of Tensor with more than one value is ambiguous"
     ]
    }
   ],
   "source": [
    "print(torch.is_nonzero(torch.tensor([1, 3, 5])))"
   ]
  },
  {
   "cell_type": "code",
   "execution_count": null,
   "metadata": {},
   "outputs": [],
   "source": []
  }
 ],
 "metadata": {
  "kernelspec": {
   "display_name": "base",
   "language": "python",
   "name": "python3"
  },
  "language_info": {
   "codemirror_mode": {
    "name": "ipython",
    "version": 3
   },
   "file_extension": ".py",
   "mimetype": "text/x-python",
   "name": "python",
   "nbconvert_exporter": "python",
   "pygments_lexer": "ipython3",
   "version": "3.11.5"
  },
  "orig_nbformat": 4
 },
 "nbformat": 4,
 "nbformat_minor": 2
}
