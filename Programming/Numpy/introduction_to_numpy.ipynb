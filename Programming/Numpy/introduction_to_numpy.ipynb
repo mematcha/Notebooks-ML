{
 "cells": [
  {
   "cell_type": "markdown",
   "metadata": {},
   "source": [
    "# Introduction to Numpy"
   ]
  },
  {
   "cell_type": "markdown",
   "metadata": {},
   "source": [
    "Numpy is the fundamental package for scientific computing with Python"
   ]
  },
  {
   "cell_type": "markdown",
   "metadata": {},
   "source": [
    "- **Powerful:** N-dimensional arrays\n",
    "Fast and versatile, the NumPy vectorization, indexing, and broadcasting concepts are the de-facto standards of array computing today.\n",
    "- **Numerical computing tools:** NumPy offers comprehensive mathematical functions, random number generators, linear algebra routines, Fourier transforms, and more.\n",
    "- **Open source:** Distributed under a liberal BSD license, NumPy is developed and maintained publicly on GitHub by a vibrant, responsive, and diverse community.\n",
    "- **Interoperable:** NumPy supports a wide range of hardware and computing platforms, and plays well with distributed, GPU, and sparse array libraries.\n",
    "- **Performant:** The core of NumPy is well-optimized C code. Enjoy the flexibility of Python with the speed of compiled code.\n",
    "- **Easy to use:** NumPy’s high level syntax makes it accessible and productive for programmers from any background or experience level."
   ]
  },
  {
   "cell_type": "code",
   "execution_count": 2,
   "metadata": {},
   "outputs": [
    {
     "name": "stdout",
     "output_type": "stream",
     "text": [
      "1.24.3\n"
     ]
    }
   ],
   "source": [
    "import numpy as np\n",
    "print(np.__version__)"
   ]
  },
  {
   "cell_type": "markdown",
   "metadata": {},
   "source": [
    "# Ecosystem"
   ]
  },
  {
   "cell_type": "markdown",
   "metadata": {},
   "source": [
    "## Scientific Domains"
   ]
  },
  {
   "cell_type": "markdown",
   "metadata": {},
   "source": [
    "\n",
    "Nearly every scientist working in Python draws on the power of NumPy.\n",
    "\n",
    "NumPy brings the computational power of languages like C and Fortran to Python, a language much easier to learn and use. With this power comes simplicity: a solution in NumPy is often clear and elegant."
   ]
  },
  {
   "cell_type": "markdown",
   "metadata": {},
   "source": [
    "### A Comprehensive Overview of Python Libraries for Scientific Computing"
   ]
  },
  {
   "cell_type": "markdown",
   "metadata": {},
   "source": [
    "\n",
    "**Quantum Computing:**\n",
    "\n",
    "* **QuTiP:** A Python framework for quantum computing simulation. [https://qutip.org/qutip-tutorials/index-v4](https://qutip.org/qutip-tutorials/index-v4)\n",
    "* **PyQuil:** A Python-based quantum programming language. [https://github.com/rigetti/pyquil](https://github.com/rigetti/pyquil)\n",
    "* **Qiskit:** An open-source quantum computing software development kit. [https://www.ibm.com/quantum/qiskit](https://www.ibm.com/quantum/qiskit)\n",
    "* **PennyLane:** A Python library for hybrid quantum-classical machine learning. [https://pennylane.ai/index.html](https://pennylane.ai/index.html)\n",
    "\n",
    "**Statistical Computing:**\n",
    "\n",
    "* **Pandas:** A data analysis and manipulation library. [https://pandas.pydata.org/](https://pandas.pydata.org/)\n",
    "* **statsmodels:** A Python module that allows users to perform statistical tests and model data. [https://www.statsmodels.org/](https://www.statsmodels.org/)\n",
    "* **Xarray:** A N-D labeled arrays and datasets in Python. [https://xarray.pydata.org/en/v0.7.1/](https://xarray.pydata.org/en/v0.7.1/)\n",
    "* **Seaborn:** A Python data visualization library based on matplotlib. [https://seaborn.pydata.org/](https://seaborn.pydata.org/)\n",
    "\n",
    "**Signal Processing:**\n",
    "\n",
    "* **SciPy:** A collection of scientific and technical computing tools for Python. [https://lectures.scientific-python.org/](https://lectures.scientific-python.org/)\n",
    "* **PyWavelets:** A Python toolbox for wavelet transforms. [https://pywavelets.readthedocs.io/](https://pywavelets.readthedocs.io/)\n",
    "* **python-control:** A Python package for control systems analysis and design. [https://python-control.readthedocs.io/](https://python-control.readthedocs.io/)\n",
    "* **HyperSpy:** A Python-based hyperspectral imaging analysis library. [https://hyperspy.org/](https://hyperspy.org/)\n",
    "\n",
    "**Image Processing:**\n",
    "\n",
    "* **Scikit-image:** A collection of algorithms for image processing in Python. [https://scikit-image.org/](https://scikit-image.org/)\n",
    "* **OpenCV:** An open-source computer vision library. [https://opencv.org/](https://opencv.org/)\n",
    "* **Mahotas:** A computer vision and image processing library for Python. [https://mahotas.readthedocs.io/](https://mahotas.readthedocs.io/)\n",
    "\n",
    "**Graphs and Networks:**\n",
    "\n",
    "* **NetworkX:** A Python package for creating and analyzing graphs and networks. [https://networkx.org/](https://networkx.org/)\n",
    "* **graph-tool:** A fast and flexible graph library for Python. [https://forum.skewed.de/c/graph-tool/5](https://forum.skewed.de/c/graph-tool/5)\n",
    "* **igraph:** A Python library for network analysis and visualization. [https://igraph.org/](https://igraph.org/)\n",
    "* **PyGSP:** A Python package for graph signal processing. [https://github.com/epfl-lts2/pygsp](https://github.com/epfl-lts2/pygsp)\n",
    "\n",
    "**Astronomy:**\n",
    "\n",
    "* **AstroPy:** A Python library for astronomy and astrophysics. [https://www.astropy.org/](https://www.astropy.org/)\n",
    "* **SunPy:** A Python library for solar physics. [https://sunpy.org/about/](https://sunpy.org/about/)\n",
    "* **SpacePy:** A Python library for space science and plasma physics. [https://spacepy.github.io/](https://spacepy.github.io/)\n",
    "\n",
    "**Cognitive Psychology:**\n",
    "\n",
    "* **PsychoPy:** A Python library for experimental psychology. [https://www.psychopy.org/](https://www.psychopy.org/)\n",
    "\n",
    "**Bioinformatics:**\n",
    "\n",
    "* **BioPython:** A Python package for computational biology. [https://biopython.org/](https://biopython.org/)\n",
    "* **Scikit-Bio:** A collection of algorithms for machine learning in biology. [https://scikit.bio/](https://scikit.bio/)\n",
    "* **PyEnsembl:** A Python interface to the Ensembl genome database. [https://github.com/openvax/pyensembl](https://github.com/openvax/pyensembl)\n",
    "* **ETE:** A Python toolkit for evolutionary biology. [http://etetoolkit.org/](http://etetoolkit.org/)\n",
    "\n",
    "**Bayesian Inference:**\n",
    "\n",
    "* **PyStan:** A Python interface to Stan, a probabilistic programming language. [https://pystan.readthedocs.io/](https://pystan.readthedocs.io/)\n",
    "* **PyMC3:** A Python package for Bayesian modeling and inference. [https://arxiv.org/abs/1507.08050](https://arxiv.org/abs/1507.08050)\n",
    "* **ArviZ:** A Python library for Bayesian model analysis. [User Interface for Bayesian Analysis ON ArviZ arviz-devs.github.io]\n",
    "* **emcee:** A Python package for Markov chain Monte Carlo sampling. [https://emcee.readthedocs.io/](https://emcee.readthedocs.io/)\n",
    "\n",
    "**Mathematical Analysis:**\n",
    "\n",
    "* **SciPy:** A collection of scientific and technical computing tools for Python. [https://lectures.scientific-python.org/](https://lectures.scientific-python.org/)\n",
    "* **SymPy:** A Python library for symbolic mathematics. [https://www.sympy.org/](https://www.sympy.org/)\n",
    "* **cvxpy:** A Python-embedded modeling language for convex optimization. [https://www.cvxpy.org/](https://www.cvxpy.org/)\n",
    "* **FEniCS:** A Python-based finite element solver. [https://fenicsproject.org/](https://fenicsproject.org/)\n",
    "\n",
    "**Chemistry:**\n",
    "\n",
    "* **Cantera:** A Python library for chemical kinetics, thermodynamics, and transport processes. [https://cantera.org/documentation/docs-2.5/sphinx/html/cython/kinetics.html](https://cantera.org/documentation/docs-2.5/sphinx/html/cython/kinetics.html)\n",
    "* **MDAnalysis:** A Python package for molecular dynamics analysis. [https://www.mdanalysis.org/](https://www.mdanalysis.org/)\n",
    "* **RDKit:** A cheminformatics toolkit for Python. [https://www.rdkit.org/](https://www.rdkit.org/)\n",
    "* **PyBaMM:** A Python battery model framework. [https://pybamm.org/](https://pybamm.org/)\n",
    "\n",
    "**Geoscience:**\n",
    "\n",
    "* **Pangeo:** A project for building a collaborative, cloud-based data analysis platform for Earth sciences. [https://www.pangeo.io/](https://www.pangeo.io/)\n",
    "* **Simpeg:** A Python package for geophysical modeling and inversion. [https://simpeg.xyz/](https://simpeg.xyz/)\n",
    "* **ObsPy:** A Python package for seismology and geophysics. [https://docs.obspy.org/](https://docs.obspy.org/)\n",
    "* **Fatiando a Terra:** A Python package for geophysical data analysis and modeling. [https://www.fatiando.org/](https://www.fatiando.org/)\n",
    "\n",
    "**Geographic Processing:**\n",
    "\n",
    "* **Shapely:** A Python library for geometric operations on planar geometries. [https://shapely.readthedocs.io/](https://shapely.readthedocs.io/)\n",
    "* **GeoPandas:** A Python library for geospatial data processing. [https://geopandas.org/](https://geopandas.org/)\n",
    "* **Folium:** A Python library for creating interactive maps. [https://realpython.com/python-folium-web-maps-from-data/](https://realpython.com/python-folium-web-maps-from-data/)\n",
    "\n",
    "**Architecture & Engineering:**\n",
    "\n",
    "* **COMPAS:** A Python framework for computational design and fabrication. [http://www.sfu.ca/~herhan/research_i.html](http://www.sfu.ca/~herhan/research_i.html)\n",
    "* **City Energy Analyst:** A Python tool for analyzing energy use in cities. [https://www.cityenergyanalyst.com/](https://www.cityenergyanalyst.com/)\n",
    "* **Sverchok:** A node-based visual programming environment for Blender. [https://github.com/nortikin/sverchok](https://github.com/nortikin/sverchok)\n"
   ]
  },
  {
   "cell_type": "markdown",
   "metadata": {},
   "source": []
  },
  {
   "cell_type": "markdown",
   "metadata": {},
   "source": [
    "## Array Libraries"
   ]
  },
  {
   "cell_type": "markdown",
   "metadata": {},
   "source": [
    "**NumPy's API** serves as a foundational building block for numerous scientific computing libraries in Python. Its versatility and efficiency have made it a cornerstone for developers working on innovative hardware, specialized array types, or advanced analytics.\n",
    "\n",
    "### Array Libraries Built on NumPy\n",
    "\n",
    "**Dask:**\n",
    "\n",
    "  * **Capabilities:** Distributed arrays and advanced parallelism for analytics.\n",
    "  * **Application areas:** Large-scale data processing, machine learning, and scientific computing.\n",
    "  * **Link:** [https://dask.org]\n",
    "\n",
    "**CuPy:**\n",
    "\n",
    "  * **Capabilities:** NumPy-compatible array library for GPU-accelerated computing.\n",
    "  * **Application areas:** Deep learning, scientific computing, and data analysis.\n",
    "  * **Link:** [https://cupy.chainer.org/](https://www.google.com/url?sa=E&source=gmail&q=https://cupy.chainer.org/)\n",
    "\n",
    "**JAX:**\n",
    "\n",
    "  * **Capabilities:** Composable transformations of NumPy programs: differentiation, vectorization, just-in-time compilation to GPU/TPU.\n",
    "  * **Application areas:** Machine learning, scientific computing, and optimization.\n",
    "  * **Link:** [https://jax.readthedocs.io/](https://www.google.com/url?sa=E&source=gmail&q=https://jax.readthedocs.io/)\n",
    "\n",
    "**Xarray:**\n",
    "\n",
    "  * **Capabilities:** Labeled, indexed multi-dimensional arrays for advanced analytics and visualization.\n",
    "  * **Application areas:** Earth sciences, climate modeling, and scientific data analysis.\n",
    "  * **Link:** <https://xarray.pydata.org/en/v0.7.1/>\n",
    "\n",
    "**Sparse:**\n",
    "\n",
    "  * **Capabilities:** NumPy-compatible sparse array library that integrates with Dask and SciPy's sparse linear algebra.\n",
    "  * **Application areas:** Scientific computing, machine learning, and data analysis with sparse data.\n",
    "  * **Link:** [https://sparse.pydata.org/](https://www.google.com/url?sa=E&source=gmail&q=https://sparse.pydata.org/)\n",
    "\n",
    "**Deep Learning Frameworks:**\n",
    "\n",
    "  * **PyTorch:** A deep learning framework that accelerates the path from research prototyping to production deployment.\n",
    "\n",
    "  * **Link:** [https://pytorch.org/](https://www.google.com/url?sa=E&source=gmail&q=https://pytorch.org/)\n",
    "\n",
    "  * **TensorFlow:** An end-to-end platform for machine learning to easily build and deploy ML powered applications.\n",
    "\n",
    "  * **Link:** [https://www.tensorflow.org/](https://www.google.com/url?sa=E&source=gmail&q=https://www.tensorflow.org/)\n",
    "\n",
    "**Data Analysis and Processing:**\n",
    "\n",
    "  * **Arrow:** A cross-language development platform for columnar in-memory data and analytics.\n",
    "\n",
    "  * **Link:** [https://arrow.apache.org/](https://www.google.com/url?sa=E&source=gmail&q=https://arrow.apache.org/)\n",
    "\n",
    "  * **xtensor:** Multi-dimensional arrays with broadcasting and lazy computing for numerical analysis.\n",
    "\n",
    "  * **Link:** [https://xtensor.readthedocs.io/en/latest/](https://www.google.com/url?sa=E&source=gmail&q=https://xtensor.readthedocs.io/en/latest/)\n",
    "\n",
    "  * **Awkward Array:** Manipulate JSON-like data with NumPy-like idioms.\n",
    "\n",
    "  * **Link:** [https://awkward-array.org/doc/main/]\n",
    "\n",
    "  * **uarray:** Python backend system that decouples API from implementation; unumpy provides a NumPy API.\n",
    "\n",
    "  * **Link:** [https://uarray.readthedocs.io/en/latest/](https://www.google.com/url?sa=E&source=gmail&q=https://uarray.readthedocs.io/en/latest/)\n",
    "\n",
    "  * **tensorly:** Tensor learning, algebra and backends to seamlessly use NumPy, PyTorch, TensorFlow or CuPy.\n",
    "\n",
    "  * **Link:** [https://tensorly.org/](https://www.google.com/url?sa=E&source=gmail&q=https://tensorly.org/)\n"
   ]
  },
  {
   "cell_type": "markdown",
   "metadata": {},
   "source": [
    "## Data Science"
   ]
  },
  {
   "cell_type": "markdown",
   "metadata": {},
   "source": [
    "\n",
    "**NumPy** serves as a fundamental building block for many data science libraries, providing essential array and matrix operations. Here's a breakdown of common libraries used in typical data science workflows:\n",
    "\n",
    "### Extract, Transform, Load (ETL)\n",
    "\n",
    "  * **Pandas:** A powerful library for data manipulation and analysis. <https://pandas.pydata.org/>\n",
    "  * **Intake:** A data ingestion library that supports various data formats. [https://intake.readthedocs.io/](https://www.google.com/url?sa=E&source=gmail&q=https://intake.readthedocs.io/)\n",
    "  * **PyJanitor:** A library for data cleaning and preparation. [https://pyjanitor.readthedocs.io/](https://www.google.com/url?sa=E&source=gmail&q=https://pyjanitor.readthedocs.io/)\n",
    "\n",
    "### Exploratory Analysis\n",
    "\n",
    "  * **Jupyter:** An interactive computing environment that combines code, text, and visualizations. [https://jupyter.org/](https://www.google.com/url?sa=E&source=gmail&q=https://jupyter.org/)\n",
    "  * **Seaborn:** A high-level data visualization library built on Matplotlib. <https://seaborn.pydata.org/>\n",
    "  * **Matplotlib:** A versatile plotting library for creating static, animated, and interactive visualizations. [https://matplotlib.org/](https://www.google.com/url?sa=E&source=gmail&q=https://matplotlib.org/)\n",
    "  * **Altair:** A declarative statistical visualization library. [invalid URL removed]\n",
    "\n",
    "### Model and Evaluate\n",
    "\n",
    "  * **scikit-learn:** A machine learning library with a wide range of algorithms for classification, regression, clustering, and more. [https://scikit-learn.org/](https://www.google.com/url?sa=E&source=gmail&q=https://scikit-learn.org/)\n",
    "  * **statsmodels:** A library for statistical modeling and testing. <https://www.statsmodels.org/>\n",
    "  * **PyMC3:** A probabilistic programming library for Bayesian modeling. [https://docs.pymc.io/](https://www.google.com/url?sa=E&source=gmail&q=https://docs.pymc.io/)\n",
    "  * **spaCy:** A natural language processing library for tasks like text classification and named entity recognition. [https://spacy.io/](https://www.google.com/url?sa=E&source=gmail&q=https://spacy.io/)\n",
    "\n",
    "### Report in a Dashboard\n",
    "\n",
    "  * **Dash:** A Python framework for building web applications and dashboards. [https://dash.plotly.com/](https://www.google.com/url?sa=E&source=gmail&q=https://dash.plotly.com/)\n",
    "  * **Panel:** A high-level Python library for building web applications and dashboards. [https://panel.holoviz.org/](https://www.google.com/url?sa=E&source=gmail&q=https://panel.holoviz.org/)\n",
    "  * **Voila:** A tool for converting Jupyter notebooks into standalone web applications. [https://voila.readthedocs.io/](https://www.google.com/url?sa=E&source=gmail&q=https://voila.readthedocs.io/)\n",
    "\n",
    "**This workflow provides a solid foundation for many data science tasks. However, the specific choice of libraries may vary depending on the nature of the data and the goals of the analysis.**\n"
   ]
  },
  {
   "cell_type": "markdown",
   "metadata": {},
   "source": [
    "## Machine Learning"
   ]
  },
  {
   "cell_type": "markdown",
   "metadata": {},
   "source": [
    "NumPy forms the basis of powerful machine learning libraries like scikit-learn and SciPy. As machine learning grows, so does the list of libraries built on NumPy. TensorFlow’s deep learning capabilities have broad applications — among them speech and image recognition, text-based applications, time-series analysis, and video detection. PyTorch, another deep learning library, is popular among researchers in computer vision and natural language processing."
   ]
  },
  {
   "cell_type": "markdown",
   "metadata": {},
   "source": [
    "## Visualization"
   ]
  },
  {
   "cell_type": "markdown",
   "metadata": {},
   "source": [
    "NumPy is an essential component in the burgeoning Python visualization landscape, which includes Matplotlib, Seaborn, Plotly, Altair, Bokeh, Holoviz, Vispy, Napari, and PyVista, to name a few.\n",
    "\n",
    "NumPy’s accelerated processing of large arrays allows researchers to visualize datasets far larger than native Python could handle."
   ]
  },
  {
   "cell_type": "markdown",
   "metadata": {},
   "source": []
  }
 ],
 "metadata": {
  "kernelspec": {
   "display_name": "base",
   "language": "python",
   "name": "python3"
  },
  "language_info": {
   "codemirror_mode": {
    "name": "ipython",
    "version": 3
   },
   "file_extension": ".py",
   "mimetype": "text/x-python",
   "name": "python",
   "nbconvert_exporter": "python",
   "pygments_lexer": "ipython3",
   "version": "3.11.5"
  },
  "orig_nbformat": 4
 },
 "nbformat": 4,
 "nbformat_minor": 2
}
