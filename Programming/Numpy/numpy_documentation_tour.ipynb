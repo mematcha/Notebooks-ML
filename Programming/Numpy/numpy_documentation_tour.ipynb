{
 "cells": [
  {
   "cell_type": "markdown",
   "metadata": {},
   "source": [
    "# Documentation Tour - NumPy"
   ]
  },
  {
   "cell_type": "markdown",
   "metadata": {},
   "source": [
    "NumPy is the fundamental package for scientific computing in Python. It is a Python library that provides a multidimensional array object, various derived objects (such as masked arrays and matrices), and an assortment of routines for fast operations on arrays, including mathematical, logical, shape manipulation, sorting, selecting, I/O, discrete Fourier transforms, basic linear algebra, basic statistical operations, random simulation and much more."
   ]
  },
  {
   "cell_type": "markdown",
   "metadata": {},
   "source": [
    "- [Beginner's Guide](https://numpy.org/doc/stable/user/absolute_beginners.html)\n",
    "- [User Guide](https://numpy.org/doc/stable/user/index.html#user)\n",
    "- [API Reference](https://numpy.org/doc/stable/reference/index.html#reference)\n",
    "- [Contributor's Guide](https://numpy.org/doc/stable/dev/index.html#devindex)"
   ]
  },
  {
   "cell_type": "code",
   "execution_count": null,
   "metadata": {},
   "outputs": [],
   "source": [
    "%pip install numpy"
   ]
  },
  {
   "cell_type": "markdown",
   "metadata": {},
   "source": [
    "If you get errors NOT related to installing of Numpy, you probably need not worry about that issue. Our main goal for now is to use NumPy properly and to its fullest extent. "
   ]
  },
  {
   "cell_type": "code",
   "execution_count": 1,
   "metadata": {},
   "outputs": [
    {
     "name": "stdout",
     "output_type": "stream",
     "text": [
      "Numpy Version is:  1.26.4\n"
     ]
    }
   ],
   "source": [
    "import numpy as np\n",
    "print(\"Numpy Version is: \",np.__version__)"
   ]
  },
  {
   "cell_type": "markdown",
   "metadata": {},
   "source": [
    "# NumPy Reference"
   ]
  },
  {
   "cell_type": "markdown",
   "metadata": {},
   "source": [
    "## NumPy Module Structure"
   ]
  },
  {
   "cell_type": "markdown",
   "metadata": {},
   "source": [
    "Regular Namespaces"
   ]
  },
  {
   "cell_type": "markdown",
   "metadata": {},
   "source": [
    "\n",
    "> A namespace is a collection of well-defined symbolic names along with information about the object that each name references. (Basically like a dictionary). \n",
    "\n",
    "> This is good when you are defining submodules too, they make things for interpreters to identify the specific submodule of a module to be loaded."
   ]
  },
  {
   "cell_type": "markdown",
   "metadata": {},
   "source": [
    "- numpy\n",
    "- numpy.exceptions\n",
    "- numpy.fft\n",
    "- numpy.linalg\n",
    "- numpy.polynomial\n",
    "- numpy.random\n",
    "- numpy.strings\n",
    "- numpy.testing\n",
    "- numpy.typing"
   ]
  },
  {
   "cell_type": "markdown",
   "metadata": {},
   "source": [
    "Special purpose Namespaces"
   ]
  },
  {
   "cell_type": "markdown",
   "metadata": {},
   "source": [
    "- numpy.ctypeslib - interacting with NumPy objects with ctypes \n",
    "- numpy.dtypes - dtype classes - (typically not used directly by end - users)\n",
    "- numpy.emath - mathematical functions - with automatic domain\n",
    "- numpy.lib - utilities & functionality - which do not fit the main namespace\n",
    "- numpy.rec - record arrays (largely superseded by dataframe libraries)\n",
    "- numpy.version - small module with more detailed version info"
   ]
  },
  {
   "cell_type": "markdown",
   "metadata": {},
   "source": [
    "## numpy.exceptions"
   ]
  },
  {
   "cell_type": "markdown",
   "metadata": {},
   "source": [
    "General exceptions used by Numpy. Note that some exceptions may be module specific, such as linear algebra errors."
   ]
  },
  {
   "cell_type": "markdown",
   "metadata": {},
   "source": [
    ">Only available from NumPy version 1.25"
   ]
  },
  {
   "cell_type": "code",
   "execution_count": 2,
   "metadata": {},
   "outputs": [
    {
     "data": {
      "text/plain": [
       "<module 'numpy.exceptions' from '/Users/smatcha/anaconda3/lib/python3.11/site-packages/numpy/exceptions.py'>"
      ]
     },
     "execution_count": 2,
     "metadata": {},
     "output_type": "execute_result"
    }
   ],
   "source": [
    "np.exceptions"
   ]
  },
  {
   "cell_type": "markdown",
   "metadata": {},
   "source": [
    "Warnings\n",
    "\n",
    "- ComplexWarning: The warning raised when casting a complex dtype to a real dtype.\n",
    "- Visible Depreciation Warning: Visible deprecation warning.\n",
    "- RankWarning: Warning related to Matrix Warning Issues\n",
    "\n",
    "Exceptions\n",
    "\n",
    "- AxisError: Axis Supplied was Invalid.\n",
    "- DTypePromotionError: Multiple DTypes could not be converted to a common one. Comes from a form of `TypeError`.\n",
    "- TooHardError: max_work was exceeded."
   ]
  },
  {
   "cell_type": "code",
   "execution_count": 7,
   "metadata": {},
   "outputs": [
    {
     "name": "stdout",
     "output_type": "stream",
     "text": [
      "<class 'numpy.exceptions.ComplexWarning'>\n",
      "<class 'numpy.exceptions.VisibleDeprecationWarning'>\n",
      "<class 'numpy.exceptions.RankWarning'>\n",
      "<class 'numpy.exceptions.AxisError'>\n",
      "<class 'numpy.exceptions.DTypePromotionError'>\n",
      "<class 'numpy.exceptions.TooHardError'>\n"
     ]
    }
   ],
   "source": [
    "print(np.exceptions.ComplexWarning)\n",
    "print(np.exceptions.VisibleDeprecationWarning)\n",
    "print(np.exceptions.RankWarning)\n",
    "print(np.exceptions.AxisError)\n",
    "print(np.exceptions.DTypePromotionError)\n",
    "print(np.exceptions.TooHardError)"
   ]
  },
  {
   "cell_type": "code",
   "execution_count": 17,
   "metadata": {},
   "outputs": [
    {
     "name": "stdout",
     "output_type": "stream",
     "text": [
      "(2, 2)\n",
      "[4 6]\n",
      "[3 7]\n"
     ]
    },
    {
     "ename": "AxisError",
     "evalue": "axis 2 is out of bounds for array of dimension 2",
     "output_type": "error",
     "traceback": [
      "\u001b[0;31m---------------------------------------------------------------------------\u001b[0m",
      "\u001b[0;31mAxisError\u001b[0m                                 Traceback (most recent call last)",
      "Cell \u001b[0;32mIn[17], line 9\u001b[0m\n\u001b[1;32m      7\u001b[0m _sum \u001b[39m=\u001b[39m np\u001b[39m.\u001b[39msum(array,axis\u001b[39m=\u001b[39m\u001b[39m1\u001b[39m)\n\u001b[1;32m      8\u001b[0m \u001b[39mprint\u001b[39m(_sum)\n\u001b[0;32m----> 9\u001b[0m _sum \u001b[39m=\u001b[39m np\u001b[39m.\u001b[39msum(array,axis\u001b[39m=\u001b[39m\u001b[39m2\u001b[39m) \u001b[39m# No Axis --> Should give Axis error\u001b[39;00m\n\u001b[1;32m     10\u001b[0m \u001b[39mprint\u001b[39m(_sum)\n",
      "File \u001b[0;32m~/anaconda3/lib/python3.11/site-packages/numpy/_core/fromnumeric.py:2485\u001b[0m, in \u001b[0;36msum\u001b[0;34m(a, axis, dtype, out, keepdims, initial, where)\u001b[0m\n\u001b[1;32m   2482\u001b[0m         \u001b[39mreturn\u001b[39;00m out\n\u001b[1;32m   2483\u001b[0m     \u001b[39mreturn\u001b[39;00m res\n\u001b[0;32m-> 2485\u001b[0m \u001b[39mreturn\u001b[39;00m _wrapreduction(\n\u001b[1;32m   2486\u001b[0m     a, np\u001b[39m.\u001b[39madd, \u001b[39m'\u001b[39m\u001b[39msum\u001b[39m\u001b[39m'\u001b[39m, axis, dtype, out,\n\u001b[1;32m   2487\u001b[0m     keepdims\u001b[39m=\u001b[39mkeepdims, initial\u001b[39m=\u001b[39minitial, where\u001b[39m=\u001b[39mwhere\n\u001b[1;32m   2488\u001b[0m )\n",
      "File \u001b[0;32m~/anaconda3/lib/python3.11/site-packages/numpy/_core/fromnumeric.py:86\u001b[0m, in \u001b[0;36m_wrapreduction\u001b[0;34m(obj, ufunc, method, axis, dtype, out, **kwargs)\u001b[0m\n\u001b[1;32m     83\u001b[0m         \u001b[39melse\u001b[39;00m:\n\u001b[1;32m     84\u001b[0m             \u001b[39mreturn\u001b[39;00m reduction(axis\u001b[39m=\u001b[39maxis, out\u001b[39m=\u001b[39mout, \u001b[39m*\u001b[39m\u001b[39m*\u001b[39mpasskwargs)\n\u001b[0;32m---> 86\u001b[0m \u001b[39mreturn\u001b[39;00m ufunc\u001b[39m.\u001b[39mreduce(obj, axis, dtype, out, \u001b[39m*\u001b[39m\u001b[39m*\u001b[39mpasskwargs)\n",
      "\u001b[0;31mAxisError\u001b[0m: axis 2 is out of bounds for array of dimension 2"
     ]
    }
   ],
   "source": [
    "array = np.array([(1,2),(3,4)])\n",
    "print(array.shape)\n",
    "\n",
    "#Axis Error Demostration\n",
    "_sum = np.sum(array,axis=0)\n",
    "print(_sum)\n",
    "_sum = np.sum(array,axis=1)\n",
    "print(_sum)\n",
    "_sum = np.sum(array,axis=2) # No Axis --> Should give Axis error\n",
    "print(_sum)"
   ]
  },
  {
   "cell_type": "code",
   "execution_count": 18,
   "metadata": {},
   "outputs": [
    {
     "ename": "DTypePromotionError",
     "evalue": "The DType <class 'numpy.dtypes.DateTime64DType'> could not be promoted by <class 'numpy.dtypes.Complex128DType'>. This means that no common DType exists for the given inputs. For example they cannot be stored in a single array unless the dtype is `object`. The full list of DTypes is: (<class 'numpy.dtypes.DateTime64DType'>, <class 'numpy.dtypes.Complex128DType'>)",
     "output_type": "error",
     "traceback": [
      "\u001b[0;31m---------------------------------------------------------------------------\u001b[0m",
      "\u001b[0;31mDTypePromotionError\u001b[0m                       Traceback (most recent call last)",
      "Cell \u001b[0;32mIn[18], line 1\u001b[0m\n\u001b[0;32m----> 1\u001b[0m np\u001b[39m.\u001b[39mresult_type(np\u001b[39m.\u001b[39mdtype(\u001b[39m\"\u001b[39m\u001b[39mM8[s]\u001b[39m\u001b[39m\"\u001b[39m), np\u001b[39m.\u001b[39mcomplex128)\n",
      "\u001b[0;31mDTypePromotionError\u001b[0m: The DType <class 'numpy.dtypes.DateTime64DType'> could not be promoted by <class 'numpy.dtypes.Complex128DType'>. This means that no common DType exists for the given inputs. For example they cannot be stored in a single array unless the dtype is `object`. The full list of DTypes is: (<class 'numpy.dtypes.DateTime64DType'>, <class 'numpy.dtypes.Complex128DType'>)"
     ]
    }
   ],
   "source": [
    "np.result_type(np.dtype(\"M8[s]\"), np.complex128)"
   ]
  },
  {
   "cell_type": "code",
   "execution_count": 20,
   "metadata": {},
   "outputs": [
    {
     "ename": "DTypePromotionError",
     "evalue": "field names `('field1', 'field2')` and `('field1',)` mismatch.",
     "output_type": "error",
     "traceback": [
      "\u001b[0;31m---------------------------------------------------------------------------\u001b[0m",
      "\u001b[0;31mDTypePromotionError\u001b[0m                       Traceback (most recent call last)",
      "Cell \u001b[0;32mIn[20], line 3\u001b[0m\n\u001b[1;32m      1\u001b[0m dtype1 \u001b[39m=\u001b[39m np\u001b[39m.\u001b[39mdtype([(\u001b[39m\"\u001b[39m\u001b[39mfield1\u001b[39m\u001b[39m\"\u001b[39m, np\u001b[39m.\u001b[39mfloat64), (\u001b[39m\"\u001b[39m\u001b[39mfield2\u001b[39m\u001b[39m\"\u001b[39m, np\u001b[39m.\u001b[39mint64)])\n\u001b[1;32m      2\u001b[0m dtype2 \u001b[39m=\u001b[39m np\u001b[39m.\u001b[39mdtype([(\u001b[39m\"\u001b[39m\u001b[39mfield1\u001b[39m\u001b[39m\"\u001b[39m, np\u001b[39m.\u001b[39mfloat64)])\n\u001b[0;32m----> 3\u001b[0m np\u001b[39m.\u001b[39mpromote_types(dtype1, dtype2)\n",
      "File \u001b[0;32m~/anaconda3/lib/python3.11/site-packages/numpy/_core/_internal.py:471\u001b[0m, in \u001b[0;36m_promote_fields\u001b[0;34m(dt1, dt2)\u001b[0m\n\u001b[1;32m    469\u001b[0m \u001b[39m# Both must be structured and have the same names in the same order\u001b[39;00m\n\u001b[1;32m    470\u001b[0m \u001b[39mif\u001b[39;00m (dt1\u001b[39m.\u001b[39mnames \u001b[39mis\u001b[39;00m \u001b[39mNone\u001b[39;00m \u001b[39mor\u001b[39;00m dt2\u001b[39m.\u001b[39mnames \u001b[39mis\u001b[39;00m \u001b[39mNone\u001b[39;00m) \u001b[39mor\u001b[39;00m dt1\u001b[39m.\u001b[39mnames \u001b[39m!=\u001b[39m dt2\u001b[39m.\u001b[39mnames:\n\u001b[0;32m--> 471\u001b[0m     \u001b[39mraise\u001b[39;00m DTypePromotionError(\n\u001b[1;32m    472\u001b[0m             \u001b[39mf\u001b[39m\u001b[39m\"\u001b[39m\u001b[39mfield names `\u001b[39m\u001b[39m{\u001b[39;00mdt1\u001b[39m.\u001b[39mnames\u001b[39m}\u001b[39;00m\u001b[39m` and `\u001b[39m\u001b[39m{\u001b[39;00mdt2\u001b[39m.\u001b[39mnames\u001b[39m}\u001b[39;00m\u001b[39m` mismatch.\u001b[39m\u001b[39m\"\u001b[39m)\n\u001b[1;32m    474\u001b[0m \u001b[39m# if both are identical, we can (maybe!) just return the same dtype.\u001b[39;00m\n\u001b[1;32m    475\u001b[0m identical \u001b[39m=\u001b[39m dt1 \u001b[39mis\u001b[39;00m dt2\n",
      "\u001b[0;31mDTypePromotionError\u001b[0m: field names `('field1', 'field2')` and `('field1',)` mismatch."
     ]
    }
   ],
   "source": [
    "dtype1 = np.dtype([(\"field1\", np.float64), (\"field2\", np.int64)])\n",
    "dtype2 = np.dtype([(\"field1\", np.float64)])\n",
    "np.promote_types(dtype1, dtype2)  "
   ]
  },
  {
   "cell_type": "code",
   "execution_count": 5,
   "metadata": {},
   "outputs": [
    {
     "ename": "TooHardError",
     "evalue": "This operation is too hard for the current dataset size!",
     "output_type": "error",
     "traceback": [
      "\u001b[0;31m---------------------------------------------------------------------------\u001b[0m",
      "\u001b[0;31mTooHardError\u001b[0m                              Traceback (most recent call last)",
      "Cell \u001b[0;32mIn[5], line 13\u001b[0m\n\u001b[1;32m     11\u001b[0m \u001b[39m# Example usage\u001b[39;00m\n\u001b[1;32m     12\u001b[0m data \u001b[39m=\u001b[39m np\u001b[39m.\u001b[39mrandom\u001b[39m.\u001b[39mrand(\u001b[39m10\u001b[39m\u001b[39m*\u001b[39m\u001b[39m*\u001b[39m\u001b[39m7\u001b[39m)  \u001b[39m# A large dataset\u001b[39;00m\n\u001b[0;32m---> 13\u001b[0m result \u001b[39m=\u001b[39m complex_numpy_function(data)\n\u001b[1;32m     14\u001b[0m \u001b[39mprint\u001b[39m(\u001b[39m\"\u001b[39m\u001b[39mMean of data:\u001b[39m\u001b[39m\"\u001b[39m, result)\n",
      "Cell \u001b[0;32mIn[5], line 6\u001b[0m, in \u001b[0;36mcomplex_numpy_function\u001b[0;34m(data)\u001b[0m\n\u001b[1;32m      3\u001b[0m \u001b[39mdef\u001b[39;00m \u001b[39mcomplex_numpy_function\u001b[39m(data):\n\u001b[1;32m      4\u001b[0m     \u001b[39m# Imagine this operation is too complex or the array is too large\u001b[39;00m\n\u001b[1;32m      5\u001b[0m     \u001b[39mif\u001b[39;00m data\u001b[39m.\u001b[39msize \u001b[39m>\u001b[39m \u001b[39m10\u001b[39m\u001b[39m*\u001b[39m\u001b[39m*\u001b[39m\u001b[39m6\u001b[39m:\n\u001b[0;32m----> 6\u001b[0m         \u001b[39mraise\u001b[39;00m np\u001b[39m.\u001b[39mexceptions\u001b[39m.\u001b[39mTooHardError(\u001b[39m\"\u001b[39m\u001b[39mThis operation is too hard for the current dataset size!\u001b[39m\u001b[39m\"\u001b[39m)\n\u001b[1;32m      8\u001b[0m     \u001b[39m# A simple operation that won't raise an error for small datasets\u001b[39;00m\n\u001b[1;32m      9\u001b[0m     \u001b[39mreturn\u001b[39;00m np\u001b[39m.\u001b[39mmean(data)\n",
      "\u001b[0;31mTooHardError\u001b[0m: This operation is too hard for the current dataset size!"
     ]
    }
   ],
   "source": [
    "import numpy as np\n",
    "\n",
    "def complex_numpy_function(data):\n",
    "    # Imagine this operation is too complex or the array is too large\n",
    "    if data.size > 10**6:\n",
    "        raise np.exceptions.TooHardError(\"This operation is too hard for the current dataset size!\")\n",
    "    \n",
    "    # A simple operation that won't raise an error for small datasets\n",
    "    return np.mean(data)\n",
    "\n",
    "# Example usage\n",
    "data = np.random.rand(10**7)  # A large dataset\n",
    "result = complex_numpy_function(data)\n",
    "print(\"Mean of data:\", result)\n"
   ]
  },
  {
   "cell_type": "markdown",
   "metadata": {},
   "source": [
    "## numpy.fft"
   ]
  },
  {
   "cell_type": "markdown",
   "metadata": {},
   "source": [
    "Numpy Module for [Fourier Transforms](https://en.wikipedia.org/wiki/Fourier_transform)."
   ]
  },
  {
   "cell_type": "markdown",
   "metadata": {},
   "source": [
    "## numpy.linalg"
   ]
  },
  {
   "cell_type": "markdown",
   "metadata": {},
   "source": [
    "The NumPy linear algebra functions rely on [BLAS](https://en.wikipedia.org/wiki/Basic_Linear_Algebra_Subprograms) and [LAPACK](https://en.wikipedia.org/wiki/LAPACK) to provide efficient low level implementations of standard linear algebra algorithms. "
   ]
  },
  {
   "cell_type": "markdown",
   "metadata": {},
   "source": [
    "\n",
    "> Basic Linear Algebra Subprograms (BLAS) is a specification that prescribes a set of low-level routines for performing common linear algebra operations such as vector addition, scalar multiplication, dot products, linear combinations, and matrix multiplication. They are the de facto standard low-level routines for linear algebra libraries; the routines have bindings for both C (\"CBLAS interface\") and Fortran (\"BLAS interface\"). Although the BLAS specification is general, BLAS implementations are often optimized for speed on a particular machine, so using them can bring substantial performance benefits. BLAS implementations will take advantage of special floating point hardware such as vector registers or SIMD instructions."
   ]
  },
  {
   "cell_type": "markdown",
   "metadata": {},
   "source": [
    "> LAPACK (\"Linear Algebra Package\") is a standard software library for numerical linear algebra. It provides routines for solving systems of linear equations and linear least squares, eigenvalue problems, and singular value decomposition. It also includes routines to implement the associated matrix factorizations such as LU, QR, Cholesky and Schur decomposition. LAPACK was originally written in FORTRAN 77, but moved to Fortran 90 in version 3.2 (2008).[3] The routines handle both real and complex matrices in both single and double precision. LAPACK relies on an underlying BLAS implementation to provide efficient and portable computational building blocks for its routines."
   ]
  },
  {
   "cell_type": "markdown",
   "metadata": {},
   "source": [
    "\n",
    "References:\n",
    "\n",
    "- Anderson, E.; Bai, Z.; Bischof, C.; Blackford, S.; Demmel, J.; Dongarra, J.; Du Croz, J.; Greenbaum, A.; Hammarling, S.; McKenney, A.; Sorensen, D. (1999). LAPACK Users' Guide (Third ed.). Philadelphia, PA: Society for Industrial and Applied Mathematics. ISBN 0-89871-447-8. Retrieved 28 May 2022.\n",
    "\n",
    "- \"LAPACK 3.2 Release Notes\". 16 November 2008."
   ]
  },
  {
   "cell_type": "markdown",
   "metadata": {},
   "source": [
    "\n",
    "Those libraries may be provided by NumPy itself using C versions of a subset of their reference implementations but, when possible, highly optimized libraries that take advantage of specialized processor functionality are preferred. Examples of such libraries are [OpenBLAS](https://www.openblas.net), [MKL (TM)](https://en.wikipedia.org/wiki/Math_Kernel_Library), and [ATLAS](https://math-atlas.sourceforge.net). Because those libraries are multithreaded and processor dependent, environmental variables and external packages such as **threadpoolctl** may be needed to control the number of threads or specify the processor architecture."
   ]
  },
  {
   "cell_type": "markdown",
   "metadata": {},
   "source": [
    "The SciPy library also contains a `linalg` submodule, and there is overlap in the functionality provided by the SciPy and NumPy submodules. SciPy contains functions not found in numpy.linalg, such as functions related to [LU decomposition](https://en.wikipedia.org/wiki/LU_decomposition) and the [Schur decomposition](https://en.wikipedia.org/wiki/Schur_decomposition), multiple ways of calculating the pseudoinverse, and matrix transcendentals such as the matrix logarithm."
   ]
  },
  {
   "cell_type": "markdown",
   "metadata": {},
   "source": [
    "> Axes in NumPy Arrays\n",
    "\n",
    "- Axis 0: This is the first axis of a NumPy array. It typically represents the rows in a 2D array (or the outermost dimension in higher-dimensional arrays). When you perform operations along axis 0, you are usually aggregating or processing across all rows.\n",
    "\n",
    "- Axis 1: This is the second axis of a NumPy array. In a 2D array, it corresponds to the columns. When you perform operations along axis 1, you are aggregating or processing across all columns."
   ]
  },
  {
   "cell_type": "markdown",
   "metadata": {},
   "source": [
    "> The `@` operator is used for matrix multiplication between two matrices. `np.matmul` "
   ]
  },
  {
   "cell_type": "code",
   "execution_count": 3,
   "metadata": {},
   "outputs": [
    {
     "data": {
      "text/plain": [
       "(matrix([[2, 4, 5],\n",
       "         [5, 4, 2],\n",
       "         [3, 1, 6]]),\n",
       " matrix([[ 1,  1,  1],\n",
       "         [ 5,  3,  7],\n",
       "         [10,  8,  9]]))"
      ]
     },
     "execution_count": 3,
     "metadata": {},
     "output_type": "execute_result"
    }
   ],
   "source": [
    "A = np.matrix([[2,4,5],[5,4,2],[3,1,6]])\n",
    "B = np.matrix([[1,1,1],[5,3,7],[10,8,9]])\n",
    "A,B"
   ]
  },
  {
   "cell_type": "code",
   "execution_count": 4,
   "metadata": {},
   "outputs": [
    {
     "name": "stdout",
     "output_type": "stream",
     "text": [
      "[[72 54 75]\n",
      " [45 33 51]\n",
      " [68 54 64]]\n",
      "[[72 54 75]\n",
      " [45 33 51]\n",
      " [68 54 64]]\n"
     ]
    }
   ],
   "source": [
    "C = np.matmul(A,B)\n",
    "print(C)\n",
    "D = A@B\n",
    "print(D)"
   ]
  },
  {
   "cell_type": "markdown",
   "metadata": {},
   "source": [
    "### Matrix and vector products"
   ]
  },
  {
   "cell_type": "markdown",
   "metadata": {},
   "source": [
    "| Function | Description |\n",
    "|---|---|\n",
    "| `dot(a, b[, out])` | Dot product of two arrays. |\n",
    "| `linalg.multi_dot(arrays, *[, out])` | Compute the dot product of two or more arrays in a single function call, while automatically selecting the fastest evaluation order. |\n",
    "| `vdot(a, b, /)` | Return the dot product of two vectors. |\n",
    "| `vecdot(x1, x2, /[, out, casting, order, ...])` | Vector dot product of two arrays. |\n",
    "| `linalg.vecdot(x1, x2, /, *[, axis])` | Computes the vector dot product. |\n",
    "| `inner(a, b, /)` | Inner product of two arrays. |\n",
    "| `outer(a, b[, out])` | Compute the outer product of two vectors. |\n",
    "| `matmul(x1, x2, /[, out, casting, order, ...])` | Matrix product of two arrays. |\n",
    "| `linalg.matmul(x1, x2, /)` | Computes the matrix product. |\n",
    "| `tensordot(a, b[, axes])` | Compute tensor dot product along specified axes. |\n",
    "| `linalg.tensordot(x1, x2, /, *[, axes])` | Compute tensor dot product along specified axes. |\n",
    "| `einsum(subscripts, *operands[, out, dtype, ...])` | Evaluates the Einstein summation convention on the operands. |\n",
    "| `einsum_path(subscripts, *operands[, optimize])` | Evaluates the lowest cost contraction order for an einsum expression by considering the creation of intermediate arrays. |\n",
    "| `linalg.matrix_power(a, n)` | Raise a square matrix to the (integer) power n. |\n",
    "| `kron(a, b)` | Kronecker product of two arrays. |\n",
    "| `linalg.cross(x1, x2, /, *[, axis])` | Returns the cross product of 3-element vectors. |\n"
   ]
  },
  {
   "cell_type": "markdown",
   "metadata": {},
   "source": [
    "#### Code Implementations"
   ]
  },
  {
   "cell_type": "markdown",
   "metadata": {},
   "source": [
    "dot and multi_dot"
   ]
  },
  {
   "cell_type": "code",
   "execution_count": 21,
   "metadata": {},
   "outputs": [
    {
     "data": {
      "text/plain": [
       "(matrix([[1, 0],\n",
       "         [0, 1]]),\n",
       " matrix([[4, 1],\n",
       "         [2, 2]]))"
      ]
     },
     "execution_count": 21,
     "metadata": {},
     "output_type": "execute_result"
    }
   ],
   "source": [
    "a = np.matrix([[1, 0], [0, 1]])\n",
    "b = np.matrix([[4, 1], [2, 2]])\n",
    "a,b"
   ]
  },
  {
   "cell_type": "code",
   "execution_count": 22,
   "metadata": {},
   "outputs": [
    {
     "data": {
      "text/plain": [
       "matrix([[4, 1],\n",
       "        [2, 2]])"
      ]
     },
     "execution_count": 22,
     "metadata": {},
     "output_type": "execute_result"
    }
   ],
   "source": [
    "np.dot(a, b)"
   ]
  },
  {
   "cell_type": "code",
   "execution_count": 16,
   "metadata": {},
   "outputs": [
    {
     "name": "stdout",
     "output_type": "stream",
     "text": [
      "(10000, 333)\n",
      "[[31229.38409299 20939.90203527 40629.31284565 ... 30962.7328555\n",
      "  15130.13869885 33696.14496461]\n",
      " [32460.15657146 21776.22504512 42222.79740772 ... 32181.91117219\n",
      "  15717.12060996 35021.8272593 ]\n",
      " [33975.56956356 22783.2654148  44192.31254239 ... 33685.23677008\n",
      "  16456.44989155 36653.8879767 ]\n",
      " ...\n",
      " [30819.00179991 20662.86000021 40085.70237776 ... 30557.55636294\n",
      "  14928.63179029 33249.71888371]\n",
      " [31231.65505436 20946.6866803  40622.76184163 ... 30964.76317615\n",
      "  15122.85907141 33692.71657728]\n",
      " [30386.01828732 20388.72955968 39530.60588209 ... 30124.40762162\n",
      "  14713.88266383 32788.19320877]]\n",
      "(10000, 333)\n",
      "[[31229.38409299 20939.90203527 40629.31284565 ... 30962.7328555\n",
      "  15130.13869885 33696.14496461]\n",
      " [32460.15657146 21776.22504512 42222.79740772 ... 32181.91117219\n",
      "  15717.12060996 35021.8272593 ]\n",
      " [33975.56956356 22783.2654148  44192.31254239 ... 33685.23677008\n",
      "  16456.44989155 36653.8879767 ]\n",
      " ...\n",
      " [30819.00179991 20662.86000021 40085.70237776 ... 30557.55636294\n",
      "  14928.63179029 33249.71888371]\n",
      " [31231.65505436 20946.6866803  40622.76184163 ... 30964.76317615\n",
      "  15122.85907141 33692.71657728]\n",
      " [30386.01828732 20388.72955968 39530.60588209 ... 30124.40762162\n",
      "  14713.88266383 32788.19320877]]\n"
     ]
    }
   ],
   "source": [
    "from numpy.linalg import multi_dot\n",
    "# Prepare some data\n",
    "A = np.random.random((10000, 100))\n",
    "B = np.random.random((100, 1000))\n",
    "C = np.random.random((1000, 5))\n",
    "D = np.random.random((5, 333))\n",
    "# the actual dot multiplication\n",
    "_ = multi_dot([A, B, C, D])\n",
    "print(_.shape)\n",
    "print(_)\n",
    "_ = np.dot(np.dot(np.dot(A, B), C), D)\n",
    "print(_.shape)\n",
    "print(_)"
   ]
  },
  {
   "cell_type": "markdown",
   "metadata": {},
   "source": [
    "vdot"
   ]
  },
  {
   "cell_type": "code",
   "execution_count": 23,
   "metadata": {},
   "outputs": [
    {
     "data": {
      "text/plain": [
       "(array([[1, 4],\n",
       "        [5, 6]]),\n",
       " array([[4, 1],\n",
       "        [2, 2]]))"
      ]
     },
     "execution_count": 23,
     "metadata": {},
     "output_type": "execute_result"
    }
   ],
   "source": [
    "a = np.array([[1, 4], [5, 6]])\n",
    "b = np.array([[4, 1], [2, 2]])\n",
    "a,b"
   ]
  },
  {
   "cell_type": "markdown",
   "metadata": {},
   "source": [
    "Note that vdot handles multidimensional arrays differently than dot: **it does not perform a matrix product, but flattens input arguments to 1-D vectors first**. Consequently, it should only be used for vectors."
   ]
  },
  {
   "cell_type": "code",
   "execution_count": 24,
   "metadata": {},
   "outputs": [
    {
     "data": {
      "text/plain": [
       "30"
      ]
     },
     "execution_count": 24,
     "metadata": {},
     "output_type": "execute_result"
    }
   ],
   "source": [
    "np.vdot(a, b)\n",
    "np.vdot(b, a)"
   ]
  },
  {
   "cell_type": "markdown",
   "metadata": {},
   "source": [
    "Inner Product"
   ]
  },
  {
   "cell_type": "markdown",
   "metadata": {},
   "source": [
    "Ordinary inner product of vectors for 1-D arrays (without complex conjugation), **in higher dimensions a sum product over the last axes.**"
   ]
  },
  {
   "cell_type": "code",
   "execution_count": 25,
   "metadata": {},
   "outputs": [
    {
     "data": {
      "text/plain": [
       "(array([[[ 0,  1,  2,  3],\n",
       "         [ 4,  5,  6,  7],\n",
       "         [ 8,  9, 10, 11]],\n",
       " \n",
       "        [[12, 13, 14, 15],\n",
       "         [16, 17, 18, 19],\n",
       "         [20, 21, 22, 23]]]),\n",
       " array([0, 1, 2, 3]))"
      ]
     },
     "execution_count": 25,
     "metadata": {},
     "output_type": "execute_result"
    }
   ],
   "source": [
    "a = np.arange(24).reshape((2,3,4))\n",
    "b = np.arange(4)\n",
    "a,b"
   ]
  },
  {
   "cell_type": "code",
   "execution_count": 27,
   "metadata": {},
   "outputs": [
    {
     "name": "stdout",
     "output_type": "stream",
     "text": [
      "(2, 3)\n"
     ]
    },
    {
     "data": {
      "text/plain": [
       "array([[ 14,  38,  62],\n",
       "       [ 86, 110, 134]])"
      ]
     },
     "execution_count": 27,
     "metadata": {},
     "output_type": "execute_result"
    }
   ],
   "source": [
    "c = np.inner(a, b)\n",
    "print(c.shape)\n",
    "c"
   ]
  },
  {
   "cell_type": "code",
   "execution_count": 28,
   "metadata": {},
   "outputs": [
    {
     "data": {
      "text/plain": [
       "(array([[[0, 1]]]),\n",
       " array([[0, 1],\n",
       "        [2, 3],\n",
       "        [4, 5]]))"
      ]
     },
     "execution_count": 28,
     "metadata": {},
     "output_type": "execute_result"
    }
   ],
   "source": [
    "a = np.arange(2).reshape((1,1,2))\n",
    "b = np.arange(6).reshape((3,2))\n",
    "a,b"
   ]
  },
  {
   "cell_type": "code",
   "execution_count": 30,
   "metadata": {},
   "outputs": [
    {
     "name": "stdout",
     "output_type": "stream",
     "text": [
      "(1, 1, 3)\n"
     ]
    },
    {
     "data": {
      "text/plain": [
       "array([[[1, 3, 5]]])"
      ]
     },
     "execution_count": 30,
     "metadata": {},
     "output_type": "execute_result"
    }
   ],
   "source": [
    "c = np.inner(a, b)\n",
    "print(c.shape)\n",
    "c"
   ]
  },
  {
   "cell_type": "markdown",
   "metadata": {},
   "source": [
    "Outer Product"
   ]
  },
  {
   "cell_type": "code",
   "execution_count": 33,
   "metadata": {},
   "outputs": [
    {
     "name": "stdout",
     "output_type": "stream",
     "text": [
      "(5,)\n"
     ]
    },
    {
     "data": {
      "text/plain": [
       "array([[0.+2.j, 0.+2.j, 0.+2.j, 0.+2.j, 0.+2.j],\n",
       "       [0.+1.j, 0.+1.j, 0.+1.j, 0.+1.j, 0.+1.j],\n",
       "       [0.+0.j, 0.+0.j, 0.+0.j, 0.+0.j, 0.+0.j],\n",
       "       [0.-1.j, 0.-1.j, 0.-1.j, 0.-1.j, 0.-1.j],\n",
       "       [0.-2.j, 0.-2.j, 0.-2.j, 0.-2.j, 0.-2.j]])"
      ]
     },
     "execution_count": 33,
     "metadata": {},
     "output_type": "execute_result"
    }
   ],
   "source": [
    "d=1j*np.linspace(2, -2, 5)\n",
    "print(d.shape)\n",
    "im = np.outer(1j*np.linspace(2, -2, 5), np.ones((5,)))\n",
    "im"
   ]
  },
  {
   "cell_type": "code",
   "execution_count": 31,
   "metadata": {},
   "outputs": [
    {
     "data": {
      "text/plain": [
       "array([['a', 'aa', 'aaa'],\n",
       "       ['b', 'bb', 'bbb'],\n",
       "       ['c', 'cc', 'ccc']], dtype=object)"
      ]
     },
     "execution_count": 31,
     "metadata": {},
     "output_type": "execute_result"
    }
   ],
   "source": [
    "x = np.array(['a', 'b', 'c'], dtype=object)\n",
    "np.outer(x, [1, 2, 3])"
   ]
  },
  {
   "cell_type": "markdown",
   "metadata": {},
   "source": [
    "Tensordot"
   ]
  },
  {
   "cell_type": "code",
   "execution_count": 39,
   "metadata": {},
   "outputs": [
    {
     "name": "stdout",
     "output_type": "stream",
     "text": [
      "[17 39]\n",
      "[[[ 5  6]\n",
      "  [10 12]]\n",
      "\n",
      " [[15 18]\n",
      "  [20 24]]]\n"
     ]
    }
   ],
   "source": [
    "\n",
    "# Define the arrays\n",
    "A = np.array([[1, 2],\n",
    "              [3, 4]])\n",
    "\n",
    "B = np.array([5, 6])\n",
    "\n",
    "# Compute the tensor dot product\n",
    "result = np.tensordot(A, B, axes=1)\n",
    "print(result)\n",
    "result = np.tensordot(A, B, axes=0)\n",
    "print(result)\n"
   ]
  },
  {
   "cell_type": "markdown",
   "metadata": {},
   "source": [
    "einsum"
   ]
  },
  {
   "cell_type": "markdown",
   "metadata": {},
   "source": [
    "`numpy.einsum(subscripts, *operands, out=None, dtype=None, order='K', casting='safe', optimize=False)`"
   ]
  },
  {
   "cell_type": "markdown",
   "metadata": {},
   "source": [
    "Evaluates the Einstein summation convention on the operands.\n",
    "\n",
    "Using the Einstein summation convention, many common multi-dimensional, linear algebraic array operations can be represented in a simple fashion. In implicit mode einsum computes these values.\n",
    "\n",
    "In explicit mode, einsum provides further flexibility to compute other array operations that might not be considered classical Einstein summation operations, by disabling, or forcing summation over specified subscript labels."
   ]
  },
  {
   "cell_type": "markdown",
   "metadata": {},
   "source": [
    "**Parameters:**\n",
    "\n",
    "* **subscripts:str :** Specifies the subscripts for summation as a comma-separated list of subscript labels. An implicit (classical Einstein summation) calculation is performed unless the explicit indicator \"->\" is included as well as subscript labels of the precise output form.\n",
    "* **operands:** A list of array-like objects that are the arrays for the operation.\n",
    "* **out:** Optional ndarray. If provided, the calculation is done into this array.\n",
    "* **dtype:** Optional data-type. If provided, forces the calculation to use the specified data type. Note that you may have to also give a more liberal `casting` parameter to allow the conversions. Default is None.\n",
    "* **order:** Optional string specifying the memory layout of the output. \"C\" means it should be C contiguous, \"F\" means it should be Fortran contiguous, \"A\" means it should be \"F\" if the inputs are all \"F\", \"C\" otherwise, and \"K\" means it should be as close to the layout as the inputs as is possible, including arbitrarily permuted axes. Default is \"K\".\n",
    "* **casting:** Optional string controlling what kind of data casting may occur. Setting this to \"unsafe\" is not recommended, as it can adversely affect accumulations.\n",
    "    * \"no\": Data types should not be cast at all.\n",
    "    * \"equiv\": Only byte-order changes are allowed.\n",
    "    * \"safe\": Only casts which can preserve values are allowed.\n",
    "    * \"same_kind\": Only safe casts or casts within a kind, like float64 to float32, are allowed.\n",
    "    * \"unsafe\": Any data conversions may be done.\n",
    "  Default is \"safe\".\n",
    "* **optimize:** Optional boolean or string controlling whether intermediate optimization should occur. No optimization will occur if False, and True will default to the \"greedy\" algorithm. Also accepts an explicit contraction list from the `np.einsum_path` function. See `np.einsum_path` for more details. Defaults to False.\n",
    "\n",
    "**Returns:**\n",
    "\n",
    "* **output:** ndarray. The calculation based on the Einstein summation convention."
   ]
  },
  {
   "cell_type": "code",
   "execution_count": 45,
   "metadata": {},
   "outputs": [
    {
     "name": "stdout",
     "output_type": "stream",
     "text": [
      "[[ 0  1  2  3  4]\n",
      " [ 5  6  7  8  9]\n",
      " [10 11 12 13 14]\n",
      " [15 16 17 18 19]\n",
      " [20 21 22 23 24]]\n",
      "60\n",
      "[50 55 60 65 70]\n",
      "[50 55 60 65 70]\n",
      "[ 10  35  60  85 110]\n",
      "[ 10  35  60  85 110]\n"
     ]
    }
   ],
   "source": [
    "a = np.arange(25).reshape(5,5)\n",
    "print(a)\n",
    "print(np.einsum('ii', a))\n",
    "print(np.einsum('ij->j', a))\n",
    "print(np.sum(a,axis=0))#row-wise\n",
    "print(np.einsum('ij->i', a))\n",
    "print(np.sum(a,axis=1))#column-wise"
   ]
  },
  {
   "cell_type": "code",
   "execution_count": 47,
   "metadata": {},
   "outputs": [
    {
     "name": "stdout",
     "output_type": "stream",
     "text": [
      "[[0 1 2]\n",
      " [3 4 5]]\n",
      "\n",
      "[[0 3]\n",
      " [1 4]\n",
      " [2 5]]\n",
      "[[0 3]\n",
      " [1 4]\n",
      " [2 5]]\n",
      "[[0 3]\n",
      " [1 4]\n",
      " [2 5]]\n",
      "[[0 3]\n",
      " [1 4]\n",
      " [2 5]]\n"
     ]
    }
   ],
   "source": [
    "c = np.arange(6).reshape(2,3)\n",
    "print(c)\n",
    "print(\"\")\n",
    "print(np.einsum('ji', c))\n",
    "print(np.einsum('ij->ji', c))\n",
    "print(np.einsum(c, [1,0]))\n",
    "print(np.transpose(c))"
   ]
  },
  {
   "cell_type": "markdown",
   "metadata": {},
   "source": [
    "einsum_path"
   ]
  },
  {
   "cell_type": "markdown",
   "metadata": {},
   "source": [
    "Evaluates the lowest cost contraction order for an einsum expression by considering the creation of intermediate arrays."
   ]
  },
  {
   "cell_type": "code",
   "execution_count": 50,
   "metadata": {},
   "outputs": [
    {
     "name": "stdout",
     "output_type": "stream",
     "text": [
      "['einsum_path', (1, 2), (0, 1)]\n",
      "  Complete contraction:  ij,jk,kl->il\n",
      "         Naive scaling:  4\n",
      "     Optimized scaling:  3\n",
      "      Naive FLOP count:  1.200e+02\n",
      "  Optimized FLOP count:  5.700e+01\n",
      "   Theoretical speedup:  2.105\n",
      "  Largest intermediate:  4.000e+00 elements\n",
      "--------------------------------------------------------------------------\n",
      "scaling                  current                                remaining\n",
      "--------------------------------------------------------------------------\n",
      "   3                   kl,jk->jl                                ij,jl->il\n",
      "   3                   jl,ij->il                                   il->il\n"
     ]
    }
   ],
   "source": [
    "np.random.seed(123)\n",
    "a = np.random.rand(2, 2)\n",
    "b = np.random.rand(2, 5)\n",
    "c = np.random.rand(5, 2)\n",
    "path_info = np.einsum_path('ij,jk,kl->il', a, b, c, optimize='greedy')\n",
    "print(path_info[0])\n",
    "print(path_info[1])"
   ]
  },
  {
   "cell_type": "code",
   "execution_count": 51,
   "metadata": {},
   "outputs": [
    {
     "name": "stdout",
     "output_type": "stream",
     "text": [
      "(2, 2)\n"
     ]
    }
   ],
   "source": [
    "d=a@b@c\n",
    "print(d.shape)"
   ]
  },
  {
   "cell_type": "markdown",
   "metadata": {},
   "source": [
    "matrix_power"
   ]
  },
  {
   "cell_type": "code",
   "execution_count": 54,
   "metadata": {},
   "outputs": [
    {
     "data": {
      "text/plain": [
       "array([[32.,  0.,  0.],\n",
       "       [ 0., 32.,  0.],\n",
       "       [ 0.,  0., 32.]])"
      ]
     },
     "execution_count": 54,
     "metadata": {},
     "output_type": "execute_result"
    }
   ],
   "source": [
    "np.linalg.matrix_power(2*np.eye(3),5)"
   ]
  },
  {
   "cell_type": "markdown",
   "metadata": {},
   "source": [
    "np.kron"
   ]
  },
  {
   "cell_type": "markdown",
   "metadata": {},
   "source": [
    "Kronecker product of two arrays.\n",
    "\n",
    "Computes the Kronecker product, a composite array made of blocks of the second array scaled by the first."
   ]
  },
  {
   "cell_type": "code",
   "execution_count": 56,
   "metadata": {},
   "outputs": [
    {
     "name": "stdout",
     "output_type": "stream",
     "text": [
      "[  5   6   7  50  60  70 500 600 700]\n",
      "(9,)\n"
     ]
    }
   ],
   "source": [
    "import numpy as np\n",
    "print(np.kron([1,10,100], [5,6,7]))\n",
    "print(np.kron([1,10,100], [5,6,7]).shape)\n"
   ]
  },
  {
   "cell_type": "markdown",
   "metadata": {},
   "source": [
    "np.cross"
   ]
  },
  {
   "cell_type": "code",
   "execution_count": 58,
   "metadata": {},
   "outputs": [
    {
     "data": {
      "text/plain": [
       "array([-3,  6, -3])"
      ]
     },
     "execution_count": 58,
     "metadata": {},
     "output_type": "execute_result"
    }
   ],
   "source": [
    "x = np.array([1, 2, 3])\n",
    "y = np.array([4, 5, 6])\n",
    "np.cross(x, y)"
   ]
  },
  {
   "cell_type": "markdown",
   "metadata": {},
   "source": [
    "### Decompositions"
   ]
  },
  {
   "cell_type": "markdown",
   "metadata": {},
   "source": [
    "| Function | Description |\n",
    "|----------|-------------|\n",
    "| `linalg.cholesky(a, /, *[, upper])` | Cholesky decomposition. |\n",
    "| `linalg.outer(x1, x2, /)` | Compute the outer product of two vectors. |\n",
    "| `linalg.qr(a[, mode])` | Compute the QR factorization of a matrix. |\n",
    "| `linalg.svd(a[, full_matrices, compute_uv, ...])` | Singular Value Decomposition (SVD). |\n",
    "| `linalg.svdvals(x, /)` | Returns the singular values of a matrix (or a stack of matrices) `x`. |"
   ]
  },
  {
   "cell_type": "markdown",
   "metadata": {},
   "source": [
    "#### Code Implementations"
   ]
  },
  {
   "cell_type": "markdown",
   "metadata": {},
   "source": [
    "[Cholesky Decomposition](https://en.wikipedia.org/wiki/Cholesky_decomposition)\n",
    "\n",
    "The Cholesky decomposition is a decomposition of a Hermitian, positive-definite matrix into the product of a lower triangular matrix and its conjugate transpose, which is useful for efficient numerical solutions, e.g., Monte Carlo simulations.\n",
    "\n",
    "$${\\displaystyle \\mathbf {A} =\\mathbf {LL} ^{*}}$$\n"
   ]
  },
  {
   "cell_type": "code",
   "execution_count": 65,
   "metadata": {},
   "outputs": [
    {
     "name": "stdout",
     "output_type": "stream",
     "text": [
      "[[ 2.  0.  0.]\n",
      " [ 6.  1.  0.]\n",
      " [-8. -4.  3.]]\n",
      "[[  4.  12. -16.]\n",
      " [ 12.  37. -52.]\n",
      " [-16. -52.  89.]]\n"
     ]
    }
   ],
   "source": [
    "A = np.array([[4, 12, -16],\n",
    "              [12, 37, -52],\n",
    "              [-16, -52, 89]])\n",
    "\n",
    "# Perform Cholesky decomposition\n",
    "L = np.linalg.cholesky(A)\n",
    "\n",
    "print(L)\n",
    "print(L@np.transpose(L))"
   ]
  },
  {
   "cell_type": "markdown",
   "metadata": {},
   "source": [
    "QR Factorization\n",
    "\n",
    "Compute the qr factorization of a matrix.\n",
    "\n",
    "QR factorization is a matrix decomposition that expresses a matrix as the product of an orthogonal matrix and an upper triangular matrix. This decomposition is particularly useful in numerical linear algebra for solving linear least squares problems, computing eigenvalues, and performing matrix inversion."
   ]
  },
  {
   "cell_type": "code",
   "execution_count": 66,
   "metadata": {},
   "outputs": [
    {
     "name": "stdout",
     "output_type": "stream",
     "text": [
      "Q:\n",
      " [[-0.12309149  0.90453403  0.40824829]\n",
      " [-0.49236596  0.30151134 -0.81649658]\n",
      " [-0.86164044 -0.30151134  0.40824829]]\n",
      "R:\n",
      " [[-8.12403840e+00 -9.60113630e+00 -1.10782342e+01]\n",
      " [ 0.00000000e+00  9.04534034e-01  1.80906807e+00]\n",
      " [ 0.00000000e+00  0.00000000e+00 -7.58790979e-16]]\n"
     ]
    }
   ],
   "source": [
    "# Create a matrix\n",
    "A = np.array([[1, 2, 3],\n",
    "              [4, 5, 6],\n",
    "              [7, 8, 9]])\n",
    "\n",
    "# Perform QR factorization\n",
    "Q, R = np.linalg.qr(A)\n",
    "\n",
    "print(\"Q:\\n\", Q)\n",
    "print(\"R:\\n\", R)"
   ]
  },
  {
   "cell_type": "markdown",
   "metadata": {},
   "source": [
    "[SVD](https://en.wikipedia.org/wiki/Singular_value_decomposition) "
   ]
  },
  {
   "cell_type": "markdown",
   "metadata": {},
   "source": [
    "The Singular Value Decomposition (SVD) is a powerful matrix factorization technique that decomposes a matrix into three matrices:\n",
    "\n",
    "1. **U:** An orthogonal matrix of dimensions m x m.\n",
    "2. **Σ:** A diagonal matrix of dimensions m x n with non-negative real numbers on the diagonal.\n",
    "3. **V^:** The conjugate transpose of an orthogonal matrix V of dimensions n x n.\n",
    "\n",
    "**Mathematical Representation:**\n",
    "\n",
    "```\n",
    "M = UΣV^\n",
    "```\n",
    "\n",
    "**Significance of SVD:**\n",
    "\n",
    "* **Singular Values:** The diagonal elements of Σ are called singular values. They represent the \"scale\" or importance of each dimension in the matrix.\n",
    "* **Principal Components:** The columns of U are called left singular vectors. They represent the principal components of the data in the matrix.\n",
    "* **Orthogonal Basis:** The columns of V* are called right singular vectors. They form an orthogonal basis for the column space of the matrix.\n",
    "\n",
    "**Applications of SVD:**\n",
    "\n",
    "* **Data Analysis:**\n",
    "    * **Dimensionality Reduction:** SVD can be used to reduce the dimensionality of data while preserving the most important information.\n",
    "    * **Principal Component Analysis (PCA):** PCA is a direct application of SVD for dimensionality reduction.\n",
    "    * **Latent Semantic Analysis (LSA):** LSA uses SVD to uncover the underlying semantic structure of a collection of documents.\n",
    "* **Image Processing:**\n",
    "    * **Image Compression:** SVD can be used to compress images by discarding small singular values.\n",
    "    * **Image Denoising:** SVD can be used to remove noise from images.\n",
    "* **Recommendation Systems:**\n",
    "    * **Collaborative Filtering:** SVD can be used to predict user preferences in collaborative filtering systems.\n",
    "* **Numerical Linear Algebra:**\n",
    "    * **Solving Systems of Linear Equations:** SVD can be used to solve systems of linear equations, even when the matrix is singular or ill-conditioned."
   ]
  },
  {
   "cell_type": "markdown",
   "metadata": {},
   "source": [
    "`linalg.svd(a, full_matrices=True, compute_uv=True, hermitian=False)`"
   ]
  },
  {
   "cell_type": "markdown",
   "metadata": {},
   "source": [
    "When a is a 2D array, and full_matrices=False, then it is factorized as u @ np.diag(s) @ vh = (u * s) @ vh, where u and the Hermitian transpose of vh are 2D arrays with orthonormal columns and s is a 1D array of a’s singular values. "
   ]
  },
  {
   "cell_type": "code",
   "execution_count": 67,
   "metadata": {},
   "outputs": [],
   "source": [
    "import numpy as np\n",
    "rng = np.random.default_rng()\n",
    "a = rng.normal(size=(9, 6)) + 1j*rng.normal(size=(9, 6))\n",
    "b = rng.normal(size=(2, 7, 8, 3)) + 1j*rng.normal(size=(2, 7, 8, 3))"
   ]
  },
  {
   "cell_type": "code",
   "execution_count": 69,
   "metadata": {},
   "outputs": [
    {
     "data": {
      "text/plain": [
       "((9, 9), (6,), (6, 6))"
      ]
     },
     "execution_count": 69,
     "metadata": {},
     "output_type": "execute_result"
    }
   ],
   "source": [
    "U, S, Vh = np.linalg.svd(a, full_matrices=True)\n",
    "U.shape, S.shape, Vh.shape"
   ]
  },
  {
   "cell_type": "code",
   "execution_count": 70,
   "metadata": {},
   "outputs": [
    {
     "data": {
      "text/plain": [
       "(array([[-0.02856343-0.28113663j, -0.16482704-0.16951731j,\n",
       "          0.40571265-0.27143117j,  0.15562044-0.02691557j,\n",
       "          0.0509328 +0.11873621j, -0.35885863-0.07700922j,\n",
       "         -0.51614568-0.20868509j,  0.05315293+0.34890927j,\n",
       "          0.08465851-0.08907453j],\n",
       "        [ 0.25102205-0.30094391j,  0.11564509-0.0385054j ,\n",
       "          0.00408794+0.34182338j, -0.18414345-0.01607789j,\n",
       "         -0.03300943+0.08540237j, -0.00638603+0.54164339j,\n",
       "          0.1680757 +0.01149509j,  0.17421381+0.43499778j,\n",
       "         -0.17390448-0.31707664j],\n",
       "        [ 0.07368374+0.19398869j, -0.00306821-0.04219004j,\n",
       "         -0.43260047-0.15580114j,  0.20395769+0.21372929j,\n",
       "          0.44639212-0.08982823j,  0.10847507-0.03484118j,\n",
       "         -0.03232913-0.25980736j, -0.05430668+0.45599239j,\n",
       "         -0.34181987+0.19968387j],\n",
       "        [ 0.14941359-0.05592978j,  0.04681513-0.01157549j,\n",
       "          0.19911661+0.05942054j,  0.36114919-0.00873065j,\n",
       "         -0.23467614-0.05779046j, -0.09919902+0.26981064j,\n",
       "         -0.1508224 +0.25881764j, -0.37834625-0.14614374j,\n",
       "         -0.5390564 +0.3356607j ],\n",
       "        [-0.12204422-0.0494486j , -0.16580977+0.73199764j,\n",
       "          0.1044204 +0.20613539j,  0.23394245+0.39234776j,\n",
       "         -0.06772532+0.17568378j,  0.08053523-0.11913184j,\n",
       "         -0.01810862+0.16882502j, -0.01805029+0.24431599j,\n",
       "          0.10911897-0.02006656j],\n",
       "        [ 0.25032783-0.38031157j,  0.23175218+0.39026921j,\n",
       "         -0.16701216-0.27868239j, -0.40298897+0.0928058j ,\n",
       "         -0.08418763+0.04849566j, -0.26668688-0.05731299j,\n",
       "         -0.00986033-0.23175709j,  0.11552419-0.16762928j,\n",
       "         -0.12384275+0.34010721j],\n",
       "        [-0.30345619-0.26025375j, -0.30151917-0.12906838j,\n",
       "         -0.11233969+0.06506852j,  0.27692424+0.0246712j ,\n",
       "         -0.00428771-0.00461507j, -0.49610944-0.07359936j,\n",
       "          0.59085281-0.07232659j,  0.12199416-0.04985875j,\n",
       "         -0.10265537+0.06807462j],\n",
       "        [ 0.18754534+0.37789624j, -0.03191569-0.20269821j,\n",
       "         -0.1527949 -0.03178999j,  0.12712556+0.19320685j,\n",
       "         -0.41658983+0.59720432j, -0.07284726+0.03834629j,\n",
       "         -0.04735986-0.04752j   ,  0.38102891-0.0141136j ,\n",
       "         -0.01025753+0.1228964j ],\n",
       "        [ 0.36624067+0.03852225j, -0.07512157-0.02170205j,\n",
       "          0.19155465-0.39167653j,  0.24580452+0.39015687j,\n",
       "         -0.02967441-0.36491845j,  0.07247818+0.34292281j,\n",
       "          0.2401184 -0.06518488j,  0.08085797-0.09864675j,\n",
       "          0.34645425-0.02056202j]]),\n",
       " array([6.46934907, 5.28243594, 4.55739309, 3.24796136, 2.61740582,\n",
       "        1.87489904]),\n",
       " array([[-0.44504682+0.j        , -0.51823835+0.00972241j,\n",
       "          0.10442866-0.08621306j, -0.48719536-0.30106102j,\n",
       "         -0.28600576-0.30834414j, -0.02887085+0.0960406j ],\n",
       "        [-0.5958338 +0.j        , -0.18957996+0.06271186j,\n",
       "          0.02705537+0.07881568j,  0.20414676+0.07420754j,\n",
       "          0.3318861 +0.51376473j, -0.41943445+0.0308925j ],\n",
       "        [-0.2229365 +0.j        ,  0.15674747+0.23784251j,\n",
       "          0.04829858+0.59290696j, -0.03552593-0.35608801j,\n",
       "          0.01262509+0.20462602j,  0.56420967-0.16390411j],\n",
       "        [-0.3750409 +0.j        ,  0.33949483-0.41181608j,\n",
       "          0.01195294-0.48884333j, -0.09515793+0.05948878j,\n",
       "          0.02337999+0.20031141j,  0.47258919+0.24244309j],\n",
       "        [-0.12393276+0.j        ,  0.0669164 +0.44358282j,\n",
       "         -0.0188541 -0.55362235j,  0.40399186-0.3672881j ,\n",
       "         -0.12165049-0.06510151j,  0.03322857-0.39786029j],\n",
       "        [-0.49112088+0.j        ,  0.35232906+0.00968577j,\n",
       "         -0.15375006+0.22637072j,  0.1806633 +0.39168403j,\n",
       "         -0.13636067-0.5733134j , -0.09036311-0.13484929j]]))"
      ]
     },
     "execution_count": 70,
     "metadata": {},
     "output_type": "execute_result"
    }
   ],
   "source": [
    "U, S, Vh"
   ]
  },
  {
   "cell_type": "markdown",
   "metadata": {},
   "source": [
    "### Matrix Eigenvalues\n",
    "\n",
    "| Function | Description |\n",
    "|----------|-------------|\n",
    "| `linalg.eig(a)` | Compute the eigenvalues and right eigenvectors of a square array. |\n",
    "| `linalg.eigh(a[, UPLO])` | Return the eigenvalues and eigenvectors of a complex Hermitian (conjugate symmetric) or a real symmetric matrix. |\n",
    "| `linalg.eigvals(a)` | Compute the eigenvalues of a general matrix. |\n",
    "| `linalg.eigvalsh(a[, UPLO])` | Compute the eigenvalues of a complex Hermitian or real symmetric matrix. |"
   ]
  },
  {
   "cell_type": "markdown",
   "metadata": {},
   "source": [
    "Eigen Decomposition (linalg.eig)"
   ]
  },
  {
   "cell_type": "markdown",
   "metadata": {},
   "source": [
    "In linear algebra, eigendecomposition is the factorization of a matrix into a canonical form, whereby the matrix is represented in terms of its eigenvalues and eigenvectors. Only diagonalizable matrices can be factorized in this way. "
   ]
  },
  {
   "cell_type": "markdown",
   "metadata": {},
   "source": [
    "A (nonzero) vector v of dimension N is an eigenvector of a square N × N matrix A if it satisfies a linear equation of the form"
   ]
  },
  {
   "cell_type": "markdown",
   "metadata": {},
   "source": [
    "$$\\displaystyle \\mathbf {A} \\mathbf {v} =\\lambda \\mathbf {v}$$ "
   ]
  },
  {
   "cell_type": "code",
   "execution_count": 72,
   "metadata": {},
   "outputs": [
    {
     "data": {
      "text/plain": [
       "(array([1., 2., 3.]),\n",
       " array([[1., 0., 0.],\n",
       "        [0., 1., 0.],\n",
       "        [0., 0., 1.]]))"
      ]
     },
     "execution_count": 72,
     "metadata": {},
     "output_type": "execute_result"
    }
   ],
   "source": [
    "import numpy as np\n",
    "from numpy import linalg as LA\n",
    "\n",
    "eigenvalues, eigenvectors = LA.eig(np.diag((1, 2, 3)))\n",
    "eigenvalues, eigenvectors"
   ]
  },
  {
   "cell_type": "code",
   "execution_count": 74,
   "metadata": {},
   "outputs": [
    {
     "data": {
      "text/plain": [
       "array([1., 2., 3.])"
      ]
     },
     "execution_count": 74,
     "metadata": {},
     "output_type": "execute_result"
    }
   ],
   "source": [
    "LA.eigvals(np.diag((1,2,3)))"
   ]
  },
  {
   "cell_type": "markdown",
   "metadata": {},
   "source": [
    "Similar methods exist for hermitians. "
   ]
  },
  {
   "cell_type": "markdown",
   "metadata": {},
   "source": [
    "\n",
    "### Norms and Other Numbers\n",
    "\n",
    "| Function | Description |\n",
    "|----------|-------------|\n",
    "| `linalg.norm(x[, ord, axis, keepdims])` | Matrix or vector norm. |\n",
    "| `linalg.matrix_norm(x, /, *[, keepdims, ord])` | Computes the matrix norm of a matrix (or a stack of matrices). |\n",
    "| `linalg.vector_norm(x, /, *[, axis, ...])` | Computes the vector norm of a vector (or batch of vectors). |\n",
    "| `linalg.cond(x[, p])` | Compute the condition number of a matrix. |\n",
    "| `linalg.det(a)` | Compute the determinant of an array. |\n",
    "| `linalg.matrix_rank(A[, tol, hermitian, rtol])` | Return the matrix rank using the SVD method. |\n",
    "| `linalg.slogdet(a)` | Compute the sign and logarithm of the determinant of an array. |\n",
    "| `trace(a[, offset, axis1, axis2, dtype, out])` | Return the sum along diagonals of the array. |\n",
    "| `linalg.trace(x[, offset, dtype])` | Returns the sum along specified diagonals of a matrix. |\n"
   ]
  },
  {
   "cell_type": "markdown",
   "metadata": {},
   "source": [
    "#### Code Implementations"
   ]
  },
  {
   "cell_type": "markdown",
   "metadata": {},
   "source": [
    "\n",
    "### Solving Equations and Inverting Matrices\n",
    "\n",
    "| Function | Description |\n",
    "|----------|-------------|\n",
    "| `linalg.solve(a, b)` | Solve a linear matrix equation or system of linear scalar equations. |\n",
    "| `linalg.tensorsolve(a, b[, axes])` | Solve the tensor equation `a x = b` for `x`. |\n",
    "| `linalg.lstsq(a, b[, rcond])` | Return the least-squares solution to a linear matrix equation. |\n",
    "| `linalg.inv(a)` | Compute the inverse of a matrix. |\n",
    "| `linalg.pinv(a[, rcond, hermitian, rtol])` | Compute the (Moore-Penrose) pseudo-inverse of a matrix. |\n",
    "| `linalg.tensorinv(a[, ind])` | Compute the 'inverse' of an N-dimensional array. |\n"
   ]
  },
  {
   "cell_type": "markdown",
   "metadata": {},
   "source": [
    "#### Code Implementations"
   ]
  },
  {
   "cell_type": "markdown",
   "metadata": {},
   "source": [
    "\n",
    "### Other Matrix Operations\n",
    "\n",
    "| Function | Description |\n",
    "|----------|-------------|\n",
    "| `diagonal(a[, offset, axis1, axis2])` | Return specified diagonals. |\n",
    "| `linalg.diagonal(x[, offset])` | Returns specified diagonals of a matrix. |\n",
    "| `linalg.matrix_transpose(x)` | Transposes a matrix (or a stack of matrices). |\n"
   ]
  },
  {
   "cell_type": "markdown",
   "metadata": {},
   "source": [
    "### Exceptions\n",
    "\n",
    "| Function | Description |\n",
    "|----------|-------------|\n",
    "| `linalg.LinAlgError` | Generic Python-exception-derived object raised by linalg functions. |"
   ]
  },
  {
   "cell_type": "code",
   "execution_count": 63,
   "metadata": {},
   "outputs": [
    {
     "data": {
      "text/plain": [
       "array([[0.29371405, 0.63097612]])"
      ]
     },
     "execution_count": 63,
     "metadata": {},
     "output_type": "execute_result"
    }
   ],
   "source": [
    "a=np.random.random((1,2))\n",
    "a"
   ]
  },
  {
   "cell_type": "code",
   "execution_count": 62,
   "metadata": {},
   "outputs": [
    {
     "ename": "LinAlgError",
     "evalue": "Last 2 dimensions of the array must be square",
     "output_type": "error",
     "traceback": [
      "\u001b[0;31m---------------------------------------------------------------------------\u001b[0m",
      "\u001b[0;31mLinAlgError\u001b[0m                               Traceback (most recent call last)",
      "Cell \u001b[0;32mIn[62], line 1\u001b[0m\n\u001b[0;32m----> 1\u001b[0m c\u001b[39m=\u001b[39mnp\u001b[39m.\u001b[39mlinalg\u001b[39m.\u001b[39meig(a)\n",
      "File \u001b[0;32m~/anaconda3/lib/python3.11/site-packages/numpy/linalg/linalg.py:1328\u001b[0m, in \u001b[0;36meig\u001b[0;34m(a)\u001b[0m\n\u001b[1;32m   1326\u001b[0m a, wrap \u001b[39m=\u001b[39m _makearray(a)\n\u001b[1;32m   1327\u001b[0m _assert_stacked_2d(a)\n\u001b[0;32m-> 1328\u001b[0m _assert_stacked_square(a)\n\u001b[1;32m   1329\u001b[0m _assert_finite(a)\n\u001b[1;32m   1330\u001b[0m t, result_t \u001b[39m=\u001b[39m _commonType(a)\n",
      "File \u001b[0;32m~/anaconda3/lib/python3.11/site-packages/numpy/linalg/linalg.py:213\u001b[0m, in \u001b[0;36m_assert_stacked_square\u001b[0;34m(*arrays)\u001b[0m\n\u001b[1;32m    211\u001b[0m m, n \u001b[39m=\u001b[39m a\u001b[39m.\u001b[39mshape[\u001b[39m-\u001b[39m\u001b[39m2\u001b[39m:]\n\u001b[1;32m    212\u001b[0m \u001b[39mif\u001b[39;00m m \u001b[39m!=\u001b[39m n:\n\u001b[0;32m--> 213\u001b[0m     \u001b[39mraise\u001b[39;00m LinAlgError(\u001b[39m'\u001b[39m\u001b[39mLast 2 dimensions of the array must be square\u001b[39m\u001b[39m'\u001b[39m)\n",
      "\u001b[0;31mLinAlgError\u001b[0m: Last 2 dimensions of the array must be square"
     ]
    }
   ],
   "source": [
    "c=np.linalg.eig(a)"
   ]
  },
  {
   "cell_type": "markdown",
   "metadata": {},
   "source": [
    "### Linear algebra on several matrices at once"
   ]
  },
  {
   "cell_type": "markdown",
   "metadata": {},
   "source": [
    "This means that if for instance given an input array a.shape == (N, M, M), it is interpreted as a “stack” of N matrices, each of size M-by-M. . Similar specification applies to return values, for instance the determinant has det : (...) and will in this case return an array of shape det(a).shape == (N,)"
   ]
  },
  {
   "cell_type": "markdown",
   "metadata": {},
   "source": [
    "## numpy.polynomial"
   ]
  },
  {
   "cell_type": "markdown",
   "metadata": {},
   "source": [
    "## numpy.random"
   ]
  },
  {
   "cell_type": "markdown",
   "metadata": {},
   "source": [
    "## numpy.strings"
   ]
  },
  {
   "cell_type": "markdown",
   "metadata": {},
   "source": [
    "## numpy.testing"
   ]
  },
  {
   "cell_type": "markdown",
   "metadata": {},
   "source": [
    "## numpy.typing"
   ]
  },
  {
   "cell_type": "markdown",
   "metadata": {},
   "source": []
  }
 ],
 "metadata": {
  "kernelspec": {
   "display_name": "base",
   "language": "python",
   "name": "python3"
  },
  "language_info": {
   "codemirror_mode": {
    "name": "ipython",
    "version": 3
   },
   "file_extension": ".py",
   "mimetype": "text/x-python",
   "name": "python",
   "nbconvert_exporter": "python",
   "pygments_lexer": "ipython3",
   "version": "3.11.5"
  },
  "orig_nbformat": 4
 },
 "nbformat": 4,
 "nbformat_minor": 2
}
