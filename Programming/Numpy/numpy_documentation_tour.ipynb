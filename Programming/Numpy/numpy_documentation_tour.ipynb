{
 "cells": [
  {
   "cell_type": "markdown",
   "metadata": {},
   "source": [
    "# Documentation Tour - NumPy"
   ]
  },
  {
   "cell_type": "markdown",
   "metadata": {},
   "source": [
    "NumPy is the fundamental package for scientific computing in Python. It is a Python library that provides a multidimensional array object, various derived objects (such as masked arrays and matrices), and an assortment of routines for fast operations on arrays, including mathematical, logical, shape manipulation, sorting, selecting, I/O, discrete Fourier transforms, basic linear algebra, basic statistical operations, random simulation and much more."
   ]
  },
  {
   "cell_type": "markdown",
   "metadata": {},
   "source": [
    "- [Beginner's Guide](https://numpy.org/doc/stable/user/absolute_beginners.html)\n",
    "- [User Guide](https://numpy.org/doc/stable/user/index.html#user)\n",
    "- [API Reference](https://numpy.org/doc/stable/reference/index.html#reference)\n",
    "- [Contributor's Guide](https://numpy.org/doc/stable/dev/index.html#devindex)"
   ]
  },
  {
   "cell_type": "code",
   "execution_count": 59,
   "metadata": {},
   "outputs": [
    {
     "name": "stdout",
     "output_type": "stream",
     "text": [
      "Requirement already satisfied: pip in /Users/smatcha/anaconda3/lib/python3.11/site-packages (24.2)\n",
      "Collecting pip\n",
      "  Downloading pip-24.3.1-py3-none-any.whl.metadata (3.7 kB)\n",
      "Downloading pip-24.3.1-py3-none-any.whl (1.8 MB)\n",
      "\u001b[2K   \u001b[90m━━━━━━━━━━━━━━━━━━━━━━━━━━━━━━━━━━━━━━━━\u001b[0m \u001b[32m1.8/1.8 MB\u001b[0m \u001b[31m30.7 MB/s\u001b[0m eta \u001b[36m0:00:00\u001b[0m\n",
      "\u001b[?25hInstalling collected packages: pip\n",
      "  Attempting uninstall: pip\n",
      "    Found existing installation: pip 24.2\n",
      "    Uninstalling pip-24.2:\n",
      "      Successfully uninstalled pip-24.2\n",
      "Successfully installed pip-24.3.1\n",
      "Note: you may need to restart the kernel to use updated packages.\n",
      "Requirement already satisfied: numpy in /Users/smatcha/anaconda3/lib/python3.11/site-packages (2.1.3)\n",
      "Note: you may need to restart the kernel to use updated packages.\n"
     ]
    }
   ],
   "source": [
    "%pip install --upgrade pip\n",
    "%pip install --upgrade numpy"
   ]
  },
  {
   "cell_type": "markdown",
   "metadata": {},
   "source": [
    "If you get errors NOT related to installing of Numpy, you probably need not worry about that issue. Our main goal for now is to use NumPy properly and to its fullest extent. "
   ]
  },
  {
   "cell_type": "code",
   "execution_count": 1,
   "metadata": {},
   "outputs": [
    {
     "name": "stdout",
     "output_type": "stream",
     "text": [
      "Numpy Version is:  1.26.4\n"
     ]
    }
   ],
   "source": [
    "import numpy as np\n",
    "print(\"Numpy Version is: \",np.__version__)"
   ]
  },
  {
   "cell_type": "markdown",
   "metadata": {},
   "source": [
    "# NumPy Reference"
   ]
  },
  {
   "cell_type": "markdown",
   "metadata": {},
   "source": [
    "## NumPy Module Structure"
   ]
  },
  {
   "cell_type": "markdown",
   "metadata": {},
   "source": [
    "Regular Namespaces"
   ]
  },
  {
   "cell_type": "markdown",
   "metadata": {},
   "source": [
    "\n",
    "> A namespace is a collection of well-defined symbolic names along with information about the object that each name references. (Basically like a dictionary). \n",
    "\n",
    "> This is good when you are defining submodules too, they make things for interpreters to identify the specific submodule of a module to be loaded."
   ]
  },
  {
   "cell_type": "markdown",
   "metadata": {},
   "source": [
    "- numpy\n",
    "- numpy.exceptions\n",
    "- numpy.fft\n",
    "- numpy.linalg\n",
    "- numpy.polynomial\n",
    "- numpy.random\n",
    "- numpy.strings\n",
    "- numpy.testing\n",
    "- numpy.typing"
   ]
  },
  {
   "cell_type": "markdown",
   "metadata": {},
   "source": [
    "Special purpose Namespaces"
   ]
  },
  {
   "cell_type": "markdown",
   "metadata": {},
   "source": [
    "- numpy.ctypeslib - interacting with NumPy objects with ctypes \n",
    "- numpy.dtypes - dtype classes - (typically not used directly by end - users)\n",
    "- numpy.emath - mathematical functions - with automatic domain\n",
    "- numpy.lib - utilities & functionality - which do not fit the main namespace\n",
    "- numpy.rec - record arrays (largely superseded by dataframe libraries)\n",
    "- numpy.version - small module with more detailed version info"
   ]
  },
  {
   "cell_type": "markdown",
   "metadata": {},
   "source": [
    "## numpy.exceptions"
   ]
  },
  {
   "cell_type": "markdown",
   "metadata": {},
   "source": [
    "General exceptions used by Numpy. Note that some exceptions may be module specific, such as linear algebra errors."
   ]
  },
  {
   "cell_type": "markdown",
   "metadata": {},
   "source": [
    ">Only available from NumPy version 1.25"
   ]
  },
  {
   "cell_type": "code",
   "execution_count": 2,
   "metadata": {},
   "outputs": [
    {
     "data": {
      "text/plain": [
       "<module 'numpy.exceptions' from '/Users/smatcha/anaconda3/lib/python3.11/site-packages/numpy/exceptions.py'>"
      ]
     },
     "execution_count": 2,
     "metadata": {},
     "output_type": "execute_result"
    }
   ],
   "source": [
    "np.exceptions"
   ]
  },
  {
   "cell_type": "markdown",
   "metadata": {},
   "source": [
    "Warnings\n",
    "\n",
    "- ComplexWarning: The warning raised when casting a complex dtype to a real dtype.\n",
    "- Visible Depreciation Warning: Visible deprecation warning.\n",
    "- RankWarning: Warning related to Matrix Warning Issues\n",
    "\n",
    "Exceptions\n",
    "\n",
    "- AxisError: Axis Supplied was Invalid.\n",
    "- DTypePromotionError: Multiple DTypes could not be converted to a common one. Comes from a form of `TypeError`.\n",
    "- TooHardError: max_work was exceeded."
   ]
  },
  {
   "cell_type": "code",
   "execution_count": 7,
   "metadata": {},
   "outputs": [
    {
     "name": "stdout",
     "output_type": "stream",
     "text": [
      "<class 'numpy.exceptions.ComplexWarning'>\n",
      "<class 'numpy.exceptions.VisibleDeprecationWarning'>\n",
      "<class 'numpy.exceptions.RankWarning'>\n",
      "<class 'numpy.exceptions.AxisError'>\n",
      "<class 'numpy.exceptions.DTypePromotionError'>\n",
      "<class 'numpy.exceptions.TooHardError'>\n"
     ]
    }
   ],
   "source": [
    "print(np.exceptions.ComplexWarning)\n",
    "print(np.exceptions.VisibleDeprecationWarning)\n",
    "print(np.exceptions.RankWarning)\n",
    "print(np.exceptions.AxisError)\n",
    "print(np.exceptions.DTypePromotionError)\n",
    "print(np.exceptions.TooHardError)"
   ]
  },
  {
   "cell_type": "code",
   "execution_count": 17,
   "metadata": {},
   "outputs": [
    {
     "name": "stdout",
     "output_type": "stream",
     "text": [
      "(2, 2)\n",
      "[4 6]\n",
      "[3 7]\n"
     ]
    },
    {
     "ename": "AxisError",
     "evalue": "axis 2 is out of bounds for array of dimension 2",
     "output_type": "error",
     "traceback": [
      "\u001b[0;31m---------------------------------------------------------------------------\u001b[0m",
      "\u001b[0;31mAxisError\u001b[0m                                 Traceback (most recent call last)",
      "Cell \u001b[0;32mIn[17], line 9\u001b[0m\n\u001b[1;32m      7\u001b[0m _sum \u001b[39m=\u001b[39m np\u001b[39m.\u001b[39msum(array,axis\u001b[39m=\u001b[39m\u001b[39m1\u001b[39m)\n\u001b[1;32m      8\u001b[0m \u001b[39mprint\u001b[39m(_sum)\n\u001b[0;32m----> 9\u001b[0m _sum \u001b[39m=\u001b[39m np\u001b[39m.\u001b[39msum(array,axis\u001b[39m=\u001b[39m\u001b[39m2\u001b[39m) \u001b[39m# No Axis --> Should give Axis error\u001b[39;00m\n\u001b[1;32m     10\u001b[0m \u001b[39mprint\u001b[39m(_sum)\n",
      "File \u001b[0;32m~/anaconda3/lib/python3.11/site-packages/numpy/_core/fromnumeric.py:2485\u001b[0m, in \u001b[0;36msum\u001b[0;34m(a, axis, dtype, out, keepdims, initial, where)\u001b[0m\n\u001b[1;32m   2482\u001b[0m         \u001b[39mreturn\u001b[39;00m out\n\u001b[1;32m   2483\u001b[0m     \u001b[39mreturn\u001b[39;00m res\n\u001b[0;32m-> 2485\u001b[0m \u001b[39mreturn\u001b[39;00m _wrapreduction(\n\u001b[1;32m   2486\u001b[0m     a, np\u001b[39m.\u001b[39madd, \u001b[39m'\u001b[39m\u001b[39msum\u001b[39m\u001b[39m'\u001b[39m, axis, dtype, out,\n\u001b[1;32m   2487\u001b[0m     keepdims\u001b[39m=\u001b[39mkeepdims, initial\u001b[39m=\u001b[39minitial, where\u001b[39m=\u001b[39mwhere\n\u001b[1;32m   2488\u001b[0m )\n",
      "File \u001b[0;32m~/anaconda3/lib/python3.11/site-packages/numpy/_core/fromnumeric.py:86\u001b[0m, in \u001b[0;36m_wrapreduction\u001b[0;34m(obj, ufunc, method, axis, dtype, out, **kwargs)\u001b[0m\n\u001b[1;32m     83\u001b[0m         \u001b[39melse\u001b[39;00m:\n\u001b[1;32m     84\u001b[0m             \u001b[39mreturn\u001b[39;00m reduction(axis\u001b[39m=\u001b[39maxis, out\u001b[39m=\u001b[39mout, \u001b[39m*\u001b[39m\u001b[39m*\u001b[39mpasskwargs)\n\u001b[0;32m---> 86\u001b[0m \u001b[39mreturn\u001b[39;00m ufunc\u001b[39m.\u001b[39mreduce(obj, axis, dtype, out, \u001b[39m*\u001b[39m\u001b[39m*\u001b[39mpasskwargs)\n",
      "\u001b[0;31mAxisError\u001b[0m: axis 2 is out of bounds for array of dimension 2"
     ]
    }
   ],
   "source": [
    "array = np.array([(1,2),(3,4)])\n",
    "print(array.shape)\n",
    "\n",
    "#Axis Error Demostration\n",
    "_sum = np.sum(array,axis=0)\n",
    "print(_sum)\n",
    "_sum = np.sum(array,axis=1)\n",
    "print(_sum)\n",
    "_sum = np.sum(array,axis=2) # No Axis --> Should give Axis error\n",
    "print(_sum)"
   ]
  },
  {
   "cell_type": "code",
   "execution_count": 18,
   "metadata": {},
   "outputs": [
    {
     "ename": "DTypePromotionError",
     "evalue": "The DType <class 'numpy.dtypes.DateTime64DType'> could not be promoted by <class 'numpy.dtypes.Complex128DType'>. This means that no common DType exists for the given inputs. For example they cannot be stored in a single array unless the dtype is `object`. The full list of DTypes is: (<class 'numpy.dtypes.DateTime64DType'>, <class 'numpy.dtypes.Complex128DType'>)",
     "output_type": "error",
     "traceback": [
      "\u001b[0;31m---------------------------------------------------------------------------\u001b[0m",
      "\u001b[0;31mDTypePromotionError\u001b[0m                       Traceback (most recent call last)",
      "Cell \u001b[0;32mIn[18], line 1\u001b[0m\n\u001b[0;32m----> 1\u001b[0m np\u001b[39m.\u001b[39mresult_type(np\u001b[39m.\u001b[39mdtype(\u001b[39m\"\u001b[39m\u001b[39mM8[s]\u001b[39m\u001b[39m\"\u001b[39m), np\u001b[39m.\u001b[39mcomplex128)\n",
      "\u001b[0;31mDTypePromotionError\u001b[0m: The DType <class 'numpy.dtypes.DateTime64DType'> could not be promoted by <class 'numpy.dtypes.Complex128DType'>. This means that no common DType exists for the given inputs. For example they cannot be stored in a single array unless the dtype is `object`. The full list of DTypes is: (<class 'numpy.dtypes.DateTime64DType'>, <class 'numpy.dtypes.Complex128DType'>)"
     ]
    }
   ],
   "source": [
    "np.result_type(np.dtype(\"M8[s]\"), np.complex128)"
   ]
  },
  {
   "cell_type": "code",
   "execution_count": 20,
   "metadata": {},
   "outputs": [
    {
     "ename": "DTypePromotionError",
     "evalue": "field names `('field1', 'field2')` and `('field1',)` mismatch.",
     "output_type": "error",
     "traceback": [
      "\u001b[0;31m---------------------------------------------------------------------------\u001b[0m",
      "\u001b[0;31mDTypePromotionError\u001b[0m                       Traceback (most recent call last)",
      "Cell \u001b[0;32mIn[20], line 3\u001b[0m\n\u001b[1;32m      1\u001b[0m dtype1 \u001b[39m=\u001b[39m np\u001b[39m.\u001b[39mdtype([(\u001b[39m\"\u001b[39m\u001b[39mfield1\u001b[39m\u001b[39m\"\u001b[39m, np\u001b[39m.\u001b[39mfloat64), (\u001b[39m\"\u001b[39m\u001b[39mfield2\u001b[39m\u001b[39m\"\u001b[39m, np\u001b[39m.\u001b[39mint64)])\n\u001b[1;32m      2\u001b[0m dtype2 \u001b[39m=\u001b[39m np\u001b[39m.\u001b[39mdtype([(\u001b[39m\"\u001b[39m\u001b[39mfield1\u001b[39m\u001b[39m\"\u001b[39m, np\u001b[39m.\u001b[39mfloat64)])\n\u001b[0;32m----> 3\u001b[0m np\u001b[39m.\u001b[39mpromote_types(dtype1, dtype2)\n",
      "File \u001b[0;32m~/anaconda3/lib/python3.11/site-packages/numpy/_core/_internal.py:471\u001b[0m, in \u001b[0;36m_promote_fields\u001b[0;34m(dt1, dt2)\u001b[0m\n\u001b[1;32m    469\u001b[0m \u001b[39m# Both must be structured and have the same names in the same order\u001b[39;00m\n\u001b[1;32m    470\u001b[0m \u001b[39mif\u001b[39;00m (dt1\u001b[39m.\u001b[39mnames \u001b[39mis\u001b[39;00m \u001b[39mNone\u001b[39;00m \u001b[39mor\u001b[39;00m dt2\u001b[39m.\u001b[39mnames \u001b[39mis\u001b[39;00m \u001b[39mNone\u001b[39;00m) \u001b[39mor\u001b[39;00m dt1\u001b[39m.\u001b[39mnames \u001b[39m!=\u001b[39m dt2\u001b[39m.\u001b[39mnames:\n\u001b[0;32m--> 471\u001b[0m     \u001b[39mraise\u001b[39;00m DTypePromotionError(\n\u001b[1;32m    472\u001b[0m             \u001b[39mf\u001b[39m\u001b[39m\"\u001b[39m\u001b[39mfield names `\u001b[39m\u001b[39m{\u001b[39;00mdt1\u001b[39m.\u001b[39mnames\u001b[39m}\u001b[39;00m\u001b[39m` and `\u001b[39m\u001b[39m{\u001b[39;00mdt2\u001b[39m.\u001b[39mnames\u001b[39m}\u001b[39;00m\u001b[39m` mismatch.\u001b[39m\u001b[39m\"\u001b[39m)\n\u001b[1;32m    474\u001b[0m \u001b[39m# if both are identical, we can (maybe!) just return the same dtype.\u001b[39;00m\n\u001b[1;32m    475\u001b[0m identical \u001b[39m=\u001b[39m dt1 \u001b[39mis\u001b[39;00m dt2\n",
      "\u001b[0;31mDTypePromotionError\u001b[0m: field names `('field1', 'field2')` and `('field1',)` mismatch."
     ]
    }
   ],
   "source": [
    "dtype1 = np.dtype([(\"field1\", np.float64), (\"field2\", np.int64)])\n",
    "dtype2 = np.dtype([(\"field1\", np.float64)])\n",
    "np.promote_types(dtype1, dtype2)  "
   ]
  },
  {
   "cell_type": "code",
   "execution_count": 5,
   "metadata": {},
   "outputs": [
    {
     "ename": "TooHardError",
     "evalue": "This operation is too hard for the current dataset size!",
     "output_type": "error",
     "traceback": [
      "\u001b[0;31m---------------------------------------------------------------------------\u001b[0m",
      "\u001b[0;31mTooHardError\u001b[0m                              Traceback (most recent call last)",
      "Cell \u001b[0;32mIn[5], line 13\u001b[0m\n\u001b[1;32m     11\u001b[0m \u001b[39m# Example usage\u001b[39;00m\n\u001b[1;32m     12\u001b[0m data \u001b[39m=\u001b[39m np\u001b[39m.\u001b[39mrandom\u001b[39m.\u001b[39mrand(\u001b[39m10\u001b[39m\u001b[39m*\u001b[39m\u001b[39m*\u001b[39m\u001b[39m7\u001b[39m)  \u001b[39m# A large dataset\u001b[39;00m\n\u001b[0;32m---> 13\u001b[0m result \u001b[39m=\u001b[39m complex_numpy_function(data)\n\u001b[1;32m     14\u001b[0m \u001b[39mprint\u001b[39m(\u001b[39m\"\u001b[39m\u001b[39mMean of data:\u001b[39m\u001b[39m\"\u001b[39m, result)\n",
      "Cell \u001b[0;32mIn[5], line 6\u001b[0m, in \u001b[0;36mcomplex_numpy_function\u001b[0;34m(data)\u001b[0m\n\u001b[1;32m      3\u001b[0m \u001b[39mdef\u001b[39;00m \u001b[39mcomplex_numpy_function\u001b[39m(data):\n\u001b[1;32m      4\u001b[0m     \u001b[39m# Imagine this operation is too complex or the array is too large\u001b[39;00m\n\u001b[1;32m      5\u001b[0m     \u001b[39mif\u001b[39;00m data\u001b[39m.\u001b[39msize \u001b[39m>\u001b[39m \u001b[39m10\u001b[39m\u001b[39m*\u001b[39m\u001b[39m*\u001b[39m\u001b[39m6\u001b[39m:\n\u001b[0;32m----> 6\u001b[0m         \u001b[39mraise\u001b[39;00m np\u001b[39m.\u001b[39mexceptions\u001b[39m.\u001b[39mTooHardError(\u001b[39m\"\u001b[39m\u001b[39mThis operation is too hard for the current dataset size!\u001b[39m\u001b[39m\"\u001b[39m)\n\u001b[1;32m      8\u001b[0m     \u001b[39m# A simple operation that won't raise an error for small datasets\u001b[39;00m\n\u001b[1;32m      9\u001b[0m     \u001b[39mreturn\u001b[39;00m np\u001b[39m.\u001b[39mmean(data)\n",
      "\u001b[0;31mTooHardError\u001b[0m: This operation is too hard for the current dataset size!"
     ]
    }
   ],
   "source": [
    "import numpy as np\n",
    "\n",
    "def complex_numpy_function(data):\n",
    "    # Imagine this operation is too complex or the array is too large\n",
    "    if data.size > 10**6:\n",
    "        raise np.exceptions.TooHardError(\"This operation is too hard for the current dataset size!\")\n",
    "    \n",
    "    # A simple operation that won't raise an error for small datasets\n",
    "    return np.mean(data)\n",
    "\n",
    "# Example usage\n",
    "data = np.random.rand(10**7)  # A large dataset\n",
    "result = complex_numpy_function(data)\n",
    "print(\"Mean of data:\", result)\n"
   ]
  },
  {
   "cell_type": "markdown",
   "metadata": {},
   "source": [
    "## numpy.fft"
   ]
  },
  {
   "cell_type": "markdown",
   "metadata": {},
   "source": [
    "Numpy Module for [Fourier Transforms](https://en.wikipedia.org/wiki/Fourier_transform)."
   ]
  },
  {
   "cell_type": "markdown",
   "metadata": {},
   "source": [
    "## numpy.linalg"
   ]
  },
  {
   "cell_type": "markdown",
   "metadata": {},
   "source": [
    "The NumPy linear algebra functions rely on [BLAS](https://en.wikipedia.org/wiki/Basic_Linear_Algebra_Subprograms) and [LAPACK](https://en.wikipedia.org/wiki/LAPACK) to provide efficient low level implementations of standard linear algebra algorithms. "
   ]
  },
  {
   "cell_type": "markdown",
   "metadata": {},
   "source": [
    "\n",
    "> Basic Linear Algebra Subprograms (BLAS) is a specification that prescribes a set of low-level routines for performing common linear algebra operations such as vector addition, scalar multiplication, dot products, linear combinations, and matrix multiplication. They are the de facto standard low-level routines for linear algebra libraries; the routines have bindings for both C (\"CBLAS interface\") and Fortran (\"BLAS interface\"). Although the BLAS specification is general, BLAS implementations are often optimized for speed on a particular machine, so using them can bring substantial performance benefits. BLAS implementations will take advantage of special floating point hardware such as vector registers or SIMD instructions."
   ]
  },
  {
   "cell_type": "markdown",
   "metadata": {},
   "source": [
    "> LAPACK (\"Linear Algebra Package\") is a standard software library for numerical linear algebra. It provides routines for solving systems of linear equations and linear least squares, eigenvalue problems, and singular value decomposition. It also includes routines to implement the associated matrix factorizations such as LU, QR, Cholesky and Schur decomposition. LAPACK was originally written in FORTRAN 77, but moved to Fortran 90 in version 3.2 (2008).[3] The routines handle both real and complex matrices in both single and double precision. LAPACK relies on an underlying BLAS implementation to provide efficient and portable computational building blocks for its routines."
   ]
  },
  {
   "cell_type": "markdown",
   "metadata": {},
   "source": [
    "\n",
    "References:\n",
    "\n",
    "- Anderson, E.; Bai, Z.; Bischof, C.; Blackford, S.; Demmel, J.; Dongarra, J.; Du Croz, J.; Greenbaum, A.; Hammarling, S.; McKenney, A.; Sorensen, D. (1999). LAPACK Users' Guide (Third ed.). Philadelphia, PA: Society for Industrial and Applied Mathematics. ISBN 0-89871-447-8. Retrieved 28 May 2022.\n",
    "\n",
    "- \"LAPACK 3.2 Release Notes\". 16 November 2008."
   ]
  },
  {
   "cell_type": "markdown",
   "metadata": {},
   "source": [
    "\n",
    "Those libraries may be provided by NumPy itself using C versions of a subset of their reference implementations but, when possible, highly optimized libraries that take advantage of specialized processor functionality are preferred. Examples of such libraries are [OpenBLAS](https://www.openblas.net), [MKL (TM)](https://en.wikipedia.org/wiki/Math_Kernel_Library), and [ATLAS](https://math-atlas.sourceforge.net). Because those libraries are multithreaded and processor dependent, environmental variables and external packages such as **threadpoolctl** may be needed to control the number of threads or specify the processor architecture."
   ]
  },
  {
   "cell_type": "markdown",
   "metadata": {},
   "source": [
    "The SciPy library also contains a `linalg` submodule, and there is overlap in the functionality provided by the SciPy and NumPy submodules. SciPy contains functions not found in numpy.linalg, such as functions related to [LU decomposition](https://en.wikipedia.org/wiki/LU_decomposition) and the [Schur decomposition](https://en.wikipedia.org/wiki/Schur_decomposition), multiple ways of calculating the pseudoinverse, and matrix transcendentals such as the matrix logarithm."
   ]
  },
  {
   "cell_type": "markdown",
   "metadata": {},
   "source": [
    "> Axes in NumPy Arrays\n",
    "\n",
    "- Axis 0: This is the first axis of a NumPy array. It typically represents the rows in a 2D array (or the outermost dimension in higher-dimensional arrays). When you perform operations along axis 0, you are usually aggregating or processing across all rows.\n",
    "\n",
    "- Axis 1: This is the second axis of a NumPy array. In a 2D array, it corresponds to the columns. When you perform operations along axis 1, you are aggregating or processing across all columns."
   ]
  },
  {
   "cell_type": "markdown",
   "metadata": {},
   "source": [
    "> The `@` operator is used for matrix multiplication between two matrices. `np.matmul` "
   ]
  },
  {
   "cell_type": "code",
   "execution_count": 3,
   "metadata": {},
   "outputs": [
    {
     "data": {
      "text/plain": [
       "(matrix([[2, 4, 5],\n",
       "         [5, 4, 2],\n",
       "         [3, 1, 6]]),\n",
       " matrix([[ 1,  1,  1],\n",
       "         [ 5,  3,  7],\n",
       "         [10,  8,  9]]))"
      ]
     },
     "execution_count": 3,
     "metadata": {},
     "output_type": "execute_result"
    }
   ],
   "source": [
    "A = np.matrix([[2,4,5],[5,4,2],[3,1,6]])\n",
    "B = np.matrix([[1,1,1],[5,3,7],[10,8,9]])\n",
    "A,B"
   ]
  },
  {
   "cell_type": "code",
   "execution_count": 4,
   "metadata": {},
   "outputs": [
    {
     "name": "stdout",
     "output_type": "stream",
     "text": [
      "[[72 54 75]\n",
      " [45 33 51]\n",
      " [68 54 64]]\n",
      "[[72 54 75]\n",
      " [45 33 51]\n",
      " [68 54 64]]\n"
     ]
    }
   ],
   "source": [
    "C = np.matmul(A,B)\n",
    "print(C)\n",
    "D = A@B\n",
    "print(D)"
   ]
  },
  {
   "cell_type": "markdown",
   "metadata": {},
   "source": [
    "### Matrix and vector products"
   ]
  },
  {
   "cell_type": "markdown",
   "metadata": {},
   "source": [
    "| Function | Description |\n",
    "|---|---|\n",
    "| `dot(a, b[, out])` | Dot product of two arrays. |\n",
    "| `linalg.multi_dot(arrays, *[, out])` | Compute the dot product of two or more arrays in a single function call, while automatically selecting the fastest evaluation order. |\n",
    "| `vdot(a, b, /)` | Return the dot product of two vectors. |\n",
    "| `vecdot(x1, x2, /[, out, casting, order, ...])` | Vector dot product of two arrays. |\n",
    "| `linalg.vecdot(x1, x2, /, *[, axis])` | Computes the vector dot product. |\n",
    "| `inner(a, b, /)` | Inner product of two arrays. |\n",
    "| `outer(a, b[, out])` | Compute the outer product of two vectors. |\n",
    "| `matmul(x1, x2, /[, out, casting, order, ...])` | Matrix product of two arrays. |\n",
    "| `linalg.matmul(x1, x2, /)` | Computes the matrix product. |\n",
    "| `tensordot(a, b[, axes])` | Compute tensor dot product along specified axes. |\n",
    "| `linalg.tensordot(x1, x2, /, *[, axes])` | Compute tensor dot product along specified axes. |\n",
    "| `einsum(subscripts, *operands[, out, dtype, ...])` | Evaluates the Einstein summation convention on the operands. |\n",
    "| `einsum_path(subscripts, *operands[, optimize])` | Evaluates the lowest cost contraction order for an einsum expression by considering the creation of intermediate arrays. |\n",
    "| `linalg.matrix_power(a, n)` | Raise a square matrix to the (integer) power n. |\n",
    "| `kron(a, b)` | Kronecker product of two arrays. |\n",
    "| `linalg.cross(x1, x2, /, *[, axis])` | Returns the cross product of 3-element vectors. |\n"
   ]
  },
  {
   "cell_type": "markdown",
   "metadata": {},
   "source": [
    "#### Code Implementations"
   ]
  },
  {
   "cell_type": "markdown",
   "metadata": {},
   "source": [
    "dot and multi_dot"
   ]
  },
  {
   "cell_type": "code",
   "execution_count": 21,
   "metadata": {},
   "outputs": [
    {
     "data": {
      "text/plain": [
       "(matrix([[1, 0],\n",
       "         [0, 1]]),\n",
       " matrix([[4, 1],\n",
       "         [2, 2]]))"
      ]
     },
     "execution_count": 21,
     "metadata": {},
     "output_type": "execute_result"
    }
   ],
   "source": [
    "a = np.matrix([[1, 0], [0, 1]])\n",
    "b = np.matrix([[4, 1], [2, 2]])\n",
    "a,b"
   ]
  },
  {
   "cell_type": "code",
   "execution_count": 22,
   "metadata": {},
   "outputs": [
    {
     "data": {
      "text/plain": [
       "matrix([[4, 1],\n",
       "        [2, 2]])"
      ]
     },
     "execution_count": 22,
     "metadata": {},
     "output_type": "execute_result"
    }
   ],
   "source": [
    "np.dot(a, b)"
   ]
  },
  {
   "cell_type": "code",
   "execution_count": 16,
   "metadata": {},
   "outputs": [
    {
     "name": "stdout",
     "output_type": "stream",
     "text": [
      "(10000, 333)\n",
      "[[31229.38409299 20939.90203527 40629.31284565 ... 30962.7328555\n",
      "  15130.13869885 33696.14496461]\n",
      " [32460.15657146 21776.22504512 42222.79740772 ... 32181.91117219\n",
      "  15717.12060996 35021.8272593 ]\n",
      " [33975.56956356 22783.2654148  44192.31254239 ... 33685.23677008\n",
      "  16456.44989155 36653.8879767 ]\n",
      " ...\n",
      " [30819.00179991 20662.86000021 40085.70237776 ... 30557.55636294\n",
      "  14928.63179029 33249.71888371]\n",
      " [31231.65505436 20946.6866803  40622.76184163 ... 30964.76317615\n",
      "  15122.85907141 33692.71657728]\n",
      " [30386.01828732 20388.72955968 39530.60588209 ... 30124.40762162\n",
      "  14713.88266383 32788.19320877]]\n",
      "(10000, 333)\n",
      "[[31229.38409299 20939.90203527 40629.31284565 ... 30962.7328555\n",
      "  15130.13869885 33696.14496461]\n",
      " [32460.15657146 21776.22504512 42222.79740772 ... 32181.91117219\n",
      "  15717.12060996 35021.8272593 ]\n",
      " [33975.56956356 22783.2654148  44192.31254239 ... 33685.23677008\n",
      "  16456.44989155 36653.8879767 ]\n",
      " ...\n",
      " [30819.00179991 20662.86000021 40085.70237776 ... 30557.55636294\n",
      "  14928.63179029 33249.71888371]\n",
      " [31231.65505436 20946.6866803  40622.76184163 ... 30964.76317615\n",
      "  15122.85907141 33692.71657728]\n",
      " [30386.01828732 20388.72955968 39530.60588209 ... 30124.40762162\n",
      "  14713.88266383 32788.19320877]]\n"
     ]
    }
   ],
   "source": [
    "from numpy.linalg import multi_dot\n",
    "# Prepare some data\n",
    "A = np.random.random((10000, 100))\n",
    "B = np.random.random((100, 1000))\n",
    "C = np.random.random((1000, 5))\n",
    "D = np.random.random((5, 333))\n",
    "# the actual dot multiplication\n",
    "_ = multi_dot([A, B, C, D])\n",
    "print(_.shape)\n",
    "print(_)\n",
    "_ = np.dot(np.dot(np.dot(A, B), C), D)\n",
    "print(_.shape)\n",
    "print(_)"
   ]
  },
  {
   "cell_type": "markdown",
   "metadata": {},
   "source": [
    "vdot"
   ]
  },
  {
   "cell_type": "code",
   "execution_count": 23,
   "metadata": {},
   "outputs": [
    {
     "data": {
      "text/plain": [
       "(array([[1, 4],\n",
       "        [5, 6]]),\n",
       " array([[4, 1],\n",
       "        [2, 2]]))"
      ]
     },
     "execution_count": 23,
     "metadata": {},
     "output_type": "execute_result"
    }
   ],
   "source": [
    "a = np.array([[1, 4], [5, 6]])\n",
    "b = np.array([[4, 1], [2, 2]])\n",
    "a,b"
   ]
  },
  {
   "cell_type": "markdown",
   "metadata": {},
   "source": [
    "Note that vdot handles multidimensional arrays differently than dot: **it does not perform a matrix product, but flattens input arguments to 1-D vectors first**. Consequently, it should only be used for vectors."
   ]
  },
  {
   "cell_type": "code",
   "execution_count": 24,
   "metadata": {},
   "outputs": [
    {
     "data": {
      "text/plain": [
       "30"
      ]
     },
     "execution_count": 24,
     "metadata": {},
     "output_type": "execute_result"
    }
   ],
   "source": [
    "np.vdot(a, b)\n",
    "np.vdot(b, a)"
   ]
  },
  {
   "cell_type": "markdown",
   "metadata": {},
   "source": [
    "Inner Product"
   ]
  },
  {
   "cell_type": "markdown",
   "metadata": {},
   "source": [
    "Ordinary inner product of vectors for 1-D arrays (without complex conjugation), **in higher dimensions a sum product over the last axes.**"
   ]
  },
  {
   "cell_type": "code",
   "execution_count": 25,
   "metadata": {},
   "outputs": [
    {
     "data": {
      "text/plain": [
       "(array([[[ 0,  1,  2,  3],\n",
       "         [ 4,  5,  6,  7],\n",
       "         [ 8,  9, 10, 11]],\n",
       " \n",
       "        [[12, 13, 14, 15],\n",
       "         [16, 17, 18, 19],\n",
       "         [20, 21, 22, 23]]]),\n",
       " array([0, 1, 2, 3]))"
      ]
     },
     "execution_count": 25,
     "metadata": {},
     "output_type": "execute_result"
    }
   ],
   "source": [
    "a = np.arange(24).reshape((2,3,4))\n",
    "b = np.arange(4)\n",
    "a,b"
   ]
  },
  {
   "cell_type": "code",
   "execution_count": 27,
   "metadata": {},
   "outputs": [
    {
     "name": "stdout",
     "output_type": "stream",
     "text": [
      "(2, 3)\n"
     ]
    },
    {
     "data": {
      "text/plain": [
       "array([[ 14,  38,  62],\n",
       "       [ 86, 110, 134]])"
      ]
     },
     "execution_count": 27,
     "metadata": {},
     "output_type": "execute_result"
    }
   ],
   "source": [
    "c = np.inner(a, b)\n",
    "print(c.shape)\n",
    "c"
   ]
  },
  {
   "cell_type": "code",
   "execution_count": 28,
   "metadata": {},
   "outputs": [
    {
     "data": {
      "text/plain": [
       "(array([[[0, 1]]]),\n",
       " array([[0, 1],\n",
       "        [2, 3],\n",
       "        [4, 5]]))"
      ]
     },
     "execution_count": 28,
     "metadata": {},
     "output_type": "execute_result"
    }
   ],
   "source": [
    "a = np.arange(2).reshape((1,1,2))\n",
    "b = np.arange(6).reshape((3,2))\n",
    "a,b"
   ]
  },
  {
   "cell_type": "code",
   "execution_count": 30,
   "metadata": {},
   "outputs": [
    {
     "name": "stdout",
     "output_type": "stream",
     "text": [
      "(1, 1, 3)\n"
     ]
    },
    {
     "data": {
      "text/plain": [
       "array([[[1, 3, 5]]])"
      ]
     },
     "execution_count": 30,
     "metadata": {},
     "output_type": "execute_result"
    }
   ],
   "source": [
    "c = np.inner(a, b)\n",
    "print(c.shape)\n",
    "c"
   ]
  },
  {
   "cell_type": "markdown",
   "metadata": {},
   "source": [
    "Outer Product"
   ]
  },
  {
   "cell_type": "code",
   "execution_count": 33,
   "metadata": {},
   "outputs": [
    {
     "name": "stdout",
     "output_type": "stream",
     "text": [
      "(5,)\n"
     ]
    },
    {
     "data": {
      "text/plain": [
       "array([[0.+2.j, 0.+2.j, 0.+2.j, 0.+2.j, 0.+2.j],\n",
       "       [0.+1.j, 0.+1.j, 0.+1.j, 0.+1.j, 0.+1.j],\n",
       "       [0.+0.j, 0.+0.j, 0.+0.j, 0.+0.j, 0.+0.j],\n",
       "       [0.-1.j, 0.-1.j, 0.-1.j, 0.-1.j, 0.-1.j],\n",
       "       [0.-2.j, 0.-2.j, 0.-2.j, 0.-2.j, 0.-2.j]])"
      ]
     },
     "execution_count": 33,
     "metadata": {},
     "output_type": "execute_result"
    }
   ],
   "source": [
    "d=1j*np.linspace(2, -2, 5)\n",
    "print(d.shape)\n",
    "im = np.outer(1j*np.linspace(2, -2, 5), np.ones((5,)))\n",
    "im"
   ]
  },
  {
   "cell_type": "code",
   "execution_count": 31,
   "metadata": {},
   "outputs": [
    {
     "data": {
      "text/plain": [
       "array([['a', 'aa', 'aaa'],\n",
       "       ['b', 'bb', 'bbb'],\n",
       "       ['c', 'cc', 'ccc']], dtype=object)"
      ]
     },
     "execution_count": 31,
     "metadata": {},
     "output_type": "execute_result"
    }
   ],
   "source": [
    "x = np.array(['a', 'b', 'c'], dtype=object)\n",
    "np.outer(x, [1, 2, 3])"
   ]
  },
  {
   "cell_type": "markdown",
   "metadata": {},
   "source": [
    "Tensordot"
   ]
  },
  {
   "cell_type": "code",
   "execution_count": 39,
   "metadata": {},
   "outputs": [
    {
     "name": "stdout",
     "output_type": "stream",
     "text": [
      "[17 39]\n",
      "[[[ 5  6]\n",
      "  [10 12]]\n",
      "\n",
      " [[15 18]\n",
      "  [20 24]]]\n"
     ]
    }
   ],
   "source": [
    "\n",
    "# Define the arrays\n",
    "A = np.array([[1, 2],\n",
    "              [3, 4]])\n",
    "\n",
    "B = np.array([5, 6])\n",
    "\n",
    "# Compute the tensor dot product\n",
    "result = np.tensordot(A, B, axes=1)\n",
    "print(result)\n",
    "result = np.tensordot(A, B, axes=0)\n",
    "print(result)\n"
   ]
  },
  {
   "cell_type": "markdown",
   "metadata": {},
   "source": [
    "einsum"
   ]
  },
  {
   "cell_type": "markdown",
   "metadata": {},
   "source": [
    "`numpy.einsum(subscripts, *operands, out=None, dtype=None, order='K', casting='safe', optimize=False)`"
   ]
  },
  {
   "cell_type": "markdown",
   "metadata": {},
   "source": [
    "Evaluates the Einstein summation convention on the operands.\n",
    "\n",
    "Using the Einstein summation convention, many common multi-dimensional, linear algebraic array operations can be represented in a simple fashion. In implicit mode einsum computes these values.\n",
    "\n",
    "In explicit mode, einsum provides further flexibility to compute other array operations that might not be considered classical Einstein summation operations, by disabling, or forcing summation over specified subscript labels."
   ]
  },
  {
   "cell_type": "markdown",
   "metadata": {},
   "source": [
    "**Parameters:**\n",
    "\n",
    "* **subscripts:str :** Specifies the subscripts for summation as a comma-separated list of subscript labels. An implicit (classical Einstein summation) calculation is performed unless the explicit indicator \"->\" is included as well as subscript labels of the precise output form.\n",
    "* **operands:** A list of array-like objects that are the arrays for the operation.\n",
    "* **out:** Optional ndarray. If provided, the calculation is done into this array.\n",
    "* **dtype:** Optional data-type. If provided, forces the calculation to use the specified data type. Note that you may have to also give a more liberal `casting` parameter to allow the conversions. Default is None.\n",
    "* **order:** Optional string specifying the memory layout of the output. \"C\" means it should be C contiguous, \"F\" means it should be Fortran contiguous, \"A\" means it should be \"F\" if the inputs are all \"F\", \"C\" otherwise, and \"K\" means it should be as close to the layout as the inputs as is possible, including arbitrarily permuted axes. Default is \"K\".\n",
    "* **casting:** Optional string controlling what kind of data casting may occur. Setting this to \"unsafe\" is not recommended, as it can adversely affect accumulations.\n",
    "    * \"no\": Data types should not be cast at all.\n",
    "    * \"equiv\": Only byte-order changes are allowed.\n",
    "    * \"safe\": Only casts which can preserve values are allowed.\n",
    "    * \"same_kind\": Only safe casts or casts within a kind, like float64 to float32, are allowed.\n",
    "    * \"unsafe\": Any data conversions may be done.\n",
    "  Default is \"safe\".\n",
    "* **optimize:** Optional boolean or string controlling whether intermediate optimization should occur. No optimization will occur if False, and True will default to the \"greedy\" algorithm. Also accepts an explicit contraction list from the `np.einsum_path` function. See `np.einsum_path` for more details. Defaults to False.\n",
    "\n",
    "**Returns:**\n",
    "\n",
    "* **output:** ndarray. The calculation based on the Einstein summation convention."
   ]
  },
  {
   "cell_type": "code",
   "execution_count": 45,
   "metadata": {},
   "outputs": [
    {
     "name": "stdout",
     "output_type": "stream",
     "text": [
      "[[ 0  1  2  3  4]\n",
      " [ 5  6  7  8  9]\n",
      " [10 11 12 13 14]\n",
      " [15 16 17 18 19]\n",
      " [20 21 22 23 24]]\n",
      "60\n",
      "[50 55 60 65 70]\n",
      "[50 55 60 65 70]\n",
      "[ 10  35  60  85 110]\n",
      "[ 10  35  60  85 110]\n"
     ]
    }
   ],
   "source": [
    "a = np.arange(25).reshape(5,5)\n",
    "print(a)\n",
    "print(np.einsum('ii', a))\n",
    "print(np.einsum('ij->j', a))\n",
    "print(np.sum(a,axis=0))#row-wise\n",
    "print(np.einsum('ij->i', a))\n",
    "print(np.sum(a,axis=1))#column-wise"
   ]
  },
  {
   "cell_type": "code",
   "execution_count": 47,
   "metadata": {},
   "outputs": [
    {
     "name": "stdout",
     "output_type": "stream",
     "text": [
      "[[0 1 2]\n",
      " [3 4 5]]\n",
      "\n",
      "[[0 3]\n",
      " [1 4]\n",
      " [2 5]]\n",
      "[[0 3]\n",
      " [1 4]\n",
      " [2 5]]\n",
      "[[0 3]\n",
      " [1 4]\n",
      " [2 5]]\n",
      "[[0 3]\n",
      " [1 4]\n",
      " [2 5]]\n"
     ]
    }
   ],
   "source": [
    "c = np.arange(6).reshape(2,3)\n",
    "print(c)\n",
    "print(\"\")\n",
    "print(np.einsum('ji', c))\n",
    "print(np.einsum('ij->ji', c))\n",
    "print(np.einsum(c, [1,0]))\n",
    "print(np.transpose(c))"
   ]
  },
  {
   "cell_type": "markdown",
   "metadata": {},
   "source": [
    "einsum_path"
   ]
  },
  {
   "cell_type": "markdown",
   "metadata": {},
   "source": [
    "Evaluates the lowest cost contraction order for an einsum expression by considering the creation of intermediate arrays."
   ]
  },
  {
   "cell_type": "code",
   "execution_count": 50,
   "metadata": {},
   "outputs": [
    {
     "name": "stdout",
     "output_type": "stream",
     "text": [
      "['einsum_path', (1, 2), (0, 1)]\n",
      "  Complete contraction:  ij,jk,kl->il\n",
      "         Naive scaling:  4\n",
      "     Optimized scaling:  3\n",
      "      Naive FLOP count:  1.200e+02\n",
      "  Optimized FLOP count:  5.700e+01\n",
      "   Theoretical speedup:  2.105\n",
      "  Largest intermediate:  4.000e+00 elements\n",
      "--------------------------------------------------------------------------\n",
      "scaling                  current                                remaining\n",
      "--------------------------------------------------------------------------\n",
      "   3                   kl,jk->jl                                ij,jl->il\n",
      "   3                   jl,ij->il                                   il->il\n"
     ]
    }
   ],
   "source": [
    "np.random.seed(123)\n",
    "a = np.random.rand(2, 2)\n",
    "b = np.random.rand(2, 5)\n",
    "c = np.random.rand(5, 2)\n",
    "path_info = np.einsum_path('ij,jk,kl->il', a, b, c, optimize='greedy')\n",
    "print(path_info[0])\n",
    "print(path_info[1])"
   ]
  },
  {
   "cell_type": "code",
   "execution_count": 51,
   "metadata": {},
   "outputs": [
    {
     "name": "stdout",
     "output_type": "stream",
     "text": [
      "(2, 2)\n"
     ]
    }
   ],
   "source": [
    "d=a@b@c\n",
    "print(d.shape)"
   ]
  },
  {
   "cell_type": "markdown",
   "metadata": {},
   "source": [
    "matrix_power"
   ]
  },
  {
   "cell_type": "code",
   "execution_count": 54,
   "metadata": {},
   "outputs": [
    {
     "data": {
      "text/plain": [
       "array([[32.,  0.,  0.],\n",
       "       [ 0., 32.,  0.],\n",
       "       [ 0.,  0., 32.]])"
      ]
     },
     "execution_count": 54,
     "metadata": {},
     "output_type": "execute_result"
    }
   ],
   "source": [
    "np.linalg.matrix_power(2*np.eye(3),5)"
   ]
  },
  {
   "cell_type": "markdown",
   "metadata": {},
   "source": [
    "np.kron"
   ]
  },
  {
   "cell_type": "markdown",
   "metadata": {},
   "source": [
    "Kronecker product of two arrays.\n",
    "\n",
    "Computes the Kronecker product, a composite array made of blocks of the second array scaled by the first."
   ]
  },
  {
   "cell_type": "code",
   "execution_count": 56,
   "metadata": {},
   "outputs": [
    {
     "name": "stdout",
     "output_type": "stream",
     "text": [
      "[  5   6   7  50  60  70 500 600 700]\n",
      "(9,)\n"
     ]
    }
   ],
   "source": [
    "import numpy as np\n",
    "print(np.kron([1,10,100], [5,6,7]))\n",
    "print(np.kron([1,10,100], [5,6,7]).shape)\n"
   ]
  },
  {
   "cell_type": "markdown",
   "metadata": {},
   "source": [
    "np.cross"
   ]
  },
  {
   "cell_type": "code",
   "execution_count": 58,
   "metadata": {},
   "outputs": [
    {
     "data": {
      "text/plain": [
       "array([-3,  6, -3])"
      ]
     },
     "execution_count": 58,
     "metadata": {},
     "output_type": "execute_result"
    }
   ],
   "source": [
    "x = np.array([1, 2, 3])\n",
    "y = np.array([4, 5, 6])\n",
    "np.cross(x, y)"
   ]
  },
  {
   "cell_type": "markdown",
   "metadata": {},
   "source": [
    "### Decompositions"
   ]
  },
  {
   "cell_type": "markdown",
   "metadata": {},
   "source": [
    "| Function | Description |\n",
    "|----------|-------------|\n",
    "| `linalg.cholesky(a, /, *[, upper])` | Cholesky decomposition. |\n",
    "| `linalg.outer(x1, x2, /)` | Compute the outer product of two vectors. |\n",
    "| `linalg.qr(a[, mode])` | Compute the QR factorization of a matrix. |\n",
    "| `linalg.svd(a[, full_matrices, compute_uv, ...])` | Singular Value Decomposition (SVD). |\n",
    "| `linalg.svdvals(x, /)` | Returns the singular values of a matrix (or a stack of matrices) `x`. |"
   ]
  },
  {
   "cell_type": "markdown",
   "metadata": {},
   "source": [
    "#### Code Implementations"
   ]
  },
  {
   "cell_type": "markdown",
   "metadata": {},
   "source": [
    "[Cholesky Decomposition](https://en.wikipedia.org/wiki/Cholesky_decomposition)\n",
    "\n",
    "The Cholesky decomposition is a decomposition of a Hermitian, positive-definite matrix into the product of a lower triangular matrix and its conjugate transpose, which is useful for efficient numerical solutions, e.g., Monte Carlo simulations.\n",
    "\n",
    "$${\\displaystyle \\mathbf {A} =\\mathbf {LL} ^{*}}$$\n"
   ]
  },
  {
   "cell_type": "code",
   "execution_count": 65,
   "metadata": {},
   "outputs": [
    {
     "name": "stdout",
     "output_type": "stream",
     "text": [
      "[[ 2.  0.  0.]\n",
      " [ 6.  1.  0.]\n",
      " [-8. -4.  3.]]\n",
      "[[  4.  12. -16.]\n",
      " [ 12.  37. -52.]\n",
      " [-16. -52.  89.]]\n"
     ]
    }
   ],
   "source": [
    "A = np.array([[4, 12, -16],\n",
    "              [12, 37, -52],\n",
    "              [-16, -52, 89]])\n",
    "\n",
    "# Perform Cholesky decomposition\n",
    "L = np.linalg.cholesky(A)\n",
    "\n",
    "print(L)\n",
    "print(L@np.transpose(L))"
   ]
  },
  {
   "cell_type": "markdown",
   "metadata": {},
   "source": [
    "QR Factorization\n",
    "\n",
    "Compute the qr factorization of a matrix.\n",
    "\n",
    "QR factorization is a matrix decomposition that expresses a matrix as the product of an orthogonal matrix and an upper triangular matrix. This decomposition is particularly useful in numerical linear algebra for solving linear least squares problems, computing eigenvalues, and performing matrix inversion."
   ]
  },
  {
   "cell_type": "code",
   "execution_count": 66,
   "metadata": {},
   "outputs": [
    {
     "name": "stdout",
     "output_type": "stream",
     "text": [
      "Q:\n",
      " [[-0.12309149  0.90453403  0.40824829]\n",
      " [-0.49236596  0.30151134 -0.81649658]\n",
      " [-0.86164044 -0.30151134  0.40824829]]\n",
      "R:\n",
      " [[-8.12403840e+00 -9.60113630e+00 -1.10782342e+01]\n",
      " [ 0.00000000e+00  9.04534034e-01  1.80906807e+00]\n",
      " [ 0.00000000e+00  0.00000000e+00 -7.58790979e-16]]\n"
     ]
    }
   ],
   "source": [
    "# Create a matrix\n",
    "A = np.array([[1, 2, 3],\n",
    "              [4, 5, 6],\n",
    "              [7, 8, 9]])\n",
    "\n",
    "# Perform QR factorization\n",
    "Q, R = np.linalg.qr(A)\n",
    "\n",
    "print(\"Q:\\n\", Q)\n",
    "print(\"R:\\n\", R)"
   ]
  },
  {
   "cell_type": "markdown",
   "metadata": {},
   "source": [
    "[SVD](https://en.wikipedia.org/wiki/Singular_value_decomposition) "
   ]
  },
  {
   "cell_type": "markdown",
   "metadata": {},
   "source": [
    "The Singular Value Decomposition (SVD) is a powerful matrix factorization technique that decomposes a matrix into three matrices:\n",
    "\n",
    "1. **U:** An orthogonal matrix of dimensions m x m.\n",
    "2. **Σ:** A diagonal matrix of dimensions m x n with non-negative real numbers on the diagonal.\n",
    "3. **V^:** The conjugate transpose of an orthogonal matrix V of dimensions n x n.\n",
    "\n",
    "**Mathematical Representation:**\n",
    "\n",
    "```\n",
    "M = UΣV^\n",
    "```\n",
    "\n",
    "**Significance of SVD:**\n",
    "\n",
    "* **Singular Values:** The diagonal elements of Σ are called singular values. They represent the \"scale\" or importance of each dimension in the matrix.\n",
    "* **Principal Components:** The columns of U are called left singular vectors. They represent the principal components of the data in the matrix.\n",
    "* **Orthogonal Basis:** The columns of V* are called right singular vectors. They form an orthogonal basis for the column space of the matrix.\n",
    "\n",
    "**Applications of SVD:**\n",
    "\n",
    "* **Data Analysis:**\n",
    "    * **Dimensionality Reduction:** SVD can be used to reduce the dimensionality of data while preserving the most important information.\n",
    "    * **Principal Component Analysis (PCA):** PCA is a direct application of SVD for dimensionality reduction.\n",
    "    * **Latent Semantic Analysis (LSA):** LSA uses SVD to uncover the underlying semantic structure of a collection of documents.\n",
    "* **Image Processing:**\n",
    "    * **Image Compression:** SVD can be used to compress images by discarding small singular values.\n",
    "    * **Image Denoising:** SVD can be used to remove noise from images.\n",
    "* **Recommendation Systems:**\n",
    "    * **Collaborative Filtering:** SVD can be used to predict user preferences in collaborative filtering systems.\n",
    "* **Numerical Linear Algebra:**\n",
    "    * **Solving Systems of Linear Equations:** SVD can be used to solve systems of linear equations, even when the matrix is singular or ill-conditioned."
   ]
  },
  {
   "cell_type": "markdown",
   "metadata": {},
   "source": [
    "`linalg.svd(a, full_matrices=True, compute_uv=True, hermitian=False)`"
   ]
  },
  {
   "cell_type": "markdown",
   "metadata": {},
   "source": [
    "When a is a 2D array, and full_matrices=False, then it is factorized as u @ np.diag(s) @ vh = (u * s) @ vh, where u and the Hermitian transpose of vh are 2D arrays with orthonormal columns and s is a 1D array of a’s singular values. "
   ]
  },
  {
   "cell_type": "code",
   "execution_count": 67,
   "metadata": {},
   "outputs": [],
   "source": [
    "import numpy as np\n",
    "rng = np.random.default_rng()\n",
    "a = rng.normal(size=(9, 6)) + 1j*rng.normal(size=(9, 6))\n",
    "b = rng.normal(size=(2, 7, 8, 3)) + 1j*rng.normal(size=(2, 7, 8, 3))"
   ]
  },
  {
   "cell_type": "code",
   "execution_count": 69,
   "metadata": {},
   "outputs": [
    {
     "data": {
      "text/plain": [
       "((9, 9), (6,), (6, 6))"
      ]
     },
     "execution_count": 69,
     "metadata": {},
     "output_type": "execute_result"
    }
   ],
   "source": [
    "U, S, Vh = np.linalg.svd(a, full_matrices=True)\n",
    "U.shape, S.shape, Vh.shape"
   ]
  },
  {
   "cell_type": "code",
   "execution_count": 70,
   "metadata": {},
   "outputs": [
    {
     "data": {
      "text/plain": [
       "(array([[-0.02856343-0.28113663j, -0.16482704-0.16951731j,\n",
       "          0.40571265-0.27143117j,  0.15562044-0.02691557j,\n",
       "          0.0509328 +0.11873621j, -0.35885863-0.07700922j,\n",
       "         -0.51614568-0.20868509j,  0.05315293+0.34890927j,\n",
       "          0.08465851-0.08907453j],\n",
       "        [ 0.25102205-0.30094391j,  0.11564509-0.0385054j ,\n",
       "          0.00408794+0.34182338j, -0.18414345-0.01607789j,\n",
       "         -0.03300943+0.08540237j, -0.00638603+0.54164339j,\n",
       "          0.1680757 +0.01149509j,  0.17421381+0.43499778j,\n",
       "         -0.17390448-0.31707664j],\n",
       "        [ 0.07368374+0.19398869j, -0.00306821-0.04219004j,\n",
       "         -0.43260047-0.15580114j,  0.20395769+0.21372929j,\n",
       "          0.44639212-0.08982823j,  0.10847507-0.03484118j,\n",
       "         -0.03232913-0.25980736j, -0.05430668+0.45599239j,\n",
       "         -0.34181987+0.19968387j],\n",
       "        [ 0.14941359-0.05592978j,  0.04681513-0.01157549j,\n",
       "          0.19911661+0.05942054j,  0.36114919-0.00873065j,\n",
       "         -0.23467614-0.05779046j, -0.09919902+0.26981064j,\n",
       "         -0.1508224 +0.25881764j, -0.37834625-0.14614374j,\n",
       "         -0.5390564 +0.3356607j ],\n",
       "        [-0.12204422-0.0494486j , -0.16580977+0.73199764j,\n",
       "          0.1044204 +0.20613539j,  0.23394245+0.39234776j,\n",
       "         -0.06772532+0.17568378j,  0.08053523-0.11913184j,\n",
       "         -0.01810862+0.16882502j, -0.01805029+0.24431599j,\n",
       "          0.10911897-0.02006656j],\n",
       "        [ 0.25032783-0.38031157j,  0.23175218+0.39026921j,\n",
       "         -0.16701216-0.27868239j, -0.40298897+0.0928058j ,\n",
       "         -0.08418763+0.04849566j, -0.26668688-0.05731299j,\n",
       "         -0.00986033-0.23175709j,  0.11552419-0.16762928j,\n",
       "         -0.12384275+0.34010721j],\n",
       "        [-0.30345619-0.26025375j, -0.30151917-0.12906838j,\n",
       "         -0.11233969+0.06506852j,  0.27692424+0.0246712j ,\n",
       "         -0.00428771-0.00461507j, -0.49610944-0.07359936j,\n",
       "          0.59085281-0.07232659j,  0.12199416-0.04985875j,\n",
       "         -0.10265537+0.06807462j],\n",
       "        [ 0.18754534+0.37789624j, -0.03191569-0.20269821j,\n",
       "         -0.1527949 -0.03178999j,  0.12712556+0.19320685j,\n",
       "         -0.41658983+0.59720432j, -0.07284726+0.03834629j,\n",
       "         -0.04735986-0.04752j   ,  0.38102891-0.0141136j ,\n",
       "         -0.01025753+0.1228964j ],\n",
       "        [ 0.36624067+0.03852225j, -0.07512157-0.02170205j,\n",
       "          0.19155465-0.39167653j,  0.24580452+0.39015687j,\n",
       "         -0.02967441-0.36491845j,  0.07247818+0.34292281j,\n",
       "          0.2401184 -0.06518488j,  0.08085797-0.09864675j,\n",
       "          0.34645425-0.02056202j]]),\n",
       " array([6.46934907, 5.28243594, 4.55739309, 3.24796136, 2.61740582,\n",
       "        1.87489904]),\n",
       " array([[-0.44504682+0.j        , -0.51823835+0.00972241j,\n",
       "          0.10442866-0.08621306j, -0.48719536-0.30106102j,\n",
       "         -0.28600576-0.30834414j, -0.02887085+0.0960406j ],\n",
       "        [-0.5958338 +0.j        , -0.18957996+0.06271186j,\n",
       "          0.02705537+0.07881568j,  0.20414676+0.07420754j,\n",
       "          0.3318861 +0.51376473j, -0.41943445+0.0308925j ],\n",
       "        [-0.2229365 +0.j        ,  0.15674747+0.23784251j,\n",
       "          0.04829858+0.59290696j, -0.03552593-0.35608801j,\n",
       "          0.01262509+0.20462602j,  0.56420967-0.16390411j],\n",
       "        [-0.3750409 +0.j        ,  0.33949483-0.41181608j,\n",
       "          0.01195294-0.48884333j, -0.09515793+0.05948878j,\n",
       "          0.02337999+0.20031141j,  0.47258919+0.24244309j],\n",
       "        [-0.12393276+0.j        ,  0.0669164 +0.44358282j,\n",
       "         -0.0188541 -0.55362235j,  0.40399186-0.3672881j ,\n",
       "         -0.12165049-0.06510151j,  0.03322857-0.39786029j],\n",
       "        [-0.49112088+0.j        ,  0.35232906+0.00968577j,\n",
       "         -0.15375006+0.22637072j,  0.1806633 +0.39168403j,\n",
       "         -0.13636067-0.5733134j , -0.09036311-0.13484929j]]))"
      ]
     },
     "execution_count": 70,
     "metadata": {},
     "output_type": "execute_result"
    }
   ],
   "source": [
    "U, S, Vh"
   ]
  },
  {
   "cell_type": "markdown",
   "metadata": {},
   "source": [
    "### Matrix Eigenvalues\n",
    "\n",
    "| Function | Description |\n",
    "|----------|-------------|\n",
    "| `linalg.eig(a)` | Compute the eigenvalues and right eigenvectors of a square array. |\n",
    "| `linalg.eigh(a[, UPLO])` | Return the eigenvalues and eigenvectors of a complex Hermitian (conjugate symmetric) or a real symmetric matrix. |\n",
    "| `linalg.eigvals(a)` | Compute the eigenvalues of a general matrix. |\n",
    "| `linalg.eigvalsh(a[, UPLO])` | Compute the eigenvalues of a complex Hermitian or real symmetric matrix. |"
   ]
  },
  {
   "cell_type": "markdown",
   "metadata": {},
   "source": [
    "#### Code Implementations"
   ]
  },
  {
   "cell_type": "markdown",
   "metadata": {},
   "source": [
    "Eigen Decomposition (linalg.eig)"
   ]
  },
  {
   "cell_type": "markdown",
   "metadata": {},
   "source": [
    "In linear algebra, eigendecomposition is the factorization of a matrix into a canonical form, whereby the matrix is represented in terms of its eigenvalues and eigenvectors. Only diagonalizable matrices can be factorized in this way. "
   ]
  },
  {
   "cell_type": "markdown",
   "metadata": {},
   "source": [
    "A (nonzero) vector v of dimension N is an eigenvector of a square N × N matrix A if it satisfies a linear equation of the form"
   ]
  },
  {
   "cell_type": "markdown",
   "metadata": {},
   "source": [
    "$$\\displaystyle \\mathbf {A} \\mathbf {v} =\\lambda \\mathbf {v}$$ "
   ]
  },
  {
   "cell_type": "code",
   "execution_count": 72,
   "metadata": {},
   "outputs": [
    {
     "data": {
      "text/plain": [
       "(array([1., 2., 3.]),\n",
       " array([[1., 0., 0.],\n",
       "        [0., 1., 0.],\n",
       "        [0., 0., 1.]]))"
      ]
     },
     "execution_count": 72,
     "metadata": {},
     "output_type": "execute_result"
    }
   ],
   "source": [
    "import numpy as np\n",
    "from numpy import linalg as LA\n",
    "\n",
    "eigenvalues, eigenvectors = LA.eig(np.diag((1, 2, 3)))\n",
    "eigenvalues, eigenvectors"
   ]
  },
  {
   "cell_type": "code",
   "execution_count": 74,
   "metadata": {},
   "outputs": [
    {
     "data": {
      "text/plain": [
       "array([1., 2., 3.])"
      ]
     },
     "execution_count": 74,
     "metadata": {},
     "output_type": "execute_result"
    }
   ],
   "source": [
    "LA.eigvals(np.diag((1,2,3)))"
   ]
  },
  {
   "cell_type": "markdown",
   "metadata": {},
   "source": [
    "Similar methods exist for hermitians. "
   ]
  },
  {
   "cell_type": "markdown",
   "metadata": {},
   "source": [
    "\n",
    "### Norms and Other Numbers\n",
    "\n",
    "| Function | Description |\n",
    "|----------|-------------|\n",
    "| `linalg.norm(x[, ord, axis, keepdims])` | Matrix or vector norm. |\n",
    "| `linalg.matrix_norm(x, /, *[, keepdims, ord])` | Computes the matrix norm of a matrix (or a stack of matrices). |\n",
    "| `linalg.vector_norm(x, /, *[, axis, ...])` | Computes the vector norm of a vector (or batch of vectors). |\n",
    "| `linalg.cond(x[, p])` | Compute the condition number of a matrix. |\n",
    "| `linalg.det(a)` | Compute the determinant of an array. |\n",
    "| `linalg.matrix_rank(A[, tol, hermitian, rtol])` | Return the matrix rank using the SVD method. |\n",
    "| `linalg.slogdet(a)` | Compute the sign and logarithm of the determinant of an array. |\n",
    "| `trace(a[, offset, axis1, axis2, dtype, out])` | Return the sum along diagonals of the array. |\n",
    "| `linalg.trace(x[, offset, dtype])` | Returns the sum along specified diagonals of a matrix. |\n"
   ]
  },
  {
   "cell_type": "markdown",
   "metadata": {},
   "source": [
    "trace - np.trace\n",
    "\n",
    "Return the sum along diagonals of the array.\n",
    "\n",
    "If a is 2-D, the sum along its diagonal with the given offset is returned, i.e., the sum of elements a[i,i+offset] for all i.\n",
    "\n",
    "If a has more than two dimensions, then the axes specified by axis1 and axis2 are used to determine the 2-D sub-arrays whose traces are returned. The shape of the resulting array is the same as that of a with axis1 and axis2 removed."
   ]
  },
  {
   "cell_type": "markdown",
   "metadata": {},
   "source": [
    "#### Code Implementations"
   ]
  },
  {
   "cell_type": "markdown",
   "metadata": {},
   "source": [
    "linalg.norm"
   ]
  },
  {
   "cell_type": "markdown",
   "metadata": {},
   "source": [
    "Matrix or vector norm.\n",
    "\n",
    "This function is able to return one of eight different matrix norms, or one of an infinite number of vector norms (described below), depending on the value of the ord parameter.\n",
    "\n",
    "| Norm | Description | NumPy Function |\n",
    "|---|---|---|\n",
    "| **Frobenius norm** | `'fro'` | `np.linalg.norm(x, 'fro')` |\n",
    "| **Nuclear norm** | `'nuc'` | `np.linalg.norm(x, 'nuc')` |\n",
    "| **∞-norm** | `inf` | `np.linalg.norm(x, np.inf)` |\n",
    "| **1-norm** | `1` | `np.linalg.norm(x, 1)` |\n",
    "| **2-norm** (largest singular value) | `2` | `np.linalg.norm(x, 2)` |\n",
    "| **-2-norm** (smallest singular value) | `-2` | `np.linalg.norm(x, -2)` |\n",
    "| **Other** | `ord` | `np.linalg.norm(x, ord)` |"
   ]
  },
  {
   "cell_type": "markdown",
   "metadata": {},
   "source": [
    "The **norm** of a vector is a measure of its length or magnitude. There are different types of norms, but the most common one is the **Euclidean norm**, also known as the **L2 norm**.\n",
    "\n",
    "Euclidean (L2) Norm\n",
    "$$\n",
    "|v|_2 = \\sqrt{v_1^2 + v_2^2 + \\cdots + v_n^2}\n",
    "$$\n",
    "\n",
    "It represents the \"straight-line\" distance of the vector from the origin in n-dimensional space. For a 2D or 3D vector, this is the usual distance formula you may be familiar with.\n",
    "\n",
    "Other Common Norms\n",
    "\n",
    "1. **L1 Norm (Manhattan Norm)**:\n",
    "   The L1 norm is the sum of the absolute values of the vector's components:\n",
    "   \\[\n",
    "   \\|v\\|_1 = |v_1| + |v_2| + \\dots + |v_n|\n",
    "   \\]\n",
    "   This is often used in cases where the absolute distance (or difference) is more relevant, such as in taxicab geometry (hence the name \"Manhattan norm\").\n",
    "\n",
    "2. **Infinity Norm (Max Norm)**:\n",
    "   The infinity norm is the maximum absolute value of the vector's components:\n",
    "   \\[\n",
    "   \\|v\\|_\\infty = \\max(|v_1|, |v_2|, \\dots, |v_n|)\n",
    "   \\]\n",
    "   This norm is used when only the largest component of a vector matters.\n",
    "\n",
    "3. **Lp Norm** (Generalized Norm):\n",
    "   The Lp norm is a generalization of the L1 and L2 norms and is defined as:\n",
    "   \\[\n",
    "   \\|v\\|_p = \\left( |v_1|^p + |v_2|^p + \\dots + |v_n|^p \\right)^{\\frac{1}{p}}\n",
    "   \\]\n",
    "   For \\( p = 2 \\), this reduces to the Euclidean norm, and for \\( p = 1 \\), it becomes the Manhattan norm.\n"
   ]
  },
  {
   "cell_type": "code",
   "execution_count": 76,
   "metadata": {},
   "outputs": [
    {
     "data": {
      "text/plain": [
       "(array([-4, -3, -2, -1,  0,  1,  2,  3,  4]),\n",
       " array([[-4, -3, -2],\n",
       "        [-1,  0,  1],\n",
       "        [ 2,  3,  4]]))"
      ]
     },
     "execution_count": 76,
     "metadata": {},
     "output_type": "execute_result"
    }
   ],
   "source": [
    "a = np.arange(9) - 4\n",
    "b = a.reshape((3, 3))\n",
    "a,b"
   ]
  },
  {
   "cell_type": "code",
   "execution_count": 78,
   "metadata": {},
   "outputs": [
    {
     "name": "stdout",
     "output_type": "stream",
     "text": [
      "7.745966692414834\n",
      "7.745966692414834\n",
      "7.745966692414834\n",
      "4.0\n",
      "9.0\n",
      "0.0\n",
      "2.0\n"
     ]
    }
   ],
   "source": [
    "print(LA.norm(a))\n",
    "print(LA.norm(b))\n",
    "print(LA.norm(b, 'fro'))\n",
    "print(LA.norm(a, np.inf))\n",
    "print(LA.norm(b, np.inf))\n",
    "print(LA.norm(a, -np.inf))\n",
    "print(LA.norm(b, -np.inf))"
   ]
  },
  {
   "cell_type": "markdown",
   "metadata": {},
   "source": [
    "condition number - linalg.cond"
   ]
  },
  {
   "cell_type": "markdown",
   "metadata": {},
   "source": [
    "The condition number of x is defined as the norm of x times the norm of the inverse of x [1]; the norm can be the usual L2-norm (root-of-sum-of-squares) or one of a number of other matrix norms."
   ]
  },
  {
   "cell_type": "code",
   "execution_count": 79,
   "metadata": {},
   "outputs": [
    {
     "data": {
      "text/plain": [
       "array([[ 1,  0, -1],\n",
       "       [ 0,  1,  0],\n",
       "       [ 1,  0,  1]])"
      ]
     },
     "execution_count": 79,
     "metadata": {},
     "output_type": "execute_result"
    }
   ],
   "source": [
    "a = np.array([[1, 0, -1], [0, 1, 0], [1, 0, 1]])\n",
    "a"
   ]
  },
  {
   "cell_type": "code",
   "execution_count": 80,
   "metadata": {},
   "outputs": [
    {
     "name": "stdout",
     "output_type": "stream",
     "text": [
      "1.4142135623730951\n",
      "3.1622776601683795\n"
     ]
    }
   ],
   "source": [
    "print(LA.cond(a))\n",
    "print(LA.cond(a, 'fro'))"
   ]
  },
  {
   "cell_type": "markdown",
   "metadata": {},
   "source": [
    "determinant - linalg.det"
   ]
  },
  {
   "cell_type": "markdown",
   "metadata": {},
   "source": [
    "Compute the determinant of an array."
   ]
  },
  {
   "cell_type": "code",
   "execution_count": 81,
   "metadata": {},
   "outputs": [
    {
     "name": "stdout",
     "output_type": "stream",
     "text": [
      "2.0\n"
     ]
    }
   ],
   "source": [
    "print(LA.det(a))"
   ]
  },
  {
   "cell_type": "code",
   "execution_count": 82,
   "metadata": {},
   "outputs": [
    {
     "name": "stdout",
     "output_type": "stream",
     "text": [
      "(3, 2, 2)\n"
     ]
    },
    {
     "data": {
      "text/plain": [
       "array([-2., -3., -8.])"
      ]
     },
     "execution_count": 82,
     "metadata": {},
     "output_type": "execute_result"
    }
   ],
   "source": [
    "a = np.array([ [[1, 2], [3, 4]], [[1, 2], [2, 1]], [[1, 3], [3, 1]] ])\n",
    "print(a.shape)\n",
    "np.linalg.det(a)"
   ]
  },
  {
   "cell_type": "markdown",
   "metadata": {},
   "source": [
    "Rank of a Matrix - linalg.matrix_rank"
   ]
  },
  {
   "cell_type": "markdown",
   "metadata": {},
   "source": [
    "Return matrix rank of array using SVD method\n",
    "\n",
    "Rank of the array is the number of singular values of the array that are greater than tol."
   ]
  },
  {
   "cell_type": "code",
   "execution_count": 84,
   "metadata": {},
   "outputs": [
    {
     "name": "stdout",
     "output_type": "stream",
     "text": [
      "4\n",
      "3\n",
      "1\n",
      "0\n"
     ]
    }
   ],
   "source": [
    "from numpy.linalg import matrix_rank\n",
    "print(matrix_rank(np.eye(4))) # Full rank matrix\n",
    "I=np.eye(4); I[-1,-1] = 0. # rank deficient matrix\n",
    "print(matrix_rank(I))\n",
    "print(matrix_rank(np.ones((4,)))) # 1 dimension - rank 1 unless all 0\n",
    "print(matrix_rank(np.zeros((4,))))"
   ]
  },
  {
   "cell_type": "markdown",
   "metadata": {},
   "source": [
    "trace - np.trace\n",
    "\n",
    "Return the sum along diagonals of the array.\n",
    "\n",
    "If a is 2-D, the sum along its diagonal with the given offset is returned, i.e., the sum of elements a[i,i+offset] for all i.\n",
    "\n",
    "If a has more than two dimensions, then the axes specified by axis1 and axis2 are used to determine the 2-D sub-arrays whose traces are returned. The shape of the resulting array is the same as that of a with axis1 and axis2 removed."
   ]
  },
  {
   "cell_type": "code",
   "execution_count": 94,
   "metadata": {},
   "outputs": [
    {
     "name": "stdout",
     "output_type": "stream",
     "text": [
      "3.0\n",
      "[[[0 1]\n",
      "  [2 3]]\n",
      "\n",
      " [[4 5]\n",
      "  [6 7]]]\n",
      "[6 8]\n",
      "[2 4]\n",
      "[1 5]\n",
      "[[[[ 0  1  2]\n",
      "   [ 3  4  5]]\n",
      "\n",
      "  [[ 6  7  8]\n",
      "   [ 9 10 11]]]\n",
      "\n",
      "\n",
      " [[[12 13 14]\n",
      "   [15 16 17]]\n",
      "\n",
      "  [[18 19 20]\n",
      "   [21 22 23]]]]\n",
      "(2, 3)\n"
     ]
    },
    {
     "data": {
      "text/plain": [
       "array([[18, 20, 22],\n",
       "       [24, 26, 28]])"
      ]
     },
     "execution_count": 94,
     "metadata": {},
     "output_type": "execute_result"
    }
   ],
   "source": [
    "print(np.trace(np.eye(3)))\n",
    "a = np.arange(8).reshape((2,2,2))\n",
    "print(a)\n",
    "print(np.trace(a))\n",
    "print(np.sum(a[0],axis=0))\n",
    "print(np.sum(a[0],axis=1))\n",
    "a = np.arange(24).reshape((2,2,2,3))\n",
    "print(a)\n",
    "print(np.trace(a).shape)\n",
    "np.trace(a)"
   ]
  },
  {
   "cell_type": "markdown",
   "metadata": {},
   "source": [
    "\n",
    "### Solving Equations and Inverting Matrices\n",
    "\n",
    "| Function | Description |\n",
    "|----------|-------------|\n",
    "| `linalg.solve(a, b)` | Solve a linear matrix equation or system of linear scalar equations. |\n",
    "| `linalg.tensorsolve(a, b[, axes])` | Solve the tensor equation `a x = b` for `x`. |\n",
    "| `linalg.lstsq(a, b[, rcond])` | Return the least-squares solution to a linear matrix equation. |\n",
    "| `linalg.inv(a)` | Compute the inverse of a matrix. |\n",
    "| `linalg.pinv(a[, rcond, hermitian, rtol])` | Compute the (Moore-Penrose) pseudo-inverse of a matrix. |\n",
    "| `linalg.tensorinv(a[, ind])` | Compute the 'inverse' of an N-dimensional array. |\n"
   ]
  },
  {
   "cell_type": "markdown",
   "metadata": {},
   "source": [
    "#### Code Implementations"
   ]
  },
  {
   "cell_type": "code",
   "execution_count": 95,
   "metadata": {},
   "outputs": [
    {
     "name": "stdout",
     "output_type": "stream",
     "text": [
      "Solution to Ax = b using linalg.solve:\n",
      " [2. 3.]\n",
      "\n",
      "Solution to tensor equation a x = b using linalg.tensorsolve:\n",
      " [ 0.66666667 -0.33333333]\n",
      "\n",
      "Least-squares solution to Ax = b using linalg.lstsq:\n",
      " [0.66666667 0.5       ]\n",
      "\n",
      "Inverse of matrix A using linalg.inv:\n",
      " [[-2.   1. ]\n",
      " [ 1.5 -0.5]]\n",
      "\n",
      "Pseudo-inverse of matrix A using linalg.pinv:\n",
      " [[-1.33333333 -0.33333333  0.66666667]\n",
      " [ 1.08333333  0.33333333 -0.41666667]]\n",
      "\n",
      "Inverse of an N-dimensional array using linalg.tensorinv:\n",
      " [[[[1. 0.]\n",
      "   [0. 0.]]\n",
      "\n",
      "  [[0. 1.]\n",
      "   [0. 0.]]]\n",
      "\n",
      "\n",
      " [[[0. 0.]\n",
      "   [1. 0.]]\n",
      "\n",
      "  [[0. 0.]\n",
      "   [0. 1.]]]]\n"
     ]
    }
   ],
   "source": [
    "\n",
    "# 1. Solving a linear system using `linalg.solve(a, b)`\n",
    "# Solve the system: Ax = b\n",
    "A = np.array([[3, 1], [1, 2]])  # Coefficient matrix\n",
    "b = np.array([9, 8])  # Right-hand side\n",
    "x = np.linalg.solve(A, b)\n",
    "print(\"Solution to Ax = b using linalg.solve:\\n\", x)\n",
    "\n",
    "# 2. Solving a tensor equation using `linalg.tensorsolve(a, b)`\n",
    "# Solve the tensor equation a x = b for x\n",
    "a = np.array([[4, 5], [7, 8]])\n",
    "b = np.array([1, 2])\n",
    "tensor_solution = np.linalg.tensorsolve(a, b)\n",
    "print(\"\\nSolution to tensor equation a x = b using linalg.tensorsolve:\\n\", tensor_solution)\n",
    "\n",
    "# 3. Finding least-squares solution using `linalg.lstsq(a, b)`\n",
    "# Return the least-squares solution to a linear matrix equation\n",
    "A_ls = np.array([[1, 1], [1, 2], [1, 3]])\n",
    "b_ls = np.array([1, 2, 2])\n",
    "x_ls, residuals, rank, s = np.linalg.lstsq(A_ls, b_ls, rcond=None)\n",
    "print(\"\\nLeast-squares solution to Ax = b using linalg.lstsq:\\n\", x_ls)\n",
    "\n",
    "# 4. Computing the inverse of a matrix using `linalg.inv(a)`\n",
    "A_inv = np.array([[1, 2], [3, 4]])\n",
    "inverse_A = np.linalg.inv(A_inv)\n",
    "print(\"\\nInverse of matrix A using linalg.inv:\\n\", inverse_A)\n",
    "\n",
    "# 5. Computing the pseudo-inverse of a matrix using `linalg.pinv(a)`\n",
    "A_pinv = np.array([[1, 2], [3, 4], [5, 6]])\n",
    "pseudo_inverse_A = np.linalg.pinv(A_pinv)\n",
    "print(\"\\nPseudo-inverse of matrix A using linalg.pinv:\\n\", pseudo_inverse_A)\n",
    "\n",
    "# 6. Inverse of an N-dimensional array using `linalg.tensorinv(a)`\n",
    "A_tensor = np.eye(4).reshape((2, 2, 2, 2))  # Create a 4D identity matrix\n",
    "tensor_inverse_A = np.linalg.tensorinv(A_tensor)\n",
    "print(\"\\nInverse of an N-dimensional array using linalg.tensorinv:\\n\", tensor_inverse_A)\n"
   ]
  },
  {
   "cell_type": "markdown",
   "metadata": {},
   "source": [
    "\n",
    "### Other Matrix Operations\n",
    "\n",
    "| Function | Description |\n",
    "|----------|-------------|\n",
    "| `diagonal(a[, offset, axis1, axis2])` | Return specified diagonals. |\n",
    "| `linalg.diagonal(x[, offset])` | Returns specified diagonals of a matrix. |\n",
    "| `linalg.matrix_transpose(x)` | Transposes a matrix (or a stack of matrices). |\n"
   ]
  },
  {
   "cell_type": "markdown",
   "metadata": {},
   "source": [
    "#### Code Implementations"
   ]
  },
  {
   "cell_type": "code",
   "execution_count": 99,
   "metadata": {},
   "outputs": [
    {
     "name": "stdout",
     "output_type": "stream",
     "text": [
      "Diagonal of matrix A:\n",
      " [1 5 9]\n",
      "\n",
      "Diagonal of matrix A with offset=1:\n",
      " [2 6]\n",
      "\n",
      "Transpose of matrix A using linalg.matrix_transpose:\n",
      " [[1 4 7]\n",
      " [2 5 8]\n",
      " [3 6 9]]\n",
      "\n",
      "Transpose of stack of matrices B:\n",
      " [[[1 5]\n",
      "  [3 7]]\n",
      "\n",
      " [[2 6]\n",
      "  [4 8]]]\n"
     ]
    }
   ],
   "source": [
    "# 1. Extracting the diagonal of a matrix using `diagonal(a)`\n",
    "A = np.array([[1, 2, 3], [4, 5, 6], [7, 8, 9]])\n",
    "diag = np.diagonal(A)\n",
    "print(\"Diagonal of matrix A:\\n\", diag)\n",
    "\n",
    "# 2. Extracting diagonals with offset using `diagonal(a, offset)`\n",
    "# Offset = 1 means the diagonal above the main diagonal, -1 is below.\n",
    "diag_offset = np.diagonal(A, offset=1)\n",
    "print(\"\\nDiagonal of matrix A with offset=1:\\n\", diag_offset)\n",
    "\n",
    "# 4. Transposing a matrix using `linalg.matrix_transpose(x)`\n",
    "# `matrix_transpose()` works on a matrix or a stack of matrices.\n",
    "transpose_A = A.T\n",
    "print(\"\\nTranspose of matrix A using linalg.matrix_transpose:\\n\", transpose_A)\n",
    "\n",
    "# Transposing a stack of matrices (3D array example)\n",
    "B = np.array([[[1, 2], [3, 4]], [[5, 6], [7, 8]]])  # Stack of two 2x2 matrices\n",
    "transpose_B = np.transpose(B)\n",
    "print(\"\\nTranspose of stack of matrices B:\\n\", transpose_B)\n"
   ]
  },
  {
   "cell_type": "markdown",
   "metadata": {},
   "source": [
    "### Exceptions\n",
    "\n",
    "| Function | Description |\n",
    "|----------|-------------|\n",
    "| `linalg.LinAlgError` | Generic Python-exception-derived object raised by linalg functions. |"
   ]
  },
  {
   "cell_type": "code",
   "execution_count": 63,
   "metadata": {},
   "outputs": [
    {
     "data": {
      "text/plain": [
       "array([[0.29371405, 0.63097612]])"
      ]
     },
     "execution_count": 63,
     "metadata": {},
     "output_type": "execute_result"
    }
   ],
   "source": [
    "a=np.random.random((1,2))\n",
    "a"
   ]
  },
  {
   "cell_type": "code",
   "execution_count": 62,
   "metadata": {},
   "outputs": [
    {
     "ename": "LinAlgError",
     "evalue": "Last 2 dimensions of the array must be square",
     "output_type": "error",
     "traceback": [
      "\u001b[0;31m---------------------------------------------------------------------------\u001b[0m",
      "\u001b[0;31mLinAlgError\u001b[0m                               Traceback (most recent call last)",
      "Cell \u001b[0;32mIn[62], line 1\u001b[0m\n\u001b[0;32m----> 1\u001b[0m c\u001b[39m=\u001b[39mnp\u001b[39m.\u001b[39mlinalg\u001b[39m.\u001b[39meig(a)\n",
      "File \u001b[0;32m~/anaconda3/lib/python3.11/site-packages/numpy/linalg/linalg.py:1328\u001b[0m, in \u001b[0;36meig\u001b[0;34m(a)\u001b[0m\n\u001b[1;32m   1326\u001b[0m a, wrap \u001b[39m=\u001b[39m _makearray(a)\n\u001b[1;32m   1327\u001b[0m _assert_stacked_2d(a)\n\u001b[0;32m-> 1328\u001b[0m _assert_stacked_square(a)\n\u001b[1;32m   1329\u001b[0m _assert_finite(a)\n\u001b[1;32m   1330\u001b[0m t, result_t \u001b[39m=\u001b[39m _commonType(a)\n",
      "File \u001b[0;32m~/anaconda3/lib/python3.11/site-packages/numpy/linalg/linalg.py:213\u001b[0m, in \u001b[0;36m_assert_stacked_square\u001b[0;34m(*arrays)\u001b[0m\n\u001b[1;32m    211\u001b[0m m, n \u001b[39m=\u001b[39m a\u001b[39m.\u001b[39mshape[\u001b[39m-\u001b[39m\u001b[39m2\u001b[39m:]\n\u001b[1;32m    212\u001b[0m \u001b[39mif\u001b[39;00m m \u001b[39m!=\u001b[39m n:\n\u001b[0;32m--> 213\u001b[0m     \u001b[39mraise\u001b[39;00m LinAlgError(\u001b[39m'\u001b[39m\u001b[39mLast 2 dimensions of the array must be square\u001b[39m\u001b[39m'\u001b[39m)\n",
      "\u001b[0;31mLinAlgError\u001b[0m: Last 2 dimensions of the array must be square"
     ]
    }
   ],
   "source": [
    "c=np.linalg.eig(a)"
   ]
  },
  {
   "cell_type": "markdown",
   "metadata": {},
   "source": [
    "### Linear algebra on several matrices at once"
   ]
  },
  {
   "cell_type": "markdown",
   "metadata": {},
   "source": [
    "This means that if for instance given an input array a.shape == (N, M, M), it is interpreted as a “stack” of N matrices, each of size M-by-M. . Similar specification applies to return values, for instance the determinant has det : (...) and will in this case return an array of shape det(a).shape == (N,)"
   ]
  },
  {
   "cell_type": "markdown",
   "metadata": {},
   "source": [
    "## numpy.polynomial"
   ]
  },
  {
   "cell_type": "markdown",
   "metadata": {},
   "source": [
    "A sub-package for efficiently dealing with polynomials.\n",
    "\n",
    "Within the documentation for this sub-package, a “finite power series,” i.e., a polynomial (also referred to simply as a “series”) is represented by a 1-D numpy array of the polynomial’s coefficients, ordered from lowest order term to highest. For example, array([1,2,3]) represents P_0 + 2*P_1 + 3*P_2, where P_n is the n-th order basis polynomial applicable to the specific module in question."
   ]
  },
  {
   "cell_type": "markdown",
   "metadata": {},
   "source": [
    "| Function | Series Representation |\n",
    "|---|---|\n",
    "| Polynomial | Power series |\n",
    "| Chebyshev | Chebyshev series |\n",
    "| Legendre | Legendre series |\n",
    "| Laguerre | Laguerre series |\n",
    "| Hermite | Hermite series |\n",
    "| HermiteE | HermiteE series |\n"
   ]
  },
  {
   "cell_type": "markdown",
   "metadata": {},
   "source": [
    "polynomial.set_default_printstyle(style)"
   ]
  },
  {
   "cell_type": "markdown",
   "metadata": {},
   "source": [
    "Set the default format for the string representation of polynomials.\n",
    "\n",
    "Values for style must be valid inputs to __format__, i.e. ‘ascii’ or ‘unicode’."
   ]
  },
  {
   "cell_type": "markdown",
   "metadata": {},
   "source": [
    "## numpy.random"
   ]
  },
  {
   "cell_type": "markdown",
   "metadata": {},
   "source": [
    "The numpy.random module implements pseudo-random number generators (PRNGs or RNGs, for short) with the ability to draw samples from a variety of probability distributions.\n",
    "\n",
    " In general, users will create a Generator instance with default_rng and call the various methods on it to obtain samples from different distributions."
   ]
  },
  {
   "cell_type": "code",
   "execution_count": 102,
   "metadata": {},
   "outputs": [
    {
     "name": "stdout",
     "output_type": "stream",
     "text": [
      "0.25230112368401914\n",
      "[-1.1014378  -0.49530431  1.60218554  0.61220116  0.30156135 -1.29965706\n",
      "  0.37303369  0.14028498  1.25312827 -1.13902501]\n",
      "[4 8 3 6 0]\n"
     ]
    }
   ],
   "source": [
    "rng = np.random.default_rng()\n",
    "print(rng.random()) \n",
    "print(rng.standard_normal(10))\n",
    "print(rng.integers(low=0, high=10, size=5))"
   ]
  },
  {
   "cell_type": "code",
   "execution_count": 105,
   "metadata": {},
   "outputs": [
    {
     "name": "stdout",
     "output_type": "stream",
     "text": [
      "0.6205109371795916\n",
      "0.6205109371795916\n"
     ]
    }
   ],
   "source": [
    "import numpy as np\n",
    "import secrets\n",
    "import numpy as np\n",
    "seed = secrets.randbits(128)  \n",
    "rng1 = np.random.default_rng(seed)\n",
    "print(rng1.random())\n",
    "rng2 = np.random.default_rng(seed)\n",
    "print(rng2.random())"
   ]
  },
  {
   "cell_type": "markdown",
   "metadata": {},
   "source": [
    "Design of Generator"
   ]
  },
  {
   "cell_type": "markdown",
   "metadata": {},
   "source": [
    "Users primarily interact with Generator instances. Each Generator instance owns a BitGenerator instance that implements the core RNG algorithm. The BitGenerator has a limited set of responsibilities. It manages state and provides functions to produce random doubles and random unsigned 32- and 64-bit values."
   ]
  },
  {
   "cell_type": "markdown",
   "metadata": {},
   "source": [
    "default_rng and BitGenerators delegate the conversion of seeds into RNG states to SeedSequence internally. SeedSequence implements a sophisticated algorithm that intermediates between the user’s input and the internal implementation details of each BitGenerator algorithm, each of which can require different amounts of bits for its state. "
   ]
  },
  {
   "cell_type": "markdown",
   "metadata": {},
   "source": [
    "> PCG-64 is a 128-bit implementation of O’Neill’s permutation congruential generator. PCG-64 has a period of  and supports advancing an arbitrary number of steps as well as streams. "
   ]
  },
  {
   "cell_type": "markdown",
   "metadata": {},
   "source": [
    "> References: \n",
    "> - “PCG, A Family of Better Random Number Generators”\n",
    "> - O’Neill, Melissa E. “PCG: A Family of Simple Fast Space-Efficient Statistically Good Algorithms for Random Number Generation”"
   ]
  },
  {
   "cell_type": "markdown",
   "metadata": {},
   "source": [
    "Parallel Generation\n",
    "\n",
    "The included generators can be used in parallel, distributed applications in a number of ways:\n",
    "\n",
    "- SeedSequence spawning\n",
    "\n",
    "NumPy allows you to spawn new (with very high probability) independent BitGenerator and Generator instances via their spawn() method. This spawning is implemented by the SeedSequence used for initializing the bit generators random stream.\n",
    "\n",
    "SeedSequence mixes sources of entropy in a reproducible way to set the initial state for independent and very probably non-overlapping BitGenerators.\n",
    "\n",
    "SeedSequence implements an algorithm to process a user-provided seed, typically as an integer of some size, and to convert it into an initial state for a BitGenerator. It uses hashing techniques to ensure that low-quality seeds are turned into high quality initial states (at least, with very high probability).\n",
    "\n",
    "- Sequence of integer seeds\n",
    "\n",
    "As discussed in the previous section, SeedSequence can not only take an integer seed, it can also take an arbitrary-length sequence of (non-negative) integers. If one exercises a little care, one can use this feature to design ad hoc schemes for getting safe parallel PRNG streams with similar safety guarantees as spawning.\n",
    "\n",
    "- Independent streams\n",
    "\n",
    "Philox is a counter-based RNG based which generates values by encrypting an incrementing counter using weak cryptographic primitives. The seed determines the key that is used for the encryption. Unique keys create unique, independent streams. Philox lets you bypass the seeding algorithm to directly set the 128-bit key.\n",
    "\n",
    "- Jumping the BitGenerator state\n",
    "\n",
    "Users with a very large amount of parallelism will want to consult Upgrading PCG64 with PCG64DXSM."
   ]
  },
  {
   "cell_type": "code",
   "execution_count": null,
   "metadata": {},
   "outputs": [],
   "source": [
    "import secrets\n",
    "from numpy.random import Philox\n",
    "\n",
    "# 128-bit number as a seed\n",
    "root_seed = secrets.getrandbits(128)\n",
    "streams = [Philox(key=root_seed + stream_id) for stream_id in range(10)]"
   ]
  },
  {
   "cell_type": "markdown",
   "metadata": {},
   "source": [
    "Concepts\n",
    "\n",
    "- Random Generator\n",
    "- Legacy Generator (RandomState)\n",
    "- Bit generators\n",
    "- Seeding and entropy\n",
    "- Upgrading PCG64 with PCG64DXSM\n",
    "- Compatibility policy\n",
    "\n",
    "Features\n",
    "\n",
    "- Parallel Applications\n",
    "    - SeedSequence spawning\n",
    "    - Sequence of integer seeds\n",
    "    - Independent streams\n",
    "    - Jumping the BitGenerator state\n",
    "- Multithreaded Generation\n",
    "- What’s new or different\n",
    "- Comparing Performance\n",
    "    - Recommendation\n",
    "    - Timings\n",
    "    - Performance on different operating systems\n",
    "- C API for random\n",
    "- Examples of using Numba, Cython, CFFI\n",
    "    - Numba\n",
    "    - Cython\n",
    "    - CFFI\n",
    "    - New BitGenerators\n",
    "    - Examples"
   ]
  },
  {
   "cell_type": "markdown",
   "metadata": {},
   "source": [
    "### Random Generator"
   ]
  },
  {
   "cell_type": "markdown",
   "metadata": {},
   "source": [
    "The Generator provides access to a wide range of distributions, and served as a replacement for RandomState. The main difference between the two is that Generator relies on an additional BitGenerator to manage state and generate the random bits, which are then transformed into random values from useful distributions."
   ]
  },
  {
   "cell_type": "code",
   "execution_count": 4,
   "metadata": {},
   "outputs": [
    {
     "name": "stdout",
     "output_type": "stream",
     "text": [
      "Generator(PCG64)\n",
      "0.22733602246716966\n"
     ]
    },
    {
     "data": {
      "text/plain": [
       "float"
      ]
     },
     "execution_count": 4,
     "metadata": {},
     "output_type": "execute_result"
    }
   ],
   "source": [
    "import numpy as np\n",
    "rng = np.random.default_rng(12345)\n",
    "print(rng)\n",
    "rfloat = rng.random()\n",
    "print(rfloat)\n",
    "type(rfloat)"
   ]
  },
  {
   "cell_type": "code",
   "execution_count": 5,
   "metadata": {},
   "outputs": [
    {
     "name": "stdout",
     "output_type": "stream",
     "text": [
      "[6 2 7]\n"
     ]
    },
    {
     "data": {
      "text/plain": [
       "numpy.int64"
      ]
     },
     "execution_count": 5,
     "metadata": {},
     "output_type": "execute_result"
    }
   ],
   "source": [
    "import numpy as np\n",
    "rng = np.random.default_rng(12345)\n",
    "rints = rng.integers(low=0, high=10, size=3)\n",
    "print(rints)\n",
    "type(rints[0])"
   ]
  },
  {
   "cell_type": "code",
   "execution_count": 6,
   "metadata": {},
   "outputs": [
    {
     "name": "stdout",
     "output_type": "stream",
     "text": [
      "Generator(PCG64)\n"
     ]
    },
    {
     "data": {
      "text/plain": [
       "array([[0.77395605, 0.43887844, 0.85859792],\n",
       "       [0.69736803, 0.09417735, 0.97562235],\n",
       "       [0.7611397 , 0.78606431, 0.12811363]])"
      ]
     },
     "execution_count": 6,
     "metadata": {},
     "output_type": "execute_result"
    }
   ],
   "source": [
    "import numpy as np\n",
    "rng = np.random.default_rng(seed=42)\n",
    "print(rng)\n",
    "arr1 = rng.random((3, 3))\n",
    "arr1"
   ]
  },
  {
   "cell_type": "code",
   "execution_count": 7,
   "metadata": {},
   "outputs": [
    {
     "data": {
      "text/plain": [
       "1.4331746600464776"
      ]
     },
     "execution_count": 7,
     "metadata": {},
     "output_type": "execute_result"
    }
   ],
   "source": [
    "from numpy.random import Generator, PCG64\n",
    "rng = Generator(PCG64())\n",
    "rng.standard_normal()"
   ]
  },
  {
   "cell_type": "code",
   "execution_count": 9,
   "metadata": {},
   "outputs": [
    {
     "data": {
      "text/plain": [
       "<numpy.random._pcg64.PCG64 at 0x11eb14250>"
      ]
     },
     "execution_count": 9,
     "metadata": {},
     "output_type": "execute_result"
    }
   ],
   "source": [
    "rng.bit_generator"
   ]
  },
  {
   "cell_type": "code",
   "execution_count": 10,
   "metadata": {},
   "outputs": [
    {
     "data": {
      "text/plain": [
       "[Generator(PCG64) at 0x11EAB8C80,\n",
       " Generator(PCG64) at 0x11EAB90E0,\n",
       " Generator(PCG64) at 0x11EAB8E40,\n",
       " Generator(PCG64) at 0x11EAB9700]"
      ]
     },
     "execution_count": 10,
     "metadata": {},
     "output_type": "execute_result"
    }
   ],
   "source": [
    "child_generators = rng.spawn(4)\n",
    "child_generators"
   ]
  },
  {
   "cell_type": "code",
   "execution_count": 14,
   "metadata": {},
   "outputs": [
    {
     "name": "stdout",
     "output_type": "stream",
     "text": [
      "[[  1   3   4]\n",
      " [ -1  -6 -10]\n",
      " [ -2   1   9]]\n",
      "[[0.74805007 0.09343495]\n",
      " [0.62319753 0.25423268]\n",
      " [0.07660544 0.60568201]]\n"
     ]
    }
   ],
   "source": [
    "print(rng.integers(-10,10,size=(3,3)))\n",
    "print(rng.random((3,2)))# Return random floats in the half-open interval [0.0, 1.0)"
   ]
  },
  {
   "cell_type": "markdown",
   "metadata": {},
   "source": [
    "numpy.random.Generator.choice\n",
    "\n",
    "Generates a random sample from a given array"
   ]
  },
  {
   "cell_type": "code",
   "execution_count": 19,
   "metadata": {},
   "outputs": [
    {
     "data": {
      "text/plain": [
       "array([2, 0, 3])"
      ]
     },
     "execution_count": 19,
     "metadata": {},
     "output_type": "execute_result"
    }
   ],
   "source": [
    "\n",
    "rng.choice(5, 3, p=[0.1, 0, 0.3, 0.6, 0])# With replacement\n",
    "rng.choice(5, 3, replace=False)# Without replacement\n"
   ]
  },
  {
   "cell_type": "code",
   "execution_count": 23,
   "metadata": {},
   "outputs": [
    {
     "name": "stdout",
     "output_type": "stream",
     "text": [
      "[[6 7 8]\n",
      " [0 1 2]]\n",
      "[[0 0]\n",
      " [3 3]\n",
      " [6 6]]\n"
     ]
    }
   ],
   "source": [
    "print(rng.choice([[0, 1, 2], [3, 4, 5], [6, 7, 8]], 2, replace=False))\n",
    "print(rng.choice([[0, 1, 2], [3, 4, 5], [6, 7, 8]], 2, axis=1))"
   ]
  },
  {
   "cell_type": "code",
   "execution_count": 24,
   "metadata": {},
   "outputs": [
    {
     "data": {
      "text/plain": [
       "b'\\xcb\\x10$@\\x0f\\x8e@ \\xd94'"
      ]
     },
     "execution_count": 24,
     "metadata": {},
     "output_type": "execute_result"
    }
   ],
   "source": [
    "rng = np.random.default_rng()\n",
    "rng.bytes(10) # Return random bytes."
   ]
  },
  {
   "cell_type": "markdown",
   "metadata": {},
   "source": [
    "numpy.random.shuffle"
   ]
  },
  {
   "cell_type": "code",
   "execution_count": 29,
   "metadata": {},
   "outputs": [
    {
     "name": "stdout",
     "output_type": "stream",
     "text": [
      "[[0 1 2]\n",
      " [3 4 5]\n",
      " [6 7 8]]\n"
     ]
    },
    {
     "data": {
      "text/plain": [
       "array([[6, 7, 8],\n",
       "       [0, 1, 2],\n",
       "       [3, 4, 5]])"
      ]
     },
     "execution_count": 29,
     "metadata": {},
     "output_type": "execute_result"
    }
   ],
   "source": [
    "arr = np.arange(9).reshape((3, 3))\n",
    "print(arr)\n",
    "rng.shuffle(arr)\n",
    "arr"
   ]
  },
  {
   "cell_type": "code",
   "execution_count": 31,
   "metadata": {},
   "outputs": [
    {
     "data": {
      "text/plain": [
       "array([[8, 7, 6],\n",
       "       [2, 1, 0],\n",
       "       [5, 4, 3]])"
      ]
     },
     "execution_count": 31,
     "metadata": {},
     "output_type": "execute_result"
    }
   ],
   "source": [
    "rng.shuffle(arr,axis=1)\n",
    "arr"
   ]
  },
  {
   "cell_type": "markdown",
   "metadata": {},
   "source": [
    "numpy.random.Generator.permutation\n",
    "\n",
    "Randomly permute a sequence, or return a permuted range."
   ]
  },
  {
   "cell_type": "code",
   "execution_count": 32,
   "metadata": {},
   "outputs": [
    {
     "data": {
      "text/plain": [
       "array([ 1,  4, 15, 12,  9])"
      ]
     },
     "execution_count": 32,
     "metadata": {},
     "output_type": "execute_result"
    }
   ],
   "source": [
    "rng.permutation([1, 4, 9, 12, 15])"
   ]
  },
  {
   "cell_type": "markdown",
   "metadata": {},
   "source": [
    "numpy.random.Generator.permuted\n",
    "\n",
    "Randomly permute `x` along axis `axis`.\n",
    "\n",
    "Unlike shuffle, each slice along the given axis is shuffled independently of the others."
   ]
  },
  {
   "cell_type": "code",
   "execution_count": 44,
   "metadata": {},
   "outputs": [
    {
     "data": {
      "text/plain": [
       "array([[ 0,  1,  2,  3,  4,  5,  6,  7],\n",
       "       [ 8,  9, 10, 11, 12, 13, 14, 15],\n",
       "       [16, 17, 18, 19, 20, 21, 22, 23]])"
      ]
     },
     "execution_count": 44,
     "metadata": {},
     "output_type": "execute_result"
    }
   ],
   "source": [
    "x = np.arange(24).reshape(3, 8)\n",
    "x"
   ]
  },
  {
   "cell_type": "code",
   "execution_count": 43,
   "metadata": {},
   "outputs": [
    {
     "data": {
      "text/plain": [
       "array([[ 0,  1,  7,  5,  6,  4,  2,  3],\n",
       "       [ 8,  9, 15, 13, 14, 12, 10, 11],\n",
       "       [16, 17, 23, 21, 22, 20, 18, 19]])"
      ]
     },
     "execution_count": 43,
     "metadata": {},
     "output_type": "execute_result"
    }
   ],
   "source": [
    "rng.shuffle(x, axis=1)\n",
    "x"
   ]
  },
  {
   "cell_type": "code",
   "execution_count": 45,
   "metadata": {},
   "outputs": [
    {
     "data": {
      "text/plain": [
       "array([[ 6,  7,  4,  3,  0,  1,  2,  5],\n",
       "       [12, 13,  8, 14, 11, 15, 10,  9],\n",
       "       [22, 17, 23, 19, 21, 16, 18, 20]])"
      ]
     },
     "execution_count": 45,
     "metadata": {},
     "output_type": "execute_result"
    }
   ],
   "source": [
    "y = rng.permuted(x, axis=1, out=x)\n",
    "x"
   ]
  },
  {
   "cell_type": "markdown",
   "metadata": {},
   "source": [
    "The main difference between Generator.shuffle and Generator.permutation is that Generator.shuffle operates in-place, while Generator.permutation returns a copy.\n",
    "\n",
    "By default, Generator.permuted returns a copy. To operate in-place with Generator.permuted, pass the same array as the first argument and as the value of the out parameter. "
   ]
  },
  {
   "cell_type": "markdown",
   "metadata": {},
   "source": [
    "Distributions"
   ]
  },
  {
   "cell_type": "markdown",
   "metadata": {},
   "source": [
    "https://numpy.org/doc/stable/reference/random/generator.html#distributions"
   ]
  },
  {
   "cell_type": "markdown",
   "metadata": {},
   "source": [
    "We can cover more on this later on, but this basically states that random provides generation of several types of distributions."
   ]
  },
  {
   "cell_type": "markdown",
   "metadata": {},
   "source": [
    "### Legacy Random Generation"
   ]
  },
  {
   "cell_type": "markdown",
   "metadata": {},
   "source": [
    "The RandomState provides access to legacy generators. This generator is considered frozen and will have no further improvements. It is guaranteed to produce the same values as the final point release of NumPy v1.16. These all depend on Box-Muller normals or inverse CDF exponentials or gammas. This class should only be used if it is essential to have randoms that are identical to what would have been produced by previous versions of NumPy."
   ]
  },
  {
   "cell_type": "code",
   "execution_count": 47,
   "metadata": {},
   "outputs": [
    {
     "name": "stdout",
     "output_type": "stream",
     "text": [
      "-0.20470765948471295\n",
      "-0.20470765948471295\n",
      "\n",
      "0.18391881167709445\n",
      "0.18391881167709445\n",
      "\n",
      "0.22886020849774785\n",
      "0.22886020849774785\n"
     ]
    }
   ],
   "source": [
    "from numpy.random import MT19937\n",
    "from numpy.random import RandomState\n",
    "\n",
    "rs = RandomState(12345)\n",
    "mt19937 = MT19937()\n",
    "mt19937.state = rs.get_state()\n",
    "rs2 = RandomState(mt19937)\n",
    "\n",
    "# Same output\n",
    "print(rs.standard_normal())\n",
    "print(rs2.standard_normal())\n",
    "print()\n",
    "print(rs.random())\n",
    "print(rs2.random())\n",
    "print()\n",
    "print(rs.standard_exponential())\n",
    "print(rs2.standard_exponential())"
   ]
  },
  {
   "cell_type": "markdown",
   "metadata": {},
   "source": [
    "### Multithreaded Generation"
   ]
  },
  {
   "cell_type": "markdown",
   "metadata": {},
   "source": [
    "The four core distributions (random, standard_normal, standard_exponential, and standard_gamma) all allow existing arrays to be filled using the out keyword argument. Existing arrays need to be contiguous and well-behaved (writable and aligned)."
   ]
  },
  {
   "cell_type": "code",
   "execution_count": 48,
   "metadata": {},
   "outputs": [],
   "source": [
    "from numpy.random import default_rng, SeedSequence\n",
    "import multiprocessing\n",
    "import concurrent.futures\n",
    "import numpy as np\n",
    "\n",
    "class MultithreadedRNG:\n",
    "    def __init__(self, n, seed=None, threads=None):\n",
    "        if threads is None:\n",
    "            threads = multiprocessing.cpu_count()\n",
    "        self.threads = threads\n",
    "\n",
    "        seq = SeedSequence(seed)\n",
    "        self._random_generators = [default_rng(s)\n",
    "                                   for s in seq.spawn(threads)]\n",
    "\n",
    "        self.n = n\n",
    "        self.executor = concurrent.futures.ThreadPoolExecutor(threads)\n",
    "        self.values = np.empty(n)\n",
    "        self.step = np.ceil(n / threads).astype(np.int_)\n",
    "\n",
    "    def fill(self):\n",
    "        def _fill(random_state, out, first, last):\n",
    "            random_state.standard_normal(out=out[first:last])\n",
    "\n",
    "        futures = {}\n",
    "        for i in range(self.threads):\n",
    "            args = (_fill,\n",
    "                    self._random_generators[i],\n",
    "                    self.values,\n",
    "                    i * self.step,\n",
    "                    (i + 1) * self.step)\n",
    "            futures[self.executor.submit(*args)] = i\n",
    "        concurrent.futures.wait(futures)\n",
    "\n",
    "    def __del__(self):\n",
    "        self.executor.shutdown(False)"
   ]
  },
  {
   "cell_type": "code",
   "execution_count": 49,
   "metadata": {},
   "outputs": [
    {
     "name": "stdout",
     "output_type": "stream",
     "text": [
      "0.0\n",
      "-0.10623651713382791\n"
     ]
    }
   ],
   "source": [
    "mrng = MultithreadedRNG(10000000, seed=12345)\n",
    "print(mrng.values[-1])\n",
    "\n",
    "mrng.fill()\n",
    "print(mrng.values[-1])"
   ]
  },
  {
   "cell_type": "code",
   "execution_count": 51,
   "metadata": {},
   "outputs": [
    {
     "name": "stdout",
     "output_type": "stream",
     "text": [
      "10\n",
      "8.93 ms ± 1.07 ms per loop (mean ± std. dev. of 7 runs, 100 loops each)\n"
     ]
    }
   ],
   "source": [
    "print(mrng.threads)\n",
    "%timeit mrng.fill()"
   ]
  },
  {
   "cell_type": "markdown",
   "metadata": {},
   "source": [
    "## numpy.strings"
   ]
  },
  {
   "cell_type": "markdown",
   "metadata": {},
   "source": [
    "The numpy.strings module provides a set of universal functions operating on arrays of type numpy.str_ or numpy.bytes_. "
   ]
  },
  {
   "cell_type": "code",
   "execution_count": 9,
   "metadata": {},
   "outputs": [
    {
     "name": "stdout",
     "output_type": "stream",
     "text": [
      "Add: ['hello suffix' 'WORLD suffix' 'NumPy suffix' 'sTRINGs suffix'\n",
      " '12345 suffix']\n",
      "Center: ['--hello---' '--WORLD---' '--NumPy---' '-sTRINGs--' '--12345---']\n",
      "Capitalize: ['Hello' 'World' 'Numpy' 'Strings' '12345']\n",
      "Lowercase: ['hello' 'world' 'numpy' 'strings' '12345']\n",
      "Uppercase: ['HELLO' 'WORLD' 'NUMPY' 'STRINGS' '12345']\n",
      "Strip: ['hello' 'world']\n",
      "Replace: ['heLLo' 'WORLD' 'NumPy' 'sTRINGs' '12345']\n",
      "Multiply: ['hellohellohello' 'WORLDWORLDWORLD' 'NumPyNumPyNumPy'\n",
      " 'sTRINGssTRINGssTRINGs' '123451234512345']\n",
      "Equal: [ True False False False False]\n",
      "Not Equal: [False  True  True  True  True]\n",
      "Greater Than: [False False False  True False]\n",
      "Less Than: [False  True  True False  True]\n",
      "Count 'l': [2 0 0 0 0]\n",
      "Endswith 'y': [False False  True False False]\n",
      "Find 'o': [ 4 -1 -1 -1 -1]\n",
      "IsAlpha: [ True  True  True  True False]\n",
      "IsDigit: [False False False False  True]\n",
      "IsLower: [ True False False False False]\n",
      "IsUpper: [False  True False False False]\n",
      "StartsWith 'h': [ True False False False False]\n",
      "String Lengths: [5 5 5 7 5]\n",
      "Split: ['hello', 'world', 'numpy']\n",
      "Join: ['h-e-l-l-o' 'W-O-R-L-D' 'N-u-m-P-y' 's-T-R-I-N-G-s' '1-2-3-4-5']\n",
      "Encoded: [b'hello' b'WORLD' b'NumPy' b'sTRINGs' b'12345']\n",
      "Decoded: ['hello' 'WORLD' 'NumPy' 'sTRINGs' '12345']\n",
      "ZFill: ['00001' '00012' '00123']\n",
      "Title: ['Hello' 'World' 'Numpy' 'Strings' '12345']\n",
      "Swapcase: ['HELLO' 'world' 'nUMpY' 'StringS' '12345']\n"
     ]
    }
   ],
   "source": [
    "import numpy as np\n",
    "\n",
    "# Create a sample array of strings\n",
    "arr = np.array(['hello', 'WORLD', 'NumPy', 'sTRINGs', '12345'])\n",
    "\n",
    "# String Operations\n",
    "print(\"Add:\", np.char.add(arr, ' suffix'))\n",
    "print(\"Center:\", np.char.center(arr, 10, fillchar='-'))\n",
    "print(\"Capitalize:\", np.char.capitalize(arr))\n",
    "print(\"Lowercase:\", np.char.lower(arr))\n",
    "print(\"Uppercase:\", np.char.upper(arr))\n",
    "print(\"Strip:\", np.char.strip(np.array([' hello ', ' world '])))\n",
    "print(\"Replace:\", np.char.replace(arr, 'l', 'L'))\n",
    "print(\"Multiply:\", np.char.multiply(arr, 3))\n",
    "\n",
    "# Comparison Functions\n",
    "print(\"Equal:\", np.char.equal(arr, 'hello'))\n",
    "print(\"Not Equal:\", np.char.not_equal(arr, 'hello'))\n",
    "print(\"Greater Than:\", np.char.greater(arr, 'hello'))\n",
    "print(\"Less Than:\", np.char.less(arr, 'hello'))\n",
    "\n",
    "# String Information Functions\n",
    "print(\"Count 'l':\", np.char.count(arr, 'l'))\n",
    "print(\"Endswith 'y':\", np.char.endswith(arr, 'y'))\n",
    "print(\"Find 'o':\", np.char.find(arr, 'o'))\n",
    "print(\"IsAlpha:\", np.char.isalpha(arr))\n",
    "print(\"IsDigit:\", np.char.isdigit(arr))\n",
    "print(\"IsLower:\", np.char.islower(arr))\n",
    "print(\"IsUpper:\", np.char.isupper(arr))\n",
    "print(\"StartsWith 'h':\", np.char.startswith(arr, 'h'))\n",
    "print(\"String Lengths:\", np.char.str_len(arr))\n",
    "\n",
    "# Splitting and Joining\n",
    "print(\"Split:\", np.char.split(np.array('hello world numpy'), ' '))\n",
    "print(\"Join:\", np.char.join('-', arr))\n",
    "\n",
    "# Encoding and Decoding\n",
    "encoded = np.char.encode(arr, 'utf-8')\n",
    "print(\"Encoded:\", encoded)\n",
    "print(\"Decoded:\", np.char.decode(encoded, 'utf-8'))\n",
    "\n",
    "# Formatting\n",
    "print(\"ZFill:\", np.char.zfill(np.array(['1', '12', '123']), 5))\n",
    "# print(\"Format:\", np.char.mod('%s is %d', np.array(['NumPy', 2023])))\n",
    "\n",
    "# Title and Swapcase\n",
    "print(\"Title:\", np.char.title(arr))\n",
    "print(\"Swapcase:\", np.char.swapcase(arr))"
   ]
  },
  {
   "cell_type": "markdown",
   "metadata": {},
   "source": [
    "## numpy.testing"
   ]
  },
  {
   "cell_type": "markdown",
   "metadata": {},
   "source": [
    "Common test support for all numpy test scripts.\n",
    "\n",
    "This single module should provide all the common functionality for numpy tests in a single location, so that test scripts can just import it and work right away. "
   ]
  },
  {
   "cell_type": "markdown",
   "metadata": {},
   "source": [
    "The NumPy testing module provides a comprehensive set of tools for testing NumPy code and ensuring its correctness. Here's an overview of the main functions and features:\n",
    "\n",
    "### Asserts\n",
    "\n",
    "The testing module offers several assert functions for comparing arrays and values:\n",
    "\n",
    "- `assert_allclose`: Checks if two objects are equal within a desired tolerance[1].\n",
    "- `assert_array_almost_equal_nulp`: Compares two arrays relative to their spacing[1].\n",
    "- `assert_array_max_ulp`: Verifies that array items differ by at most N Units in the Last Place[1].\n",
    "- `assert_array_equal`: Checks if two array-like objects are exactly equal[1].\n",
    "- `assert_array_less`: Ensures one array is element-wise less than another[1].\n",
    "- `assert_equal`: Checks if two objects are equal[1].\n",
    "\n",
    "### Exception and Warning Asserts\n",
    "\n",
    "- `assert_raises`: Verifies that a specific exception is raised[1].\n",
    "- `assert_raises_regex`: Checks for an exception with a matching error message[1].\n",
    "- `assert_warns`: Ensures a specific warning is issued[1].\n",
    "- `assert_no_warnings`: Verifies that no warnings are produced[1].\n",
    "- `assert_no_gc_cycles`: Checks that no reference cycles are created[1].\n",
    "\n",
    "### String Comparison\n",
    "\n",
    "- `assert_string_equal`: Tests if two strings are identical[1].\n",
    "\n",
    "### Decorators\n",
    "\n",
    "- `decorate_methods`: Applies a decorator to all methods in a class matching a regular expression[1].\n",
    "\n",
    "### Test Running\n",
    "\n",
    "- `clear_and_catch_warnings`: Context manager for resetting warning registry[1].\n",
    "- `measure`: Times the execution of a code snippet[1].\n",
    "- `rundocs`: Runs doctests found in a given file[1].\n",
    "- `suppress_warnings`: Context manager for suppressing specific warnings[1].\n",
    "\n",
    "### Testing Custom Array Containers\n",
    "\n",
    "For testing custom array implementations that use `__array_ufunc__` or `__array_function__`:\n",
    "\n",
    "- `allows_array_ufunc`: Determines if a NumPy function can be overridden via `__array_ufunc__`[1].\n",
    "- `allows_array_function`: Checks if a function can be overridden via `__array_function__`[1].\n",
    "- `get_overridable_numpy_ufuncs`: Lists all NumPy ufuncs overridable via `__array_ufunc__`[1].\n",
    "- `get_overridable_numpy_functions`: Lists all NumPy functions overridable via `__array_function__`[1].\n",
    "\n",
    "These tools provide a robust framework for writing and running tests on NumPy code, ensuring that array operations, custom implementations, and various edge cases are correctly handled.\n",
    "\n",
    "Citations:\n",
    "[1] https://numpy.org/doc/stable/reference/routines.testing.html"
   ]
  },
  {
   "cell_type": "code",
   "execution_count": 10,
   "metadata": {},
   "outputs": [
    {
     "name": "stdout",
     "output_type": "stream",
     "text": [
      "All tests passed!\n"
     ]
    }
   ],
   "source": [
    "import numpy as np\n",
    "from numpy.testing import (\n",
    "    assert_allclose, assert_array_equal, assert_array_less,\n",
    "    assert_equal, assert_raises, assert_warns, assert_no_warnings,\n",
    "    assert_string_equal, suppress_warnings\n",
    ")\n",
    "\n",
    "# Sample data for testing\n",
    "a = np.array([1, 2, 3])\n",
    "b = np.array([1, 2, 3])\n",
    "c = np.array([1.000001, 2.000002, 3.000003])\n",
    "d = np.array([0, 1, 2])\n",
    "\n",
    "# Basic assert functions\n",
    "assert_array_equal(a, b)\n",
    "assert_allclose(a, c, rtol=1e-5)\n",
    "assert_array_less(d, a)\n",
    "\n",
    "# Equality checks\n",
    "assert_equal(a[0], b[0])\n",
    "assert_string_equal(\"numpy\", \"numpy\")\n",
    "\n",
    "# Exception testing\n",
    "def raise_value_error():\n",
    "    raise ValueError(\"Test error\")\n",
    "\n",
    "assert_raises(ValueError, raise_value_error)\n",
    "\n",
    "# Warning testing\n",
    "def warn_user():\n",
    "    import warnings\n",
    "    warnings.warn(\"This is a test warning\", UserWarning)\n",
    "\n",
    "assert_warns(UserWarning, warn_user)\n",
    "\n",
    "# No warnings\n",
    "with assert_no_warnings():\n",
    "    x = np.sum([1, 2, 3])\n",
    "\n",
    "# Suppress specific warnings\n",
    "with suppress_warnings() as sup:\n",
    "    sup.filter(UserWarning)\n",
    "    warn_user()  # This warning will be suppressed\n",
    "\n",
    "# Custom tests\n",
    "def test_array_creation():\n",
    "    x = np.array([1, 2, 3])\n",
    "    assert_array_equal(x, np.array([1, 2, 3]))\n",
    "\n",
    "def test_array_operations():\n",
    "    x = np.array([1, 2, 3])\n",
    "    y = np.array([4, 5, 6])\n",
    "    assert_array_equal(x + y, np.array([5, 7, 9]))\n",
    "\n",
    "# Run tests\n",
    "if __name__ == \"__main__\":\n",
    "    test_array_creation()\n",
    "    test_array_operations()\n",
    "    print(\"All tests passed!\")"
   ]
  },
  {
   "cell_type": "markdown",
   "metadata": {},
   "source": [
    "## numpy.typing"
   ]
  },
  {
   "cell_type": "markdown",
   "metadata": {},
   "source": []
  }
 ],
 "metadata": {
  "kernelspec": {
   "display_name": "base",
   "language": "python",
   "name": "python3"
  },
  "language_info": {
   "codemirror_mode": {
    "name": "ipython",
    "version": 3
   },
   "file_extension": ".py",
   "mimetype": "text/x-python",
   "name": "python",
   "nbconvert_exporter": "python",
   "pygments_lexer": "ipython3",
   "version": "3.11.5"
  },
  "orig_nbformat": 4
 },
 "nbformat": 4,
 "nbformat_minor": 2
}
