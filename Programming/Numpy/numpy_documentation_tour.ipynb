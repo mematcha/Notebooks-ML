{
 "cells": [
  {
   "cell_type": "markdown",
   "metadata": {},
   "source": [
    "# Documentation Tour - NumPy"
   ]
  },
  {
   "cell_type": "markdown",
   "metadata": {},
   "source": [
    "NumPy is the fundamental package for scientific computing in Python. It is a Python library that provides a multidimensional array object, various derived objects (such as masked arrays and matrices), and an assortment of routines for fast operations on arrays, including mathematical, logical, shape manipulation, sorting, selecting, I/O, discrete Fourier transforms, basic linear algebra, basic statistical operations, random simulation and much more."
   ]
  },
  {
   "cell_type": "markdown",
   "metadata": {},
   "source": [
    "- [Beginner's Guide](https://numpy.org/doc/stable/user/absolute_beginners.html)\n",
    "- [User Guide](https://numpy.org/doc/stable/user/index.html#user)\n",
    "- [API Reference](https://numpy.org/doc/stable/reference/index.html#reference)\n",
    "- [Contributor's Guide](https://numpy.org/doc/stable/dev/index.html#devindex)"
   ]
  },
  {
   "cell_type": "code",
   "execution_count": null,
   "metadata": {},
   "outputs": [],
   "source": [
    "%pip install numpy"
   ]
  },
  {
   "cell_type": "markdown",
   "metadata": {},
   "source": [
    "If you get errors NOT related to installing of Numpy, you probably need not worry about that issue. Our main goal for now is to use NumPy properly and to its fullest extent. "
   ]
  },
  {
   "cell_type": "code",
   "execution_count": 1,
   "metadata": {},
   "outputs": [
    {
     "name": "stdout",
     "output_type": "stream",
     "text": [
      "Numpy Version is:  1.26.4\n"
     ]
    }
   ],
   "source": [
    "import numpy as np\n",
    "print(\"Numpy Version is: \",np.__version__)"
   ]
  },
  {
   "cell_type": "markdown",
   "metadata": {},
   "source": [
    "# NumPy Reference"
   ]
  },
  {
   "cell_type": "markdown",
   "metadata": {},
   "source": [
    "## NumPy Module Structure"
   ]
  },
  {
   "cell_type": "markdown",
   "metadata": {},
   "source": [
    "Regular Namespaces"
   ]
  },
  {
   "cell_type": "markdown",
   "metadata": {},
   "source": [
    "\n",
    "> A namespace is a collection of well-defined symbolic names along with information about the object that each name references. (Basically like a dictionary). \n",
    "\n",
    "> This is good when you are defining submodules too, they make things for interpreters to identify the specific submodule of a module to be loaded."
   ]
  },
  {
   "cell_type": "markdown",
   "metadata": {},
   "source": [
    "- numpy\n",
    "- numpy.exceptions\n",
    "- numpy.fft\n",
    "- numpy.linalg\n",
    "- numpy.polynomial\n",
    "- numpy.random\n",
    "- numpy.strings\n",
    "- numpy.testing\n",
    "- numpy.typing"
   ]
  },
  {
   "cell_type": "markdown",
   "metadata": {},
   "source": [
    "Special purpose Namespaces"
   ]
  },
  {
   "cell_type": "markdown",
   "metadata": {},
   "source": [
    "- numpy.ctypeslib - interacting with NumPy objects with ctypes \n",
    "- numpy.dtypes - dtype classes - (typically not used directly by end - users)\n",
    "- numpy.emath - mathematical functions - with automatic domain\n",
    "- numpy.lib - utilities & functionality - which do not fit the main namespace\n",
    "- numpy.rec - record arrays (largely superseded by dataframe libraries)\n",
    "- numpy.version - small module with more detailed version info"
   ]
  },
  {
   "cell_type": "markdown",
   "metadata": {},
   "source": [
    "## numpy.exceptions"
   ]
  },
  {
   "cell_type": "markdown",
   "metadata": {},
   "source": [
    "General exceptions used by Numpy. Note that some exceptions may be module specific, such as linear algebra errors."
   ]
  },
  {
   "cell_type": "markdown",
   "metadata": {},
   "source": [
    ">Only available from NumPy version 1.25"
   ]
  },
  {
   "cell_type": "code",
   "execution_count": 2,
   "metadata": {},
   "outputs": [
    {
     "data": {
      "text/plain": [
       "<module 'numpy.exceptions' from '/Users/smatcha/anaconda3/lib/python3.11/site-packages/numpy/exceptions.py'>"
      ]
     },
     "execution_count": 2,
     "metadata": {},
     "output_type": "execute_result"
    }
   ],
   "source": [
    "np.exceptions"
   ]
  },
  {
   "cell_type": "markdown",
   "metadata": {},
   "source": [
    "Warnings\n",
    "\n",
    "- ComplexWarning: The warning raised when casting a complex dtype to a real dtype.\n",
    "- Visible Depreciation Warning: Visible deprecation warning.\n",
    "- RankWarning: Warning related to Matrix Warning Issues\n",
    "\n",
    "Exceptions\n",
    "\n",
    "- AxisError: Axis Supplied was Invalid.\n",
    "- DTypePromotionError: Multiple DTypes could not be converted to a common one. Comes from a form of `TypeError`.\n",
    "- TooHardError: max_work was exceeded."
   ]
  },
  {
   "cell_type": "code",
   "execution_count": 7,
   "metadata": {},
   "outputs": [
    {
     "name": "stdout",
     "output_type": "stream",
     "text": [
      "<class 'numpy.exceptions.ComplexWarning'>\n",
      "<class 'numpy.exceptions.VisibleDeprecationWarning'>\n",
      "<class 'numpy.exceptions.RankWarning'>\n",
      "<class 'numpy.exceptions.AxisError'>\n",
      "<class 'numpy.exceptions.DTypePromotionError'>\n",
      "<class 'numpy.exceptions.TooHardError'>\n"
     ]
    }
   ],
   "source": [
    "print(np.exceptions.ComplexWarning)\n",
    "print(np.exceptions.VisibleDeprecationWarning)\n",
    "print(np.exceptions.RankWarning)\n",
    "print(np.exceptions.AxisError)\n",
    "print(np.exceptions.DTypePromotionError)\n",
    "print(np.exceptions.TooHardError)"
   ]
  },
  {
   "cell_type": "code",
   "execution_count": 17,
   "metadata": {},
   "outputs": [
    {
     "name": "stdout",
     "output_type": "stream",
     "text": [
      "(2, 2)\n",
      "[4 6]\n",
      "[3 7]\n"
     ]
    },
    {
     "ename": "AxisError",
     "evalue": "axis 2 is out of bounds for array of dimension 2",
     "output_type": "error",
     "traceback": [
      "\u001b[0;31m---------------------------------------------------------------------------\u001b[0m",
      "\u001b[0;31mAxisError\u001b[0m                                 Traceback (most recent call last)",
      "Cell \u001b[0;32mIn[17], line 9\u001b[0m\n\u001b[1;32m      7\u001b[0m _sum \u001b[39m=\u001b[39m np\u001b[39m.\u001b[39msum(array,axis\u001b[39m=\u001b[39m\u001b[39m1\u001b[39m)\n\u001b[1;32m      8\u001b[0m \u001b[39mprint\u001b[39m(_sum)\n\u001b[0;32m----> 9\u001b[0m _sum \u001b[39m=\u001b[39m np\u001b[39m.\u001b[39msum(array,axis\u001b[39m=\u001b[39m\u001b[39m2\u001b[39m) \u001b[39m# No Axis --> Should give Axis error\u001b[39;00m\n\u001b[1;32m     10\u001b[0m \u001b[39mprint\u001b[39m(_sum)\n",
      "File \u001b[0;32m~/anaconda3/lib/python3.11/site-packages/numpy/_core/fromnumeric.py:2485\u001b[0m, in \u001b[0;36msum\u001b[0;34m(a, axis, dtype, out, keepdims, initial, where)\u001b[0m\n\u001b[1;32m   2482\u001b[0m         \u001b[39mreturn\u001b[39;00m out\n\u001b[1;32m   2483\u001b[0m     \u001b[39mreturn\u001b[39;00m res\n\u001b[0;32m-> 2485\u001b[0m \u001b[39mreturn\u001b[39;00m _wrapreduction(\n\u001b[1;32m   2486\u001b[0m     a, np\u001b[39m.\u001b[39madd, \u001b[39m'\u001b[39m\u001b[39msum\u001b[39m\u001b[39m'\u001b[39m, axis, dtype, out,\n\u001b[1;32m   2487\u001b[0m     keepdims\u001b[39m=\u001b[39mkeepdims, initial\u001b[39m=\u001b[39minitial, where\u001b[39m=\u001b[39mwhere\n\u001b[1;32m   2488\u001b[0m )\n",
      "File \u001b[0;32m~/anaconda3/lib/python3.11/site-packages/numpy/_core/fromnumeric.py:86\u001b[0m, in \u001b[0;36m_wrapreduction\u001b[0;34m(obj, ufunc, method, axis, dtype, out, **kwargs)\u001b[0m\n\u001b[1;32m     83\u001b[0m         \u001b[39melse\u001b[39;00m:\n\u001b[1;32m     84\u001b[0m             \u001b[39mreturn\u001b[39;00m reduction(axis\u001b[39m=\u001b[39maxis, out\u001b[39m=\u001b[39mout, \u001b[39m*\u001b[39m\u001b[39m*\u001b[39mpasskwargs)\n\u001b[0;32m---> 86\u001b[0m \u001b[39mreturn\u001b[39;00m ufunc\u001b[39m.\u001b[39mreduce(obj, axis, dtype, out, \u001b[39m*\u001b[39m\u001b[39m*\u001b[39mpasskwargs)\n",
      "\u001b[0;31mAxisError\u001b[0m: axis 2 is out of bounds for array of dimension 2"
     ]
    }
   ],
   "source": [
    "array = np.array([(1,2),(3,4)])\n",
    "print(array.shape)\n",
    "\n",
    "#Axis Error Demostration\n",
    "_sum = np.sum(array,axis=0)\n",
    "print(_sum)\n",
    "_sum = np.sum(array,axis=1)\n",
    "print(_sum)\n",
    "_sum = np.sum(array,axis=2) # No Axis --> Should give Axis error\n",
    "print(_sum)"
   ]
  },
  {
   "cell_type": "code",
   "execution_count": 18,
   "metadata": {},
   "outputs": [
    {
     "ename": "DTypePromotionError",
     "evalue": "The DType <class 'numpy.dtypes.DateTime64DType'> could not be promoted by <class 'numpy.dtypes.Complex128DType'>. This means that no common DType exists for the given inputs. For example they cannot be stored in a single array unless the dtype is `object`. The full list of DTypes is: (<class 'numpy.dtypes.DateTime64DType'>, <class 'numpy.dtypes.Complex128DType'>)",
     "output_type": "error",
     "traceback": [
      "\u001b[0;31m---------------------------------------------------------------------------\u001b[0m",
      "\u001b[0;31mDTypePromotionError\u001b[0m                       Traceback (most recent call last)",
      "Cell \u001b[0;32mIn[18], line 1\u001b[0m\n\u001b[0;32m----> 1\u001b[0m np\u001b[39m.\u001b[39mresult_type(np\u001b[39m.\u001b[39mdtype(\u001b[39m\"\u001b[39m\u001b[39mM8[s]\u001b[39m\u001b[39m\"\u001b[39m), np\u001b[39m.\u001b[39mcomplex128)\n",
      "\u001b[0;31mDTypePromotionError\u001b[0m: The DType <class 'numpy.dtypes.DateTime64DType'> could not be promoted by <class 'numpy.dtypes.Complex128DType'>. This means that no common DType exists for the given inputs. For example they cannot be stored in a single array unless the dtype is `object`. The full list of DTypes is: (<class 'numpy.dtypes.DateTime64DType'>, <class 'numpy.dtypes.Complex128DType'>)"
     ]
    }
   ],
   "source": [
    "np.result_type(np.dtype(\"M8[s]\"), np.complex128)"
   ]
  },
  {
   "cell_type": "code",
   "execution_count": 20,
   "metadata": {},
   "outputs": [
    {
     "ename": "DTypePromotionError",
     "evalue": "field names `('field1', 'field2')` and `('field1',)` mismatch.",
     "output_type": "error",
     "traceback": [
      "\u001b[0;31m---------------------------------------------------------------------------\u001b[0m",
      "\u001b[0;31mDTypePromotionError\u001b[0m                       Traceback (most recent call last)",
      "Cell \u001b[0;32mIn[20], line 3\u001b[0m\n\u001b[1;32m      1\u001b[0m dtype1 \u001b[39m=\u001b[39m np\u001b[39m.\u001b[39mdtype([(\u001b[39m\"\u001b[39m\u001b[39mfield1\u001b[39m\u001b[39m\"\u001b[39m, np\u001b[39m.\u001b[39mfloat64), (\u001b[39m\"\u001b[39m\u001b[39mfield2\u001b[39m\u001b[39m\"\u001b[39m, np\u001b[39m.\u001b[39mint64)])\n\u001b[1;32m      2\u001b[0m dtype2 \u001b[39m=\u001b[39m np\u001b[39m.\u001b[39mdtype([(\u001b[39m\"\u001b[39m\u001b[39mfield1\u001b[39m\u001b[39m\"\u001b[39m, np\u001b[39m.\u001b[39mfloat64)])\n\u001b[0;32m----> 3\u001b[0m np\u001b[39m.\u001b[39mpromote_types(dtype1, dtype2)\n",
      "File \u001b[0;32m~/anaconda3/lib/python3.11/site-packages/numpy/_core/_internal.py:471\u001b[0m, in \u001b[0;36m_promote_fields\u001b[0;34m(dt1, dt2)\u001b[0m\n\u001b[1;32m    469\u001b[0m \u001b[39m# Both must be structured and have the same names in the same order\u001b[39;00m\n\u001b[1;32m    470\u001b[0m \u001b[39mif\u001b[39;00m (dt1\u001b[39m.\u001b[39mnames \u001b[39mis\u001b[39;00m \u001b[39mNone\u001b[39;00m \u001b[39mor\u001b[39;00m dt2\u001b[39m.\u001b[39mnames \u001b[39mis\u001b[39;00m \u001b[39mNone\u001b[39;00m) \u001b[39mor\u001b[39;00m dt1\u001b[39m.\u001b[39mnames \u001b[39m!=\u001b[39m dt2\u001b[39m.\u001b[39mnames:\n\u001b[0;32m--> 471\u001b[0m     \u001b[39mraise\u001b[39;00m DTypePromotionError(\n\u001b[1;32m    472\u001b[0m             \u001b[39mf\u001b[39m\u001b[39m\"\u001b[39m\u001b[39mfield names `\u001b[39m\u001b[39m{\u001b[39;00mdt1\u001b[39m.\u001b[39mnames\u001b[39m}\u001b[39;00m\u001b[39m` and `\u001b[39m\u001b[39m{\u001b[39;00mdt2\u001b[39m.\u001b[39mnames\u001b[39m}\u001b[39;00m\u001b[39m` mismatch.\u001b[39m\u001b[39m\"\u001b[39m)\n\u001b[1;32m    474\u001b[0m \u001b[39m# if both are identical, we can (maybe!) just return the same dtype.\u001b[39;00m\n\u001b[1;32m    475\u001b[0m identical \u001b[39m=\u001b[39m dt1 \u001b[39mis\u001b[39;00m dt2\n",
      "\u001b[0;31mDTypePromotionError\u001b[0m: field names `('field1', 'field2')` and `('field1',)` mismatch."
     ]
    }
   ],
   "source": [
    "dtype1 = np.dtype([(\"field1\", np.float64), (\"field2\", np.int64)])\n",
    "dtype2 = np.dtype([(\"field1\", np.float64)])\n",
    "np.promote_types(dtype1, dtype2)  "
   ]
  },
  {
   "cell_type": "code",
   "execution_count": 5,
   "metadata": {},
   "outputs": [
    {
     "ename": "TooHardError",
     "evalue": "This operation is too hard for the current dataset size!",
     "output_type": "error",
     "traceback": [
      "\u001b[0;31m---------------------------------------------------------------------------\u001b[0m",
      "\u001b[0;31mTooHardError\u001b[0m                              Traceback (most recent call last)",
      "Cell \u001b[0;32mIn[5], line 13\u001b[0m\n\u001b[1;32m     11\u001b[0m \u001b[39m# Example usage\u001b[39;00m\n\u001b[1;32m     12\u001b[0m data \u001b[39m=\u001b[39m np\u001b[39m.\u001b[39mrandom\u001b[39m.\u001b[39mrand(\u001b[39m10\u001b[39m\u001b[39m*\u001b[39m\u001b[39m*\u001b[39m\u001b[39m7\u001b[39m)  \u001b[39m# A large dataset\u001b[39;00m\n\u001b[0;32m---> 13\u001b[0m result \u001b[39m=\u001b[39m complex_numpy_function(data)\n\u001b[1;32m     14\u001b[0m \u001b[39mprint\u001b[39m(\u001b[39m\"\u001b[39m\u001b[39mMean of data:\u001b[39m\u001b[39m\"\u001b[39m, result)\n",
      "Cell \u001b[0;32mIn[5], line 6\u001b[0m, in \u001b[0;36mcomplex_numpy_function\u001b[0;34m(data)\u001b[0m\n\u001b[1;32m      3\u001b[0m \u001b[39mdef\u001b[39;00m \u001b[39mcomplex_numpy_function\u001b[39m(data):\n\u001b[1;32m      4\u001b[0m     \u001b[39m# Imagine this operation is too complex or the array is too large\u001b[39;00m\n\u001b[1;32m      5\u001b[0m     \u001b[39mif\u001b[39;00m data\u001b[39m.\u001b[39msize \u001b[39m>\u001b[39m \u001b[39m10\u001b[39m\u001b[39m*\u001b[39m\u001b[39m*\u001b[39m\u001b[39m6\u001b[39m:\n\u001b[0;32m----> 6\u001b[0m         \u001b[39mraise\u001b[39;00m np\u001b[39m.\u001b[39mexceptions\u001b[39m.\u001b[39mTooHardError(\u001b[39m\"\u001b[39m\u001b[39mThis operation is too hard for the current dataset size!\u001b[39m\u001b[39m\"\u001b[39m)\n\u001b[1;32m      8\u001b[0m     \u001b[39m# A simple operation that won't raise an error for small datasets\u001b[39;00m\n\u001b[1;32m      9\u001b[0m     \u001b[39mreturn\u001b[39;00m np\u001b[39m.\u001b[39mmean(data)\n",
      "\u001b[0;31mTooHardError\u001b[0m: This operation is too hard for the current dataset size!"
     ]
    }
   ],
   "source": [
    "import numpy as np\n",
    "\n",
    "def complex_numpy_function(data):\n",
    "    # Imagine this operation is too complex or the array is too large\n",
    "    if data.size > 10**6:\n",
    "        raise np.exceptions.TooHardError(\"This operation is too hard for the current dataset size!\")\n",
    "    \n",
    "    # A simple operation that won't raise an error for small datasets\n",
    "    return np.mean(data)\n",
    "\n",
    "# Example usage\n",
    "data = np.random.rand(10**7)  # A large dataset\n",
    "result = complex_numpy_function(data)\n",
    "print(\"Mean of data:\", result)\n"
   ]
  },
  {
   "cell_type": "markdown",
   "metadata": {},
   "source": [
    "## numpy.fft"
   ]
  },
  {
   "cell_type": "markdown",
   "metadata": {},
   "source": [
    "Numpy Module for [Fourier Transforms](https://en.wikipedia.org/wiki/Fourier_transform)."
   ]
  },
  {
   "cell_type": "markdown",
   "metadata": {},
   "source": [
    "## numpy.linalg"
   ]
  },
  {
   "cell_type": "markdown",
   "metadata": {},
   "source": [
    "The NumPy linear algebra functions rely on [BLAS](https://en.wikipedia.org/wiki/Basic_Linear_Algebra_Subprograms) and [LAPACK](https://en.wikipedia.org/wiki/LAPACK) to provide efficient low level implementations of standard linear algebra algorithms. "
   ]
  },
  {
   "cell_type": "markdown",
   "metadata": {},
   "source": [
    "\n",
    "> Basic Linear Algebra Subprograms (BLAS) is a specification that prescribes a set of low-level routines for performing common linear algebra operations such as vector addition, scalar multiplication, dot products, linear combinations, and matrix multiplication. They are the de facto standard low-level routines for linear algebra libraries; the routines have bindings for both C (\"CBLAS interface\") and Fortran (\"BLAS interface\"). Although the BLAS specification is general, BLAS implementations are often optimized for speed on a particular machine, so using them can bring substantial performance benefits. BLAS implementations will take advantage of special floating point hardware such as vector registers or SIMD instructions."
   ]
  },
  {
   "cell_type": "markdown",
   "metadata": {},
   "source": [
    "> LAPACK (\"Linear Algebra Package\") is a standard software library for numerical linear algebra. It provides routines for solving systems of linear equations and linear least squares, eigenvalue problems, and singular value decomposition. It also includes routines to implement the associated matrix factorizations such as LU, QR, Cholesky and Schur decomposition. LAPACK was originally written in FORTRAN 77, but moved to Fortran 90 in version 3.2 (2008).[3] The routines handle both real and complex matrices in both single and double precision. LAPACK relies on an underlying BLAS implementation to provide efficient and portable computational building blocks for its routines."
   ]
  },
  {
   "cell_type": "markdown",
   "metadata": {},
   "source": [
    "\n",
    "References:\n",
    "\n",
    "- Anderson, E.; Bai, Z.; Bischof, C.; Blackford, S.; Demmel, J.; Dongarra, J.; Du Croz, J.; Greenbaum, A.; Hammarling, S.; McKenney, A.; Sorensen, D. (1999). LAPACK Users' Guide (Third ed.). Philadelphia, PA: Society for Industrial and Applied Mathematics. ISBN 0-89871-447-8. Retrieved 28 May 2022.\n",
    "\n",
    "- \"LAPACK 3.2 Release Notes\". 16 November 2008."
   ]
  },
  {
   "cell_type": "markdown",
   "metadata": {},
   "source": [
    "\n",
    "Those libraries may be provided by NumPy itself using C versions of a subset of their reference implementations but, when possible, highly optimized libraries that take advantage of specialized processor functionality are preferred. Examples of such libraries are [OpenBLAS](https://www.openblas.net), [MKL (TM)](https://en.wikipedia.org/wiki/Math_Kernel_Library), and [ATLAS](https://math-atlas.sourceforge.net). Because those libraries are multithreaded and processor dependent, environmental variables and external packages such as **threadpoolctl** may be needed to control the number of threads or specify the processor architecture."
   ]
  },
  {
   "cell_type": "markdown",
   "metadata": {},
   "source": [
    "The SciPy library also contains a `linalg` submodule, and there is overlap in the functionality provided by the SciPy and NumPy submodules. SciPy contains functions not found in numpy.linalg, such as functions related to [LU decomposition](https://en.wikipedia.org/wiki/LU_decomposition) and the [Schur decomposition](https://en.wikipedia.org/wiki/Schur_decomposition), multiple ways of calculating the pseudoinverse, and matrix transcendentals such as the matrix logarithm."
   ]
  },
  {
   "cell_type": "markdown",
   "metadata": {},
   "source": [
    "> The `@` operator is used for matrix multiplication between two matrices. `np.matmul` "
   ]
  },
  {
   "cell_type": "code",
   "execution_count": 3,
   "metadata": {},
   "outputs": [
    {
     "data": {
      "text/plain": [
       "(matrix([[2, 4, 5],\n",
       "         [5, 4, 2],\n",
       "         [3, 1, 6]]),\n",
       " matrix([[ 1,  1,  1],\n",
       "         [ 5,  3,  7],\n",
       "         [10,  8,  9]]))"
      ]
     },
     "execution_count": 3,
     "metadata": {},
     "output_type": "execute_result"
    }
   ],
   "source": [
    "A = np.matrix([[2,4,5],[5,4,2],[3,1,6]])\n",
    "B = np.matrix([[1,1,1],[5,3,7],[10,8,9]])\n",
    "A,B"
   ]
  },
  {
   "cell_type": "code",
   "execution_count": 4,
   "metadata": {},
   "outputs": [
    {
     "name": "stdout",
     "output_type": "stream",
     "text": [
      "[[72 54 75]\n",
      " [45 33 51]\n",
      " [68 54 64]]\n",
      "[[72 54 75]\n",
      " [45 33 51]\n",
      " [68 54 64]]\n"
     ]
    }
   ],
   "source": [
    "C = np.matmul(A,B)\n",
    "print(C)\n",
    "D = A@B\n",
    "print(D)"
   ]
  },
  {
   "cell_type": "markdown",
   "metadata": {},
   "source": [
    "### Matrix and vector products"
   ]
  },
  {
   "cell_type": "markdown",
   "metadata": {},
   "source": [
    "| Function | Description |\n",
    "|---|---|\n",
    "| `dot(a, b[, out])` | Dot product of two arrays. |\n",
    "| `linalg.multi_dot(arrays, *[, out])` | Compute the dot product of two or more arrays in a single function call, while automatically selecting the fastest evaluation order. |\n",
    "| `vdot(a, b, /)` | Return the dot product of two vectors. |\n",
    "| `vecdot(x1, x2, /[, out, casting, order, ...])` | Vector dot product of two arrays. |\n",
    "| `linalg.vecdot(x1, x2, /, *[, axis])` | Computes the vector dot product. |\n",
    "| `inner(a, b, /)` | Inner product of two arrays. |\n",
    "| `outer(a, b[, out])` | Compute the outer product of two vectors. |\n",
    "| `matmul(x1, x2, /[, out, casting, order, ...])` | Matrix product of two arrays. |\n",
    "| `linalg.matmul(x1, x2, /)` | Computes the matrix product. |\n",
    "| `tensordot(a, b[, axes])` | Compute tensor dot product along specified axes. |\n",
    "| `linalg.tensordot(x1, x2, /, *[, axes])` | Compute tensor dot product along specified axes. |\n",
    "| `einsum(subscripts, *operands[, out, dtype, ...])` | Evaluates the Einstein summation convention on the operands. |\n",
    "| `einsum_path(subscripts, *operands[, optimize])` | Evaluates the lowest cost contraction order for an einsum expression by considering the creation of intermediate arrays. |\n",
    "| `linalg.matrix_power(a, n)` | Raise a square matrix to the (integer) power n. |\n",
    "| `kron(a, b)` | Kronecker product of two arrays. |\n",
    "| `linalg.cross(x1, x2, /, *[, axis])` | Returns the cross product of 3-element vectors. |\n"
   ]
  },
  {
   "cell_type": "markdown",
   "metadata": {},
   "source": [
    "### Decompositions"
   ]
  },
  {
   "cell_type": "markdown",
   "metadata": {},
   "source": [
    "| Function | Description |\n",
    "|----------|-------------|\n",
    "| `linalg.cholesky(a, /, *[, upper])` | Cholesky decomposition. |\n",
    "| `linalg.outer(x1, x2, /)` | Compute the outer product of two vectors. |\n",
    "| `linalg.qr(a[, mode])` | Compute the QR factorization of a matrix. |\n",
    "| `linalg.svd(a[, full_matrices, compute_uv, ...])` | Singular Value Decomposition (SVD). |\n",
    "| `linalg.svdvals(x, /)` | Returns the singular values of a matrix (or a stack of matrices) `x`. |"
   ]
  },
  {
   "cell_type": "markdown",
   "metadata": {},
   "source": [
    "### Matrix Eigenvalues\n",
    "\n",
    "| Function | Description |\n",
    "|----------|-------------|\n",
    "| `linalg.eig(a)` | Compute the eigenvalues and right eigenvectors of a square array. |\n",
    "| `linalg.eigh(a[, UPLO])` | Return the eigenvalues and eigenvectors of a complex Hermitian (conjugate symmetric) or a real symmetric matrix. |\n",
    "| `linalg.eigvals(a)` | Compute the eigenvalues of a general matrix. |\n",
    "| `linalg.eigvalsh(a[, UPLO])` | Compute the eigenvalues of a complex Hermitian or real symmetric matrix. |"
   ]
  },
  {
   "cell_type": "markdown",
   "metadata": {},
   "source": [
    "\n",
    "### Norms and Other Numbers\n",
    "\n",
    "| Function | Description |\n",
    "|----------|-------------|\n",
    "| `linalg.norm(x[, ord, axis, keepdims])` | Matrix or vector norm. |\n",
    "| `linalg.matrix_norm(x, /, *[, keepdims, ord])` | Computes the matrix norm of a matrix (or a stack of matrices). |\n",
    "| `linalg.vector_norm(x, /, *[, axis, ...])` | Computes the vector norm of a vector (or batch of vectors). |\n",
    "| `linalg.cond(x[, p])` | Compute the condition number of a matrix. |\n",
    "| `linalg.det(a)` | Compute the determinant of an array. |\n",
    "| `linalg.matrix_rank(A[, tol, hermitian, rtol])` | Return the matrix rank using the SVD method. |\n",
    "| `linalg.slogdet(a)` | Compute the sign and logarithm of the determinant of an array. |\n",
    "| `trace(a[, offset, axis1, axis2, dtype, out])` | Return the sum along diagonals of the array. |\n",
    "| `linalg.trace(x[, offset, dtype])` | Returns the sum along specified diagonals of a matrix. |\n"
   ]
  },
  {
   "cell_type": "markdown",
   "metadata": {},
   "source": [
    "\n",
    "### Solving Equations and Inverting Matrices\n",
    "\n",
    "| Function | Description |\n",
    "|----------|-------------|\n",
    "| `linalg.solve(a, b)` | Solve a linear matrix equation or system of linear scalar equations. |\n",
    "| `linalg.tensorsolve(a, b[, axes])` | Solve the tensor equation `a x = b` for `x`. |\n",
    "| `linalg.lstsq(a, b[, rcond])` | Return the least-squares solution to a linear matrix equation. |\n",
    "| `linalg.inv(a)` | Compute the inverse of a matrix. |\n",
    "| `linalg.pinv(a[, rcond, hermitian, rtol])` | Compute the (Moore-Penrose) pseudo-inverse of a matrix. |\n",
    "| `linalg.tensorinv(a[, ind])` | Compute the 'inverse' of an N-dimensional array. |\n"
   ]
  },
  {
   "cell_type": "markdown",
   "metadata": {},
   "source": [
    "\n",
    "### Other Matrix Operations\n",
    "\n",
    "| Function | Description |\n",
    "|----------|-------------|\n",
    "| `diagonal(a[, offset, axis1, axis2])` | Return specified diagonals. |\n",
    "| `linalg.diagonal(x[, offset])` | Returns specified diagonals of a matrix. |\n",
    "| `linalg.matrix_transpose(x)` | Transposes a matrix (or a stack of matrices). |\n"
   ]
  },
  {
   "cell_type": "markdown",
   "metadata": {},
   "source": [
    "### Code Implementation"
   ]
  },
  {
   "cell_type": "code",
   "execution_count": 12,
   "metadata": {},
   "outputs": [
    {
     "name": "stderr",
     "output_type": "stream",
     "text": [
      "/var/folders/9c/gldj5rjn0699dnx6qgv9jyqr0000gn/T/ipykernel_45686/4028088339.py:26: FutureWarning: `rcond` parameter will change to the default of machine precision times ``max(M, N)`` where M and N are the input matrix dimensions.\n",
      "To use the future default and silence this warning we advise to pass `rcond=None`, to keep using the old, explicitly pass `rcond=-1`.\n",
      "  lstsq_val, _, _, _ = linalg.lstsq(a, b)\n"
     ]
    }
   ],
   "source": [
    "import numpy as np\n",
    "from numpy import linalg\n",
    "\n",
    "# Matrix eigenvalues\n",
    "a = np.array([[1, 2], [2, 3]])\n",
    "eigvals, eigvecs = linalg.eig(a)\n",
    "eighvals, eighvecs = linalg.eigh(a)\n",
    "eigvals_general = linalg.eigvals(a)\n",
    "eigvals_hermitian = linalg.eigvalsh(a)\n",
    "\n",
    "# Norms and other numbers\n",
    "x = np.array([1, 2, 3])\n",
    "norm_val = linalg.norm(x)\n",
    "matrix_norm_val = linalg.norm(a)\n",
    "vector_norm_val = linalg.norm(x)\n",
    "cond_val = linalg.cond(a)\n",
    "det_val = linalg.det(a)\n",
    "matrix_rank_val = linalg.matrix_rank(a)\n",
    "sign, logdet_val = linalg.slogdet(a)\n",
    "trace_val = np.trace(a)\n",
    "\n",
    "# Solving equations and inverting matrices\n",
    "b = np.array([5, 7])\n",
    "solve_val = linalg.solve(a, b)\n",
    "tensor_solve_val = linalg.tensorsolve(a, b)\n",
    "lstsq_val, _, _, _ = linalg.lstsq(a, b)\n",
    "inv_val = linalg.inv(a)\n",
    "pinv_val = linalg.pinv(a)\n",
    "# tensor_inv_val = linalg.tensorinv(a)\n",
    "\n",
    "# Matrix operations\n",
    "diagonal_val = np.diagonal(a)\n",
    "transpose_val = np.transpose(a)\n",
    "\n",
    "# Dot products, outer products, and matrix products\n",
    "dot_val = np.dot(x, x)\n",
    "multi_dot_val = linalg.multi_dot([a, a, a])\n",
    "vdot_val = np.vdot(x, x)\n",
    "# vecdot_val = np.vecdot(x, x)\n",
    "inner_val = np.inner(x, x)\n",
    "outer_val = np.outer(x, x)\n",
    "matmul_val = np.matmul(a, a)\n",
    "tensor_dot_val = np.tensordot(a, a)\n",
    "\n",
    "# Einstein summation and related operations\n",
    "einsum_val = np.einsum('ij,jk->ik', a, a)\n",
    "einsum_path_val = np.einsum_path('ij,jk->ik', a, a)\n",
    "\n",
    "# Matrix powers, Kronecker product, and cross product\n",
    "matrix_power_val = linalg.matrix_power(a, 2)\n",
    "kron_val = np.kron(a, a)\n",
    "cross_val = np.cross([1, 2, 3], [4, 5, 6])\n",
    "\n",
    "# Decompositions and factorization\n",
    "# cholesky_val = linalg.cholesky(a)\n",
    "qr_val = linalg.qr(a)\n",
    "svd_u, svd_s, svd_vh = linalg.svd(a)\n",
    "# svdvals_val = linalg.svdvals(a)\n"
   ]
  },
  {
   "cell_type": "code",
   "execution_count": 13,
   "metadata": {},
   "outputs": [],
   "source": [
    "def print_results():\n",
    "    print(\"Matrix Eigenvalues:\")\n",
    "    print(f\"Eigenvalues (linalg.eig): {eigvals}\")\n",
    "    print(f\"Eigenvectors (linalg.eig): {eigvecs}\")\n",
    "    print(f\"Eigenvalues (linalg.eigh): {eighvals}\")\n",
    "    print(f\"Eigenvectors (linalg.eigh): {eighvecs}\")\n",
    "    print(f\"Eigenvalues (linalg.eigvals): {eigvals_general}\")\n",
    "    print(f\"Eigenvalues (linalg.eigvalsh): {eigvals_hermitian}\\n\")\n",
    "\n",
    "    print(\"Norms and Other Numbers:\")\n",
    "    print(f\"Vector Norm: {norm_val}\")\n",
    "    print(f\"Matrix Norm: {matrix_norm_val}\")\n",
    "    print(f\"Vector Norm (again): {vector_norm_val}\")\n",
    "    print(f\"Condition Number: {cond_val}\")\n",
    "    print(f\"Determinant: {det_val}\")\n",
    "    print(f\"Matrix Rank: {matrix_rank_val}\")\n",
    "    print(f\"Sign and Log Determinant: {sign}, {logdet_val}\")\n",
    "    print(f\"Trace: {trace_val}\\n\")\n",
    "\n",
    "    print(\"Solving Equations and Inverting Matrices:\")\n",
    "    print(f\"Solved Value: {solve_val}\")\n",
    "    print(f\"Tensor Solve Value: {tensor_solve_val}\")\n",
    "    print(f\"Least Squares Solution: {lstsq_val}\")\n",
    "    print(f\"Inverse Matrix: {inv_val}\")\n",
    "    print(f\"Pseudo-Inverse Matrix: {pinv_val}\\n\")\n",
    "\n",
    "    print(\"Matrix Operations:\")\n",
    "    print(f\"Diagonal Values: {diagonal_val}\")\n",
    "    print(f\"Transpose Matrix:\\n{transpose_val}\\n\")\n",
    "\n",
    "    print(\"Dot Products, Outer Products, and Matrix Products:\")\n",
    "    print(f\"Dot Product: {dot_val}\")\n",
    "    print(f\"Multi Dot Product: {multi_dot_val}\")\n",
    "    print(f\"Vector Dot Product: {vdot_val}\")\n",
    "    print(f\"Inner Product: {inner_val}\")\n",
    "    print(f\"Outer Product:\\n{outer_val}\")\n",
    "    print(f\"Matrix Multiplication:\\n{matmul_val}\")\n",
    "    print(f\"Tensor Dot Product:\\n{tensor_dot_val}\\n\")\n",
    "\n",
    "    print(\"Einstein Summation and Related Operations:\")\n",
    "    print(f\"Einstein Summation Result:\\n{einsum_val}\")\n",
    "    print(f\"Einstein Path Result:\\n{einsum_path_val}\\n\")\n",
    "\n",
    "    print(\"Matrix Powers, Kronecker Product, and Cross Product:\")\n",
    "    print(f\"Matrix Power:\\n{matrix_power_val}\")\n",
    "    print(f\"Kronecker Product:\\n{kron_val}\")\n",
    "    print(f\"Cross Product: {cross_val}\\n\")\n",
    "\n",
    "    print(\"Decompositions and Factorization:\")\n",
    "    print(f\"QR Factorization:\\n{qr_val}\")\n",
    "    print(f\"SVD U Matrix:\\n{svd_u}\")\n",
    "    print(f\"SVD Singular Values:\\n{svd_s}\")\n",
    "    print(f\"SVD V^H Matrix:\\n{svd_vh}\")"
   ]
  },
  {
   "cell_type": "code",
   "execution_count": 14,
   "metadata": {},
   "outputs": [
    {
     "name": "stdout",
     "output_type": "stream",
     "text": [
      "Matrix Eigenvalues:\n",
      "Eigenvalues (linalg.eig): [-0.23606798  4.23606798]\n",
      "Eigenvectors (linalg.eig): [[-0.85065081 -0.52573111]\n",
      " [ 0.52573111 -0.85065081]]\n",
      "Eigenvalues (linalg.eigh): [-0.23606798  4.23606798]\n",
      "Eigenvectors (linalg.eigh): [[-0.85065081  0.52573111]\n",
      " [ 0.52573111  0.85065081]]\n",
      "Eigenvalues (linalg.eigvals): [-0.23606798  4.23606798]\n",
      "Eigenvalues (linalg.eigvalsh): [-0.23606798  4.23606798]\n",
      "\n",
      "Norms and Other Numbers:\n",
      "Vector Norm: 3.7416573867739413\n",
      "Matrix Norm: 4.242640687119285\n",
      "Vector Norm (again): 3.7416573867739413\n",
      "Condition Number: 17.94427190999918\n",
      "Determinant: -1.0\n",
      "Matrix Rank: 2\n",
      "Sign and Log Determinant: -1.0, 0.0\n",
      "Trace: 4\n",
      "\n",
      "Solving Equations and Inverting Matrices:\n",
      "Solved Value: [-1.  3.]\n",
      "Tensor Solve Value: [-1.  3.]\n",
      "Least Squares Solution: [-1.  3.]\n",
      "Inverse Matrix: [[-3.  2.]\n",
      " [ 2. -1.]]\n",
      "Pseudo-Inverse Matrix: [[-3.  2.]\n",
      " [ 2. -1.]]\n",
      "\n",
      "Matrix Operations:\n",
      "Diagonal Values: [1 3]\n",
      "Transpose Matrix:\n",
      "[[1 2]\n",
      " [2 3]]\n",
      "\n",
      "Dot Products, Outer Products, and Matrix Products:\n",
      "Dot Product: 14\n",
      "Multi Dot Product: [[21 34]\n",
      " [34 55]]\n",
      "Vector Dot Product: 14\n",
      "Inner Product: 14\n",
      "Outer Product:\n",
      "[[1 2 3]\n",
      " [2 4 6]\n",
      " [3 6 9]]\n",
      "Matrix Multiplication:\n",
      "[[ 5  8]\n",
      " [ 8 13]]\n",
      "Tensor Dot Product:\n",
      "18\n",
      "\n",
      "Einstein Summation and Related Operations:\n",
      "Einstein Summation Result:\n",
      "[[ 5  8]\n",
      " [ 8 13]]\n",
      "Einstein Path Result:\n",
      "(['einsum_path', (0, 1)], '  Complete contraction:  ij,jk->ik\\n         Naive scaling:  3\\n     Optimized scaling:  3\\n      Naive FLOP count:  1.600e+01\\n  Optimized FLOP count:  1.700e+01\\n   Theoretical speedup:  0.941\\n  Largest intermediate:  4.000e+00 elements\\n--------------------------------------------------------------------------\\nscaling                  current                                remaining\\n--------------------------------------------------------------------------\\n   3                   jk,ij->ik                                   ik->ik')\n",
      "\n",
      "Matrix Powers, Kronecker Product, and Cross Product:\n",
      "Matrix Power:\n",
      "[[ 5  8]\n",
      " [ 8 13]]\n",
      "Kronecker Product:\n",
      "[[1 2 2 4]\n",
      " [2 3 4 6]\n",
      " [2 4 3 6]\n",
      " [4 6 6 9]]\n",
      "Cross Product: [-3  6 -3]\n",
      "\n",
      "Decompositions and Factorization:\n",
      "QR Factorization:\n",
      "QRResult(Q=array([[-0.4472136 , -0.89442719],\n",
      "       [-0.89442719,  0.4472136 ]]), R=array([[-2.23606798, -3.57770876],\n",
      "       [ 0.        , -0.4472136 ]]))\n",
      "SVD U Matrix:\n",
      "[[-0.52573111 -0.85065081]\n",
      " [-0.85065081  0.52573111]]\n",
      "SVD Singular Values:\n",
      "[4.23606798 0.23606798]\n",
      "SVD V^H Matrix:\n",
      "[[-0.52573111 -0.85065081]\n",
      " [ 0.85065081 -0.52573111]]\n"
     ]
    }
   ],
   "source": [
    "print_results()"
   ]
  },
  {
   "cell_type": "markdown",
   "metadata": {},
   "source": [
    "### Exceptions\n",
    "\n",
    "| Function | Description |\n",
    "|----------|-------------|\n",
    "| `linalg.LinAlgError` | Generic Python-exception-derived object raised by linalg functions. |"
   ]
  },
  {
   "cell_type": "markdown",
   "metadata": {},
   "source": [
    "### Linear algebra on several matrices at once"
   ]
  },
  {
   "cell_type": "markdown",
   "metadata": {},
   "source": [
    "This means that if for instance given an input array a.shape == (N, M, M), it is interpreted as a “stack” of N matrices, each of size M-by-M. . Similar specification applies to return values, for instance the determinant has det : (...) and will in this case return an array of shape det(a).shape == (N,)"
   ]
  },
  {
   "cell_type": "markdown",
   "metadata": {},
   "source": [
    "## numpy.polynomial"
   ]
  },
  {
   "cell_type": "markdown",
   "metadata": {},
   "source": [
    "## numpy.random"
   ]
  },
  {
   "cell_type": "markdown",
   "metadata": {},
   "source": [
    "## numpy.strings"
   ]
  },
  {
   "cell_type": "markdown",
   "metadata": {},
   "source": [
    "## numpy.testing"
   ]
  },
  {
   "cell_type": "markdown",
   "metadata": {},
   "source": [
    "## numpy.typing"
   ]
  },
  {
   "cell_type": "markdown",
   "metadata": {},
   "source": []
  }
 ],
 "metadata": {
  "kernelspec": {
   "display_name": "base",
   "language": "python",
   "name": "python3"
  },
  "language_info": {
   "codemirror_mode": {
    "name": "ipython",
    "version": 3
   },
   "file_extension": ".py",
   "mimetype": "text/x-python",
   "name": "python",
   "nbconvert_exporter": "python",
   "pygments_lexer": "ipython3",
   "version": "3.11.5"
  },
  "orig_nbformat": 4
 },
 "nbformat": 4,
 "nbformat_minor": 2
}
