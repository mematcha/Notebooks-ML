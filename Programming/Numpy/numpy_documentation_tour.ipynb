{
 "cells": [
  {
   "cell_type": "markdown",
   "metadata": {},
   "source": [
    "# Documentation Tour - NumPy"
   ]
  },
  {
   "cell_type": "markdown",
   "metadata": {},
   "source": [
    "NumPy is the fundamental package for scientific computing in Python. It is a Python library that provides a multidimensional array object, various derived objects (such as masked arrays and matrices), and an assortment of routines for fast operations on arrays, including mathematical, logical, shape manipulation, sorting, selecting, I/O, discrete Fourier transforms, basic linear algebra, basic statistical operations, random simulation and much more."
   ]
  },
  {
   "cell_type": "markdown",
   "metadata": {},
   "source": [
    "- [Beginner's Guide](https://numpy.org/doc/stable/user/absolute_beginners.html)\n",
    "- [User Guide](https://numpy.org/doc/stable/user/index.html#user)\n",
    "- [API Reference](https://numpy.org/doc/stable/reference/index.html#reference)\n",
    "- [Contributor's Guide](https://numpy.org/doc/stable/dev/index.html#devindex)"
   ]
  },
  {
   "cell_type": "code",
   "execution_count": null,
   "metadata": {},
   "outputs": [],
   "source": [
    "%pip install numpy"
   ]
  },
  {
   "cell_type": "markdown",
   "metadata": {},
   "source": [
    "If you get errors NOT related to installing of Numpy, you probably need not worry about that issue. Our main goal for now is to use NumPy properly and to its fullest extent. "
   ]
  },
  {
   "cell_type": "code",
   "execution_count": 1,
   "metadata": {},
   "outputs": [
    {
     "name": "stdout",
     "output_type": "stream",
     "text": [
      "Numpy Version is:  2.1.2\n"
     ]
    }
   ],
   "source": [
    "import numpy as np\n",
    "print(\"Numpy Version is: \",np.__version__)"
   ]
  },
  {
   "cell_type": "markdown",
   "metadata": {},
   "source": [
    "# NumPy Reference"
   ]
  },
  {
   "cell_type": "markdown",
   "metadata": {},
   "source": [
    "## NumPy Module Structure"
   ]
  },
  {
   "cell_type": "markdown",
   "metadata": {},
   "source": [
    "Regular Namespaces"
   ]
  },
  {
   "cell_type": "markdown",
   "metadata": {},
   "source": [
    "\n",
    "> A namespace is a collection of well-defined symbolic names along with information about the object that each name references. (Basically like a dictionary). \n",
    "\n",
    "> This is good when you are defining submodules too, they make things for interpreters to identify the specific submodule of a module to be loaded."
   ]
  },
  {
   "cell_type": "markdown",
   "metadata": {},
   "source": [
    "- numpy\n",
    "- numpy.exceptions\n",
    "- numpy.fft\n",
    "- numpy.linalg\n",
    "- numpy.polynomial\n",
    "- numpy.random\n",
    "- numpy.strings\n",
    "- numpy.testing\n",
    "- numpy.typing"
   ]
  },
  {
   "cell_type": "markdown",
   "metadata": {},
   "source": [
    "Special purpose Namespaces"
   ]
  },
  {
   "cell_type": "markdown",
   "metadata": {},
   "source": [
    "- numpy.ctypeslib - interacting with NumPy objects with ctypes \n",
    "- numpy.dtypes - dtype classes - (typically not used directly by end - users)\n",
    "- numpy.emath - mathematical functions - with automatic domain\n",
    "- numpy.lib - utilities & functionality - which do not fit the main namespace\n",
    "- numpy.rec - record arrays (largely superseded by dataframe libraries)\n",
    "- numpy.version - small module with more detailed version info"
   ]
  },
  {
   "cell_type": "markdown",
   "metadata": {},
   "source": [
    "## numpy.exceptions"
   ]
  },
  {
   "cell_type": "markdown",
   "metadata": {},
   "source": [
    "General exceptions used by Numpy. Note that some exceptions may be module specific, such as linear algebra errors."
   ]
  },
  {
   "cell_type": "markdown",
   "metadata": {},
   "source": [
    ">Only available from NumPy version 1.25"
   ]
  },
  {
   "cell_type": "code",
   "execution_count": 2,
   "metadata": {},
   "outputs": [
    {
     "data": {
      "text/plain": [
       "<module 'numpy.exceptions' from '/Users/smatcha/anaconda3/lib/python3.11/site-packages/numpy/exceptions.py'>"
      ]
     },
     "execution_count": 2,
     "metadata": {},
     "output_type": "execute_result"
    }
   ],
   "source": [
    "np.exceptions"
   ]
  },
  {
   "cell_type": "markdown",
   "metadata": {},
   "source": [
    "Warnings\n",
    "\n",
    "- ComplexWarning: The warning raised when casting a complex dtype to a real dtype.\n",
    "- Visible Depreciation Warning: Visible deprecation warning.\n",
    "- RankWarning: Warning related to Matrix Warning Issues\n",
    "\n",
    "Exceptions\n",
    "\n",
    "- AxisError: Axis Supplied was Invalid.\n",
    "- DTypePromotionError: Multiple DTypes could not be converted to a common one. Comes from a form of `TypeError`.\n",
    "- TooHardError: max_work was exceeded."
   ]
  },
  {
   "cell_type": "code",
   "execution_count": 7,
   "metadata": {},
   "outputs": [
    {
     "name": "stdout",
     "output_type": "stream",
     "text": [
      "<class 'numpy.exceptions.ComplexWarning'>\n",
      "<class 'numpy.exceptions.VisibleDeprecationWarning'>\n",
      "<class 'numpy.exceptions.RankWarning'>\n",
      "<class 'numpy.exceptions.AxisError'>\n",
      "<class 'numpy.exceptions.DTypePromotionError'>\n",
      "<class 'numpy.exceptions.TooHardError'>\n"
     ]
    }
   ],
   "source": [
    "print(np.exceptions.ComplexWarning)\n",
    "print(np.exceptions.VisibleDeprecationWarning)\n",
    "print(np.exceptions.RankWarning)\n",
    "print(np.exceptions.AxisError)\n",
    "print(np.exceptions.DTypePromotionError)\n",
    "print(np.exceptions.TooHardError)"
   ]
  },
  {
   "cell_type": "code",
   "execution_count": 17,
   "metadata": {},
   "outputs": [
    {
     "name": "stdout",
     "output_type": "stream",
     "text": [
      "(2, 2)\n",
      "[4 6]\n",
      "[3 7]\n"
     ]
    },
    {
     "ename": "AxisError",
     "evalue": "axis 2 is out of bounds for array of dimension 2",
     "output_type": "error",
     "traceback": [
      "\u001b[0;31m---------------------------------------------------------------------------\u001b[0m",
      "\u001b[0;31mAxisError\u001b[0m                                 Traceback (most recent call last)",
      "Cell \u001b[0;32mIn[17], line 9\u001b[0m\n\u001b[1;32m      7\u001b[0m _sum \u001b[39m=\u001b[39m np\u001b[39m.\u001b[39msum(array,axis\u001b[39m=\u001b[39m\u001b[39m1\u001b[39m)\n\u001b[1;32m      8\u001b[0m \u001b[39mprint\u001b[39m(_sum)\n\u001b[0;32m----> 9\u001b[0m _sum \u001b[39m=\u001b[39m np\u001b[39m.\u001b[39msum(array,axis\u001b[39m=\u001b[39m\u001b[39m2\u001b[39m) \u001b[39m# No Axis --> Should give Axis error\u001b[39;00m\n\u001b[1;32m     10\u001b[0m \u001b[39mprint\u001b[39m(_sum)\n",
      "File \u001b[0;32m~/anaconda3/lib/python3.11/site-packages/numpy/_core/fromnumeric.py:2485\u001b[0m, in \u001b[0;36msum\u001b[0;34m(a, axis, dtype, out, keepdims, initial, where)\u001b[0m\n\u001b[1;32m   2482\u001b[0m         \u001b[39mreturn\u001b[39;00m out\n\u001b[1;32m   2483\u001b[0m     \u001b[39mreturn\u001b[39;00m res\n\u001b[0;32m-> 2485\u001b[0m \u001b[39mreturn\u001b[39;00m _wrapreduction(\n\u001b[1;32m   2486\u001b[0m     a, np\u001b[39m.\u001b[39madd, \u001b[39m'\u001b[39m\u001b[39msum\u001b[39m\u001b[39m'\u001b[39m, axis, dtype, out,\n\u001b[1;32m   2487\u001b[0m     keepdims\u001b[39m=\u001b[39mkeepdims, initial\u001b[39m=\u001b[39minitial, where\u001b[39m=\u001b[39mwhere\n\u001b[1;32m   2488\u001b[0m )\n",
      "File \u001b[0;32m~/anaconda3/lib/python3.11/site-packages/numpy/_core/fromnumeric.py:86\u001b[0m, in \u001b[0;36m_wrapreduction\u001b[0;34m(obj, ufunc, method, axis, dtype, out, **kwargs)\u001b[0m\n\u001b[1;32m     83\u001b[0m         \u001b[39melse\u001b[39;00m:\n\u001b[1;32m     84\u001b[0m             \u001b[39mreturn\u001b[39;00m reduction(axis\u001b[39m=\u001b[39maxis, out\u001b[39m=\u001b[39mout, \u001b[39m*\u001b[39m\u001b[39m*\u001b[39mpasskwargs)\n\u001b[0;32m---> 86\u001b[0m \u001b[39mreturn\u001b[39;00m ufunc\u001b[39m.\u001b[39mreduce(obj, axis, dtype, out, \u001b[39m*\u001b[39m\u001b[39m*\u001b[39mpasskwargs)\n",
      "\u001b[0;31mAxisError\u001b[0m: axis 2 is out of bounds for array of dimension 2"
     ]
    }
   ],
   "source": [
    "array = np.array([(1,2),(3,4)])\n",
    "print(array.shape)\n",
    "\n",
    "#Axis Error Demostration\n",
    "_sum = np.sum(array,axis=0)\n",
    "print(_sum)\n",
    "_sum = np.sum(array,axis=1)\n",
    "print(_sum)\n",
    "_sum = np.sum(array,axis=2) # No Axis --> Should give Axis error\n",
    "print(_sum)"
   ]
  },
  {
   "cell_type": "code",
   "execution_count": 18,
   "metadata": {},
   "outputs": [
    {
     "ename": "DTypePromotionError",
     "evalue": "The DType <class 'numpy.dtypes.DateTime64DType'> could not be promoted by <class 'numpy.dtypes.Complex128DType'>. This means that no common DType exists for the given inputs. For example they cannot be stored in a single array unless the dtype is `object`. The full list of DTypes is: (<class 'numpy.dtypes.DateTime64DType'>, <class 'numpy.dtypes.Complex128DType'>)",
     "output_type": "error",
     "traceback": [
      "\u001b[0;31m---------------------------------------------------------------------------\u001b[0m",
      "\u001b[0;31mDTypePromotionError\u001b[0m                       Traceback (most recent call last)",
      "Cell \u001b[0;32mIn[18], line 1\u001b[0m\n\u001b[0;32m----> 1\u001b[0m np\u001b[39m.\u001b[39mresult_type(np\u001b[39m.\u001b[39mdtype(\u001b[39m\"\u001b[39m\u001b[39mM8[s]\u001b[39m\u001b[39m\"\u001b[39m), np\u001b[39m.\u001b[39mcomplex128)\n",
      "\u001b[0;31mDTypePromotionError\u001b[0m: The DType <class 'numpy.dtypes.DateTime64DType'> could not be promoted by <class 'numpy.dtypes.Complex128DType'>. This means that no common DType exists for the given inputs. For example they cannot be stored in a single array unless the dtype is `object`. The full list of DTypes is: (<class 'numpy.dtypes.DateTime64DType'>, <class 'numpy.dtypes.Complex128DType'>)"
     ]
    }
   ],
   "source": [
    "np.result_type(np.dtype(\"M8[s]\"), np.complex128)"
   ]
  },
  {
   "cell_type": "code",
   "execution_count": 20,
   "metadata": {},
   "outputs": [
    {
     "ename": "DTypePromotionError",
     "evalue": "field names `('field1', 'field2')` and `('field1',)` mismatch.",
     "output_type": "error",
     "traceback": [
      "\u001b[0;31m---------------------------------------------------------------------------\u001b[0m",
      "\u001b[0;31mDTypePromotionError\u001b[0m                       Traceback (most recent call last)",
      "Cell \u001b[0;32mIn[20], line 3\u001b[0m\n\u001b[1;32m      1\u001b[0m dtype1 \u001b[39m=\u001b[39m np\u001b[39m.\u001b[39mdtype([(\u001b[39m\"\u001b[39m\u001b[39mfield1\u001b[39m\u001b[39m\"\u001b[39m, np\u001b[39m.\u001b[39mfloat64), (\u001b[39m\"\u001b[39m\u001b[39mfield2\u001b[39m\u001b[39m\"\u001b[39m, np\u001b[39m.\u001b[39mint64)])\n\u001b[1;32m      2\u001b[0m dtype2 \u001b[39m=\u001b[39m np\u001b[39m.\u001b[39mdtype([(\u001b[39m\"\u001b[39m\u001b[39mfield1\u001b[39m\u001b[39m\"\u001b[39m, np\u001b[39m.\u001b[39mfloat64)])\n\u001b[0;32m----> 3\u001b[0m np\u001b[39m.\u001b[39mpromote_types(dtype1, dtype2)\n",
      "File \u001b[0;32m~/anaconda3/lib/python3.11/site-packages/numpy/_core/_internal.py:471\u001b[0m, in \u001b[0;36m_promote_fields\u001b[0;34m(dt1, dt2)\u001b[0m\n\u001b[1;32m    469\u001b[0m \u001b[39m# Both must be structured and have the same names in the same order\u001b[39;00m\n\u001b[1;32m    470\u001b[0m \u001b[39mif\u001b[39;00m (dt1\u001b[39m.\u001b[39mnames \u001b[39mis\u001b[39;00m \u001b[39mNone\u001b[39;00m \u001b[39mor\u001b[39;00m dt2\u001b[39m.\u001b[39mnames \u001b[39mis\u001b[39;00m \u001b[39mNone\u001b[39;00m) \u001b[39mor\u001b[39;00m dt1\u001b[39m.\u001b[39mnames \u001b[39m!=\u001b[39m dt2\u001b[39m.\u001b[39mnames:\n\u001b[0;32m--> 471\u001b[0m     \u001b[39mraise\u001b[39;00m DTypePromotionError(\n\u001b[1;32m    472\u001b[0m             \u001b[39mf\u001b[39m\u001b[39m\"\u001b[39m\u001b[39mfield names `\u001b[39m\u001b[39m{\u001b[39;00mdt1\u001b[39m.\u001b[39mnames\u001b[39m}\u001b[39;00m\u001b[39m` and `\u001b[39m\u001b[39m{\u001b[39;00mdt2\u001b[39m.\u001b[39mnames\u001b[39m}\u001b[39;00m\u001b[39m` mismatch.\u001b[39m\u001b[39m\"\u001b[39m)\n\u001b[1;32m    474\u001b[0m \u001b[39m# if both are identical, we can (maybe!) just return the same dtype.\u001b[39;00m\n\u001b[1;32m    475\u001b[0m identical \u001b[39m=\u001b[39m dt1 \u001b[39mis\u001b[39;00m dt2\n",
      "\u001b[0;31mDTypePromotionError\u001b[0m: field names `('field1', 'field2')` and `('field1',)` mismatch."
     ]
    }
   ],
   "source": [
    "dtype1 = np.dtype([(\"field1\", np.float64), (\"field2\", np.int64)])\n",
    "dtype2 = np.dtype([(\"field1\", np.float64)])\n",
    "np.promote_types(dtype1, dtype2)  "
   ]
  },
  {
   "cell_type": "code",
   "execution_count": 19,
   "metadata": {},
   "outputs": [],
   "source": [
    "# Will provide an example for TooHardError"
   ]
  },
  {
   "cell_type": "markdown",
   "metadata": {},
   "source": [
    "## numpy.fft"
   ]
  },
  {
   "cell_type": "markdown",
   "metadata": {},
   "source": [
    "## numpy.linalg"
   ]
  },
  {
   "cell_type": "markdown",
   "metadata": {},
   "source": [
    "## numpy.polynomial"
   ]
  },
  {
   "cell_type": "markdown",
   "metadata": {},
   "source": [
    "## numpy.random"
   ]
  },
  {
   "cell_type": "markdown",
   "metadata": {},
   "source": [
    "## numpy.strings"
   ]
  },
  {
   "cell_type": "markdown",
   "metadata": {},
   "source": [
    "## numpy.testing"
   ]
  },
  {
   "cell_type": "markdown",
   "metadata": {},
   "source": [
    "## numpy.typing"
   ]
  },
  {
   "cell_type": "markdown",
   "metadata": {},
   "source": []
  }
 ],
 "metadata": {
  "kernelspec": {
   "display_name": "base",
   "language": "python",
   "name": "python3"
  },
  "language_info": {
   "codemirror_mode": {
    "name": "ipython",
    "version": 3
   },
   "file_extension": ".py",
   "mimetype": "text/x-python",
   "name": "python",
   "nbconvert_exporter": "python",
   "pygments_lexer": "ipython3",
   "version": "3.11.5"
  },
  "orig_nbformat": 4
 },
 "nbformat": 4,
 "nbformat_minor": 2
}
